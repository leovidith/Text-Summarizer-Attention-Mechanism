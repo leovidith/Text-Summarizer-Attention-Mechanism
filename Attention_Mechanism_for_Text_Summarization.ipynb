{
  "cells": [
    {
      "cell_type": "code",
      "source": [
        "!kaggle datasets download -d nileshmalode1/samsum-dataset-text-summarization"
      ],
      "metadata": {
        "colab": {
          "base_uri": "https://localhost:8080/"
        },
        "id": "Ep03zpSE383v",
        "outputId": "67003377-31c7-4101-e616-65e7fc3e824a"
      },
      "id": "Ep03zpSE383v",
      "execution_count": null,
      "outputs": [
        {
          "output_type": "stream",
          "name": "stdout",
          "text": [
            "Dataset URL: https://www.kaggle.com/datasets/nileshmalode1/samsum-dataset-text-summarization\n",
            "License(s): unknown\n",
            "Downloading samsum-dataset-text-summarization.zip to /content\n",
            " 63% 5.00M/7.99M [00:00<00:00, 51.6MB/s]\n",
            "100% 7.99M/7.99M [00:00<00:00, 52.3MB/s]\n"
          ]
        }
      ]
    },
    {
      "cell_type": "code",
      "source": [
        "!unzip samsum-dataset-text-summarization.zip"
      ],
      "metadata": {
        "colab": {
          "base_uri": "https://localhost:8080/"
        },
        "id": "zMuAyYIC4Yuj",
        "outputId": "c38cdcf5-e9fc-4524-d507-0c9ba6b261ea"
      },
      "id": "zMuAyYIC4Yuj",
      "execution_count": null,
      "outputs": [
        {
          "output_type": "stream",
          "name": "stdout",
          "text": [
            "Archive:  samsum-dataset-text-summarization.zip\n",
            "  inflating: samsum-test.csv         \n",
            "  inflating: samsum-train.csv        \n",
            "  inflating: samsum-validation.csv   \n",
            "  inflating: samsum_dataset/dataset_dict.json  \n",
            "  inflating: samsum_dataset/test/data-00000-of-00001.arrow  \n",
            "  inflating: samsum_dataset/test/dataset_info.json  \n",
            "  inflating: samsum_dataset/test/state.json  \n",
            "  inflating: samsum_dataset/train/data-00000-of-00001.arrow  \n",
            "  inflating: samsum_dataset/train/dataset_info.json  \n",
            "  inflating: samsum_dataset/train/state.json  \n",
            "  inflating: samsum_dataset/validation/data-00000-of-00001.arrow  \n",
            "  inflating: samsum_dataset/validation/dataset_info.json  \n",
            "  inflating: samsum_dataset/validation/state.json  \n"
          ]
        }
      ]
    },
    {
      "cell_type": "markdown",
      "id": "f62d2df5",
      "metadata": {
        "papermill": {
          "duration": 0.01677,
          "end_time": "2024-09-27T11:56:14.754299",
          "exception": false,
          "start_time": "2024-09-27T11:56:14.737529",
          "status": "completed"
        },
        "tags": [],
        "id": "f62d2df5"
      },
      "source": [
        "## Import Dependencies"
      ]
    },
    {
      "cell_type": "code",
      "execution_count": null,
      "id": "558301a7",
      "metadata": {
        "execution": {
          "iopub.execute_input": "2024-09-27T11:56:14.790317Z",
          "iopub.status.busy": "2024-09-27T11:56:14.789572Z",
          "iopub.status.idle": "2024-09-27T11:56:29.068175Z",
          "shell.execute_reply": "2024-09-27T11:56:29.067088Z"
        },
        "papermill": {
          "duration": 14.299449,
          "end_time": "2024-09-27T11:56:29.070765",
          "exception": false,
          "start_time": "2024-09-27T11:56:14.771316",
          "status": "completed"
        },
        "tags": [],
        "id": "558301a7",
        "outputId": "8f9ee449-4da5-453e-c18b-278d88edfc7c",
        "colab": {
          "base_uri": "https://localhost:8080/"
        }
      },
      "outputs": [
        {
          "output_type": "stream",
          "name": "stdout",
          "text": [
            "Collecting contractions\n",
            "  Downloading contractions-0.1.73-py2.py3-none-any.whl.metadata (1.2 kB)\n",
            "Collecting textsearch>=0.0.21 (from contractions)\n",
            "  Downloading textsearch-0.0.24-py2.py3-none-any.whl.metadata (1.2 kB)\n",
            "Collecting anyascii (from textsearch>=0.0.21->contractions)\n",
            "  Downloading anyascii-0.3.2-py3-none-any.whl.metadata (1.5 kB)\n",
            "Collecting pyahocorasick (from textsearch>=0.0.21->contractions)\n",
            "  Downloading pyahocorasick-2.1.0-cp311-cp311-manylinux_2_17_x86_64.manylinux2014_x86_64.whl.metadata (13 kB)\n",
            "Downloading contractions-0.1.73-py2.py3-none-any.whl (8.7 kB)\n",
            "Downloading textsearch-0.0.24-py2.py3-none-any.whl (7.6 kB)\n",
            "Downloading anyascii-0.3.2-py3-none-any.whl (289 kB)\n",
            "\u001b[2K   \u001b[90m━━━━━━━━━━━━━━━━━━━━━━━━━━━━━━━━━━━━━━━━\u001b[0m \u001b[32m289.9/289.9 kB\u001b[0m \u001b[31m7.7 MB/s\u001b[0m eta \u001b[36m0:00:00\u001b[0m\n",
            "\u001b[?25hDownloading pyahocorasick-2.1.0-cp311-cp311-manylinux_2_17_x86_64.manylinux2014_x86_64.whl (118 kB)\n",
            "\u001b[2K   \u001b[90m━━━━━━━━━━━━━━━━━━━━━━━━━━━━━━━━━━━━━━━━\u001b[0m \u001b[32m118.3/118.3 kB\u001b[0m \u001b[31m11.8 MB/s\u001b[0m eta \u001b[36m0:00:00\u001b[0m\n",
            "\u001b[?25hInstalling collected packages: pyahocorasick, anyascii, textsearch, contractions\n",
            "Successfully installed anyascii-0.3.2 contractions-0.1.73 pyahocorasick-2.1.0 textsearch-0.0.24\n"
          ]
        }
      ],
      "source": [
        "!pip install contractions"
      ]
    },
    {
      "cell_type": "code",
      "execution_count": null,
      "id": "ef10b35e",
      "metadata": {
        "execution": {
          "iopub.execute_input": "2024-09-27T11:56:40.590258Z",
          "iopub.status.busy": "2024-09-27T11:56:40.589641Z",
          "iopub.status.idle": "2024-09-27T11:56:42.689486Z",
          "shell.execute_reply": "2024-09-27T11:56:42.688495Z"
        },
        "papermill": {
          "duration": 2.121519,
          "end_time": "2024-09-27T11:56:42.691386",
          "exception": false,
          "start_time": "2024-09-27T11:56:40.569867",
          "status": "completed"
        },
        "tags": [],
        "id": "ef10b35e",
        "outputId": "0a15a0ac-3974-4b12-c2be-9b104702ae6f",
        "colab": {
          "base_uri": "https://localhost:8080/"
        }
      },
      "outputs": [
        {
          "output_type": "stream",
          "name": "stderr",
          "text": [
            "[nltk_data] Downloading package wordnet to /root/nltk_data...\n"
          ]
        },
        {
          "output_type": "execute_result",
          "data": {
            "text/plain": [
              "True"
            ]
          },
          "metadata": {},
          "execution_count": 4
        }
      ],
      "source": [
        "from textblob import Word\n",
        "import nltk\n",
        "nltk.download('wordnet')"
      ]
    },
    {
      "cell_type": "code",
      "execution_count": null,
      "id": "fd9ba2c1",
      "metadata": {
        "execution": {
          "iopub.execute_input": "2024-09-27T11:56:42.730688Z",
          "iopub.status.busy": "2024-09-27T11:56:42.729903Z",
          "iopub.status.idle": "2024-09-27T11:57:18.173839Z",
          "shell.execute_reply": "2024-09-27T11:57:18.172880Z"
        },
        "papermill": {
          "duration": 35.483676,
          "end_time": "2024-09-27T11:57:18.194139",
          "exception": false,
          "start_time": "2024-09-27T11:56:42.710463",
          "status": "completed"
        },
        "tags": [],
        "id": "fd9ba2c1"
      },
      "outputs": [],
      "source": [
        "import numpy as np\n",
        "import pandas as pd\n",
        "\n",
        "import seaborn as sns\n",
        "import matplotlib.pyplot as plt\n",
        "sns.set(style=\"white\",font_scale=1.5)\n",
        "sns.set(rc={\"axes.facecolor\":\"#FFFAF0\",\"figure.facecolor\":\"#FFFAF0\"})\n",
        "sns.set_context(\"poster\",font_scale = .7)\n",
        "\n",
        "import contractions\n",
        "from sklearn.feature_extraction.text import CountVectorizer\n",
        "from sklearn.preprocessing import LabelBinarizer\n",
        "from nltk.corpus import stopwords\n",
        "from nltk.stem.porter import PorterStemmer\n",
        "from wordcloud import WordCloud,STOPWORDS\n",
        "from nltk.stem import WordNetLemmatizer\n",
        "from nltk.tokenize import word_tokenize,sent_tokenize\n",
        "import spacy\n",
        "import math\n",
        "from gensim.models import Word2Vec\n",
        "from sklearn.feature_extraction.text import TfidfVectorizer\n",
        "from joblib import Parallel, delayed\n",
        "import re,string,unicodedata\n",
        "from sklearn.model_selection import train_test_split\n",
        "from textblob import TextBlob\n",
        "from scipy.sparse import lil_matrix\n",
        "from tensorflow.keras.preprocessing.sequence import pad_sequences\n",
        "from nltk import pos_tag\n",
        "\n",
        "from tensorflow.keras.regularizers import l2\n",
        "import tensorflow\n",
        "import keras\n",
        "from keras import layers\n",
        "from tensorflow.keras.preprocessing.text import Tokenizer\n",
        "from keras.models import Sequential,Model\n",
        "from keras.layers import SimpleRNN,LSTM,GRU, Embedding, Dense, SpatialDropout1D, Dropout, BatchNormalization, Bidirectional, Attention, Input, Concatenate\n",
        "from sklearn.metrics import accuracy_score\n",
        "from tensorflow.keras.initializers import GlorotUniform\n",
        "from tensorflow.keras.optimizers import Adam\n",
        "\n",
        "import warnings\n",
        "warnings.filterwarnings('ignore')"
      ]
    },
    {
      "cell_type": "markdown",
      "source": [
        "## Fetch the Dataset\n"
      ],
      "metadata": {
        "id": "iYc4iKRG2p1S"
      },
      "id": "iYc4iKRG2p1S"
    },
    {
      "cell_type": "code",
      "execution_count": null,
      "id": "725f106e",
      "metadata": {
        "execution": {
          "iopub.execute_input": "2024-09-27T11:57:18.271688Z",
          "iopub.status.busy": "2024-09-27T11:57:18.270791Z",
          "iopub.status.idle": "2024-09-27T11:57:18.597014Z",
          "shell.execute_reply": "2024-09-27T11:57:18.596212Z"
        },
        "papermill": {
          "duration": 0.348597,
          "end_time": "2024-09-27T11:57:18.599409",
          "exception": false,
          "start_time": "2024-09-27T11:57:18.250812",
          "status": "completed"
        },
        "tags": [],
        "id": "725f106e"
      },
      "outputs": [],
      "source": [
        "train_df = pd.read_csv('samsum-train.csv')\n",
        "test_df = pd.read_csv('samsum-test.csv')"
      ]
    },
    {
      "cell_type": "code",
      "execution_count": null,
      "id": "d4d7f283",
      "metadata": {
        "execution": {
          "iopub.execute_input": "2024-09-27T11:57:18.639119Z",
          "iopub.status.busy": "2024-09-27T11:57:18.638768Z",
          "iopub.status.idle": "2024-09-27T11:57:18.661839Z",
          "shell.execute_reply": "2024-09-27T11:57:18.660981Z"
        },
        "papermill": {
          "duration": 0.044949,
          "end_time": "2024-09-27T11:57:18.663818",
          "exception": false,
          "start_time": "2024-09-27T11:57:18.618869",
          "status": "completed"
        },
        "tags": [],
        "id": "d4d7f283",
        "outputId": "e9d17cef-736f-4a56-9acb-a2cabeb19d02",
        "colab": {
          "base_uri": "https://localhost:8080/",
          "height": 206
        }
      },
      "outputs": [
        {
          "output_type": "execute_result",
          "data": {
            "text/plain": [
              "               id                                           dialogue  \\\n",
              "8915   13730861-1  George: Goodness, finally home!\\r\\nGeorge: the...   \n",
              "1614     13819605  Joanna: Feel free to come over, I have made a ...   \n",
              "633      13716131  Erica: Guys, I'm trying MarieKondo now so if y...   \n",
              "13946    13681657  Jess: need a new pillow\\r\\nJess: the one I hav...   \n",
              "11602    13865029  Love: The party was awesome!\\nJesus: Oh yes \\n...   \n",
              "\n",
              "                                                 summary  \n",
              "8915   George is home after a long journey. He and Su...  \n",
              "1614   Joanna's parents came over this weekend and le...  \n",
              "633    Erica needs free jars to try MarieKondo method...  \n",
              "13946  Jess and Sunny are going shopping for a new pi...  \n",
              "11602  Love and Jesus were at the awesome party. Arms...  "
            ],
            "text/html": [
              "\n",
              "  <div id=\"df-add7ab63-2fa9-40ba-9422-4fa6868b9621\" class=\"colab-df-container\">\n",
              "    <div>\n",
              "<style scoped>\n",
              "    .dataframe tbody tr th:only-of-type {\n",
              "        vertical-align: middle;\n",
              "    }\n",
              "\n",
              "    .dataframe tbody tr th {\n",
              "        vertical-align: top;\n",
              "    }\n",
              "\n",
              "    .dataframe thead th {\n",
              "        text-align: right;\n",
              "    }\n",
              "</style>\n",
              "<table border=\"1\" class=\"dataframe\">\n",
              "  <thead>\n",
              "    <tr style=\"text-align: right;\">\n",
              "      <th></th>\n",
              "      <th>id</th>\n",
              "      <th>dialogue</th>\n",
              "      <th>summary</th>\n",
              "    </tr>\n",
              "  </thead>\n",
              "  <tbody>\n",
              "    <tr>\n",
              "      <th>8915</th>\n",
              "      <td>13730861-1</td>\n",
              "      <td>George: Goodness, finally home!\\r\\nGeorge: the...</td>\n",
              "      <td>George is home after a long journey. He and Su...</td>\n",
              "    </tr>\n",
              "    <tr>\n",
              "      <th>1614</th>\n",
              "      <td>13819605</td>\n",
              "      <td>Joanna: Feel free to come over, I have made a ...</td>\n",
              "      <td>Joanna's parents came over this weekend and le...</td>\n",
              "    </tr>\n",
              "    <tr>\n",
              "      <th>633</th>\n",
              "      <td>13716131</td>\n",
              "      <td>Erica: Guys, I'm trying MarieKondo now so if y...</td>\n",
              "      <td>Erica needs free jars to try MarieKondo method...</td>\n",
              "    </tr>\n",
              "    <tr>\n",
              "      <th>13946</th>\n",
              "      <td>13681657</td>\n",
              "      <td>Jess: need a new pillow\\r\\nJess: the one I hav...</td>\n",
              "      <td>Jess and Sunny are going shopping for a new pi...</td>\n",
              "    </tr>\n",
              "    <tr>\n",
              "      <th>11602</th>\n",
              "      <td>13865029</td>\n",
              "      <td>Love: The party was awesome!\\nJesus: Oh yes \\n...</td>\n",
              "      <td>Love and Jesus were at the awesome party. Arms...</td>\n",
              "    </tr>\n",
              "  </tbody>\n",
              "</table>\n",
              "</div>\n",
              "    <div class=\"colab-df-buttons\">\n",
              "\n",
              "  <div class=\"colab-df-container\">\n",
              "    <button class=\"colab-df-convert\" onclick=\"convertToInteractive('df-add7ab63-2fa9-40ba-9422-4fa6868b9621')\"\n",
              "            title=\"Convert this dataframe to an interactive table.\"\n",
              "            style=\"display:none;\">\n",
              "\n",
              "  <svg xmlns=\"http://www.w3.org/2000/svg\" height=\"24px\" viewBox=\"0 -960 960 960\">\n",
              "    <path d=\"M120-120v-720h720v720H120Zm60-500h600v-160H180v160Zm220 220h160v-160H400v160Zm0 220h160v-160H400v160ZM180-400h160v-160H180v160Zm440 0h160v-160H620v160ZM180-180h160v-160H180v160Zm440 0h160v-160H620v160Z\"/>\n",
              "  </svg>\n",
              "    </button>\n",
              "\n",
              "  <style>\n",
              "    .colab-df-container {\n",
              "      display:flex;\n",
              "      gap: 12px;\n",
              "    }\n",
              "\n",
              "    .colab-df-convert {\n",
              "      background-color: #E8F0FE;\n",
              "      border: none;\n",
              "      border-radius: 50%;\n",
              "      cursor: pointer;\n",
              "      display: none;\n",
              "      fill: #1967D2;\n",
              "      height: 32px;\n",
              "      padding: 0 0 0 0;\n",
              "      width: 32px;\n",
              "    }\n",
              "\n",
              "    .colab-df-convert:hover {\n",
              "      background-color: #E2EBFA;\n",
              "      box-shadow: 0px 1px 2px rgba(60, 64, 67, 0.3), 0px 1px 3px 1px rgba(60, 64, 67, 0.15);\n",
              "      fill: #174EA6;\n",
              "    }\n",
              "\n",
              "    .colab-df-buttons div {\n",
              "      margin-bottom: 4px;\n",
              "    }\n",
              "\n",
              "    [theme=dark] .colab-df-convert {\n",
              "      background-color: #3B4455;\n",
              "      fill: #D2E3FC;\n",
              "    }\n",
              "\n",
              "    [theme=dark] .colab-df-convert:hover {\n",
              "      background-color: #434B5C;\n",
              "      box-shadow: 0px 1px 3px 1px rgba(0, 0, 0, 0.15);\n",
              "      filter: drop-shadow(0px 1px 2px rgba(0, 0, 0, 0.3));\n",
              "      fill: #FFFFFF;\n",
              "    }\n",
              "  </style>\n",
              "\n",
              "    <script>\n",
              "      const buttonEl =\n",
              "        document.querySelector('#df-add7ab63-2fa9-40ba-9422-4fa6868b9621 button.colab-df-convert');\n",
              "      buttonEl.style.display =\n",
              "        google.colab.kernel.accessAllowed ? 'block' : 'none';\n",
              "\n",
              "      async function convertToInteractive(key) {\n",
              "        const element = document.querySelector('#df-add7ab63-2fa9-40ba-9422-4fa6868b9621');\n",
              "        const dataTable =\n",
              "          await google.colab.kernel.invokeFunction('convertToInteractive',\n",
              "                                                    [key], {});\n",
              "        if (!dataTable) return;\n",
              "\n",
              "        const docLinkHtml = 'Like what you see? Visit the ' +\n",
              "          '<a target=\"_blank\" href=https://colab.research.google.com/notebooks/data_table.ipynb>data table notebook</a>'\n",
              "          + ' to learn more about interactive tables.';\n",
              "        element.innerHTML = '';\n",
              "        dataTable['output_type'] = 'display_data';\n",
              "        await google.colab.output.renderOutput(dataTable, element);\n",
              "        const docLink = document.createElement('div');\n",
              "        docLink.innerHTML = docLinkHtml;\n",
              "        element.appendChild(docLink);\n",
              "      }\n",
              "    </script>\n",
              "  </div>\n",
              "\n",
              "\n",
              "<div id=\"df-7a4ddee6-2b34-4de8-80f3-d8cf4f64e8fa\">\n",
              "  <button class=\"colab-df-quickchart\" onclick=\"quickchart('df-7a4ddee6-2b34-4de8-80f3-d8cf4f64e8fa')\"\n",
              "            title=\"Suggest charts\"\n",
              "            style=\"display:none;\">\n",
              "\n",
              "<svg xmlns=\"http://www.w3.org/2000/svg\" height=\"24px\"viewBox=\"0 0 24 24\"\n",
              "     width=\"24px\">\n",
              "    <g>\n",
              "        <path d=\"M19 3H5c-1.1 0-2 .9-2 2v14c0 1.1.9 2 2 2h14c1.1 0 2-.9 2-2V5c0-1.1-.9-2-2-2zM9 17H7v-7h2v7zm4 0h-2V7h2v10zm4 0h-2v-4h2v4z\"/>\n",
              "    </g>\n",
              "</svg>\n",
              "  </button>\n",
              "\n",
              "<style>\n",
              "  .colab-df-quickchart {\n",
              "      --bg-color: #E8F0FE;\n",
              "      --fill-color: #1967D2;\n",
              "      --hover-bg-color: #E2EBFA;\n",
              "      --hover-fill-color: #174EA6;\n",
              "      --disabled-fill-color: #AAA;\n",
              "      --disabled-bg-color: #DDD;\n",
              "  }\n",
              "\n",
              "  [theme=dark] .colab-df-quickchart {\n",
              "      --bg-color: #3B4455;\n",
              "      --fill-color: #D2E3FC;\n",
              "      --hover-bg-color: #434B5C;\n",
              "      --hover-fill-color: #FFFFFF;\n",
              "      --disabled-bg-color: #3B4455;\n",
              "      --disabled-fill-color: #666;\n",
              "  }\n",
              "\n",
              "  .colab-df-quickchart {\n",
              "    background-color: var(--bg-color);\n",
              "    border: none;\n",
              "    border-radius: 50%;\n",
              "    cursor: pointer;\n",
              "    display: none;\n",
              "    fill: var(--fill-color);\n",
              "    height: 32px;\n",
              "    padding: 0;\n",
              "    width: 32px;\n",
              "  }\n",
              "\n",
              "  .colab-df-quickchart:hover {\n",
              "    background-color: var(--hover-bg-color);\n",
              "    box-shadow: 0 1px 2px rgba(60, 64, 67, 0.3), 0 1px 3px 1px rgba(60, 64, 67, 0.15);\n",
              "    fill: var(--button-hover-fill-color);\n",
              "  }\n",
              "\n",
              "  .colab-df-quickchart-complete:disabled,\n",
              "  .colab-df-quickchart-complete:disabled:hover {\n",
              "    background-color: var(--disabled-bg-color);\n",
              "    fill: var(--disabled-fill-color);\n",
              "    box-shadow: none;\n",
              "  }\n",
              "\n",
              "  .colab-df-spinner {\n",
              "    border: 2px solid var(--fill-color);\n",
              "    border-color: transparent;\n",
              "    border-bottom-color: var(--fill-color);\n",
              "    animation:\n",
              "      spin 1s steps(1) infinite;\n",
              "  }\n",
              "\n",
              "  @keyframes spin {\n",
              "    0% {\n",
              "      border-color: transparent;\n",
              "      border-bottom-color: var(--fill-color);\n",
              "      border-left-color: var(--fill-color);\n",
              "    }\n",
              "    20% {\n",
              "      border-color: transparent;\n",
              "      border-left-color: var(--fill-color);\n",
              "      border-top-color: var(--fill-color);\n",
              "    }\n",
              "    30% {\n",
              "      border-color: transparent;\n",
              "      border-left-color: var(--fill-color);\n",
              "      border-top-color: var(--fill-color);\n",
              "      border-right-color: var(--fill-color);\n",
              "    }\n",
              "    40% {\n",
              "      border-color: transparent;\n",
              "      border-right-color: var(--fill-color);\n",
              "      border-top-color: var(--fill-color);\n",
              "    }\n",
              "    60% {\n",
              "      border-color: transparent;\n",
              "      border-right-color: var(--fill-color);\n",
              "    }\n",
              "    80% {\n",
              "      border-color: transparent;\n",
              "      border-right-color: var(--fill-color);\n",
              "      border-bottom-color: var(--fill-color);\n",
              "    }\n",
              "    90% {\n",
              "      border-color: transparent;\n",
              "      border-bottom-color: var(--fill-color);\n",
              "    }\n",
              "  }\n",
              "</style>\n",
              "\n",
              "  <script>\n",
              "    async function quickchart(key) {\n",
              "      const quickchartButtonEl =\n",
              "        document.querySelector('#' + key + ' button');\n",
              "      quickchartButtonEl.disabled = true;  // To prevent multiple clicks.\n",
              "      quickchartButtonEl.classList.add('colab-df-spinner');\n",
              "      try {\n",
              "        const charts = await google.colab.kernel.invokeFunction(\n",
              "            'suggestCharts', [key], {});\n",
              "      } catch (error) {\n",
              "        console.error('Error during call to suggestCharts:', error);\n",
              "      }\n",
              "      quickchartButtonEl.classList.remove('colab-df-spinner');\n",
              "      quickchartButtonEl.classList.add('colab-df-quickchart-complete');\n",
              "    }\n",
              "    (() => {\n",
              "      let quickchartButtonEl =\n",
              "        document.querySelector('#df-7a4ddee6-2b34-4de8-80f3-d8cf4f64e8fa button');\n",
              "      quickchartButtonEl.style.display =\n",
              "        google.colab.kernel.accessAllowed ? 'block' : 'none';\n",
              "    })();\n",
              "  </script>\n",
              "</div>\n",
              "\n",
              "    </div>\n",
              "  </div>\n"
            ],
            "application/vnd.google.colaboratory.intrinsic+json": {
              "type": "dataframe",
              "summary": "{\n  \"name\": \"train_df\",\n  \"rows\": 5,\n  \"fields\": [\n    {\n      \"column\": \"id\",\n      \"properties\": {\n        \"dtype\": \"string\",\n        \"num_unique_values\": 5,\n        \"samples\": [\n          \"13819605\",\n          \"13865029\",\n          \"13716131\"\n        ],\n        \"semantic_type\": \"\",\n        \"description\": \"\"\n      }\n    },\n    {\n      \"column\": \"dialogue\",\n      \"properties\": {\n        \"dtype\": \"string\",\n        \"num_unique_values\": 5,\n        \"samples\": [\n          \"Joanna: Feel free to come over, I have made a lot of apple pie :p\\r\\nJoanna:  <file_photo>\\r\\nUla: How come?\\r\\nJoanna: My family visited this weekend and left me a ton of apples :)\\r\\nJacek: The invitation is for real? Because I will go anywhere for home-made apple pie :D\\r\\nJoanna: Absolutely :)\\r\\nJacek: Me and Alex will come after class\\r\\nJoanna: And you Ula?\\r\\nUla: I will see if I find time after work, but probably :)\",\n          \"Love: The party was awesome!\\nJesus: Oh yes \\nArmstrong: What did I miss?\\nJesus: So much!! \",\n          \"Erica: Guys, I'm trying MarieKondo now so if you have any free jars after jam or anything I'll be happy to use them\\r\\nIngrid: what for?\\r\\nNicole: MarieKondo is for decluttering\\r\\nErica: <file_photo>\\r\\nErica: it looks like this\\r\\nIngrid: looks nice, but I wouldn't have patience for it\\r\\nNicole: I think I have a jar or two \\r\\nIngrid: I don't think I have anything like this but next time I'll buy ketchup I'll pick glass jar\\r\\nErica: thanks, I'll appreciate it!\"\n        ],\n        \"semantic_type\": \"\",\n        \"description\": \"\"\n      }\n    },\n    {\n      \"column\": \"summary\",\n      \"properties\": {\n        \"dtype\": \"string\",\n        \"num_unique_values\": 5,\n        \"samples\": [\n          \"Joanna's parents came over this weekend and left her a lot of apples so she made an apple pie. Jacek and Alex will come and try it after class. Ula will too, if she is free after work.\",\n          \"Love and Jesus were at the awesome party. Armstrong missed it.\",\n          \"Erica needs free jars to try MarieKondo method. Nicole and Ingrid don't have any, but Ingrid will pick a glass jar next time she buys ketchup.\"\n        ],\n        \"semantic_type\": \"\",\n        \"description\": \"\"\n      }\n    }\n  ]\n}"
            }
          },
          "metadata": {},
          "execution_count": 7
        }
      ],
      "source": [
        "train_df.sample(5)"
      ]
    },
    {
      "cell_type": "code",
      "execution_count": null,
      "id": "c15d3644",
      "metadata": {
        "execution": {
          "iopub.execute_input": "2024-09-27T11:57:18.702726Z",
          "iopub.status.busy": "2024-09-27T11:57:18.702448Z",
          "iopub.status.idle": "2024-09-27T11:57:18.712096Z",
          "shell.execute_reply": "2024-09-27T11:57:18.711211Z"
        },
        "papermill": {
          "duration": 0.03134,
          "end_time": "2024-09-27T11:57:18.714067",
          "exception": false,
          "start_time": "2024-09-27T11:57:18.682727",
          "status": "completed"
        },
        "tags": [],
        "id": "c15d3644",
        "outputId": "6d75aae7-a9f8-48a7-bee0-5a8fd54775bf",
        "colab": {
          "base_uri": "https://localhost:8080/",
          "height": 206
        }
      },
      "outputs": [
        {
          "output_type": "execute_result",
          "data": {
            "text/plain": [
              "           id                                           dialogue  \\\n",
              "448  13821588  Reeve: any plans for winter break?\\r\\nWinslow:...   \n",
              "648  13865481  May: Just received a text from Harry he'll be ...   \n",
              "509  13729534  Marco: hi there! is this yours?\\r\\nMarco: <fil...   \n",
              "73   13681586  Mia: babe, do you mind if i go out after work ...   \n",
              "574  13864673  Damian: guys did u watch Chelsea game\\nJacob: ...   \n",
              "\n",
              "                                               summary  \n",
              "448  Reeve has no plans for the winter break. Booke...  \n",
              "648  Henry and Peter will be late for a birthday pa...  \n",
              "509  Sandra bought a present for Milla right before...  \n",
              "73   Mia is going out after work tonight with her f...  \n",
              "574  Chelsea won a game with Huddersfield this afte...  "
            ],
            "text/html": [
              "\n",
              "  <div id=\"df-f9c4a47e-b5e8-4ce4-9ac1-44b9be8e3ee4\" class=\"colab-df-container\">\n",
              "    <div>\n",
              "<style scoped>\n",
              "    .dataframe tbody tr th:only-of-type {\n",
              "        vertical-align: middle;\n",
              "    }\n",
              "\n",
              "    .dataframe tbody tr th {\n",
              "        vertical-align: top;\n",
              "    }\n",
              "\n",
              "    .dataframe thead th {\n",
              "        text-align: right;\n",
              "    }\n",
              "</style>\n",
              "<table border=\"1\" class=\"dataframe\">\n",
              "  <thead>\n",
              "    <tr style=\"text-align: right;\">\n",
              "      <th></th>\n",
              "      <th>id</th>\n",
              "      <th>dialogue</th>\n",
              "      <th>summary</th>\n",
              "    </tr>\n",
              "  </thead>\n",
              "  <tbody>\n",
              "    <tr>\n",
              "      <th>448</th>\n",
              "      <td>13821588</td>\n",
              "      <td>Reeve: any plans for winter break?\\r\\nWinslow:...</td>\n",
              "      <td>Reeve has no plans for the winter break. Booke...</td>\n",
              "    </tr>\n",
              "    <tr>\n",
              "      <th>648</th>\n",
              "      <td>13865481</td>\n",
              "      <td>May: Just received a text from Harry he'll be ...</td>\n",
              "      <td>Henry and Peter will be late for a birthday pa...</td>\n",
              "    </tr>\n",
              "    <tr>\n",
              "      <th>509</th>\n",
              "      <td>13729534</td>\n",
              "      <td>Marco: hi there! is this yours?\\r\\nMarco: &lt;fil...</td>\n",
              "      <td>Sandra bought a present for Milla right before...</td>\n",
              "    </tr>\n",
              "    <tr>\n",
              "      <th>73</th>\n",
              "      <td>13681586</td>\n",
              "      <td>Mia: babe, do you mind if i go out after work ...</td>\n",
              "      <td>Mia is going out after work tonight with her f...</td>\n",
              "    </tr>\n",
              "    <tr>\n",
              "      <th>574</th>\n",
              "      <td>13864673</td>\n",
              "      <td>Damian: guys did u watch Chelsea game\\nJacob: ...</td>\n",
              "      <td>Chelsea won a game with Huddersfield this afte...</td>\n",
              "    </tr>\n",
              "  </tbody>\n",
              "</table>\n",
              "</div>\n",
              "    <div class=\"colab-df-buttons\">\n",
              "\n",
              "  <div class=\"colab-df-container\">\n",
              "    <button class=\"colab-df-convert\" onclick=\"convertToInteractive('df-f9c4a47e-b5e8-4ce4-9ac1-44b9be8e3ee4')\"\n",
              "            title=\"Convert this dataframe to an interactive table.\"\n",
              "            style=\"display:none;\">\n",
              "\n",
              "  <svg xmlns=\"http://www.w3.org/2000/svg\" height=\"24px\" viewBox=\"0 -960 960 960\">\n",
              "    <path d=\"M120-120v-720h720v720H120Zm60-500h600v-160H180v160Zm220 220h160v-160H400v160Zm0 220h160v-160H400v160ZM180-400h160v-160H180v160Zm440 0h160v-160H620v160ZM180-180h160v-160H180v160Zm440 0h160v-160H620v160Z\"/>\n",
              "  </svg>\n",
              "    </button>\n",
              "\n",
              "  <style>\n",
              "    .colab-df-container {\n",
              "      display:flex;\n",
              "      gap: 12px;\n",
              "    }\n",
              "\n",
              "    .colab-df-convert {\n",
              "      background-color: #E8F0FE;\n",
              "      border: none;\n",
              "      border-radius: 50%;\n",
              "      cursor: pointer;\n",
              "      display: none;\n",
              "      fill: #1967D2;\n",
              "      height: 32px;\n",
              "      padding: 0 0 0 0;\n",
              "      width: 32px;\n",
              "    }\n",
              "\n",
              "    .colab-df-convert:hover {\n",
              "      background-color: #E2EBFA;\n",
              "      box-shadow: 0px 1px 2px rgba(60, 64, 67, 0.3), 0px 1px 3px 1px rgba(60, 64, 67, 0.15);\n",
              "      fill: #174EA6;\n",
              "    }\n",
              "\n",
              "    .colab-df-buttons div {\n",
              "      margin-bottom: 4px;\n",
              "    }\n",
              "\n",
              "    [theme=dark] .colab-df-convert {\n",
              "      background-color: #3B4455;\n",
              "      fill: #D2E3FC;\n",
              "    }\n",
              "\n",
              "    [theme=dark] .colab-df-convert:hover {\n",
              "      background-color: #434B5C;\n",
              "      box-shadow: 0px 1px 3px 1px rgba(0, 0, 0, 0.15);\n",
              "      filter: drop-shadow(0px 1px 2px rgba(0, 0, 0, 0.3));\n",
              "      fill: #FFFFFF;\n",
              "    }\n",
              "  </style>\n",
              "\n",
              "    <script>\n",
              "      const buttonEl =\n",
              "        document.querySelector('#df-f9c4a47e-b5e8-4ce4-9ac1-44b9be8e3ee4 button.colab-df-convert');\n",
              "      buttonEl.style.display =\n",
              "        google.colab.kernel.accessAllowed ? 'block' : 'none';\n",
              "\n",
              "      async function convertToInteractive(key) {\n",
              "        const element = document.querySelector('#df-f9c4a47e-b5e8-4ce4-9ac1-44b9be8e3ee4');\n",
              "        const dataTable =\n",
              "          await google.colab.kernel.invokeFunction('convertToInteractive',\n",
              "                                                    [key], {});\n",
              "        if (!dataTable) return;\n",
              "\n",
              "        const docLinkHtml = 'Like what you see? Visit the ' +\n",
              "          '<a target=\"_blank\" href=https://colab.research.google.com/notebooks/data_table.ipynb>data table notebook</a>'\n",
              "          + ' to learn more about interactive tables.';\n",
              "        element.innerHTML = '';\n",
              "        dataTable['output_type'] = 'display_data';\n",
              "        await google.colab.output.renderOutput(dataTable, element);\n",
              "        const docLink = document.createElement('div');\n",
              "        docLink.innerHTML = docLinkHtml;\n",
              "        element.appendChild(docLink);\n",
              "      }\n",
              "    </script>\n",
              "  </div>\n",
              "\n",
              "\n",
              "<div id=\"df-58e3e47f-06e7-4189-a8e2-0d111c334594\">\n",
              "  <button class=\"colab-df-quickchart\" onclick=\"quickchart('df-58e3e47f-06e7-4189-a8e2-0d111c334594')\"\n",
              "            title=\"Suggest charts\"\n",
              "            style=\"display:none;\">\n",
              "\n",
              "<svg xmlns=\"http://www.w3.org/2000/svg\" height=\"24px\"viewBox=\"0 0 24 24\"\n",
              "     width=\"24px\">\n",
              "    <g>\n",
              "        <path d=\"M19 3H5c-1.1 0-2 .9-2 2v14c0 1.1.9 2 2 2h14c1.1 0 2-.9 2-2V5c0-1.1-.9-2-2-2zM9 17H7v-7h2v7zm4 0h-2V7h2v10zm4 0h-2v-4h2v4z\"/>\n",
              "    </g>\n",
              "</svg>\n",
              "  </button>\n",
              "\n",
              "<style>\n",
              "  .colab-df-quickchart {\n",
              "      --bg-color: #E8F0FE;\n",
              "      --fill-color: #1967D2;\n",
              "      --hover-bg-color: #E2EBFA;\n",
              "      --hover-fill-color: #174EA6;\n",
              "      --disabled-fill-color: #AAA;\n",
              "      --disabled-bg-color: #DDD;\n",
              "  }\n",
              "\n",
              "  [theme=dark] .colab-df-quickchart {\n",
              "      --bg-color: #3B4455;\n",
              "      --fill-color: #D2E3FC;\n",
              "      --hover-bg-color: #434B5C;\n",
              "      --hover-fill-color: #FFFFFF;\n",
              "      --disabled-bg-color: #3B4455;\n",
              "      --disabled-fill-color: #666;\n",
              "  }\n",
              "\n",
              "  .colab-df-quickchart {\n",
              "    background-color: var(--bg-color);\n",
              "    border: none;\n",
              "    border-radius: 50%;\n",
              "    cursor: pointer;\n",
              "    display: none;\n",
              "    fill: var(--fill-color);\n",
              "    height: 32px;\n",
              "    padding: 0;\n",
              "    width: 32px;\n",
              "  }\n",
              "\n",
              "  .colab-df-quickchart:hover {\n",
              "    background-color: var(--hover-bg-color);\n",
              "    box-shadow: 0 1px 2px rgba(60, 64, 67, 0.3), 0 1px 3px 1px rgba(60, 64, 67, 0.15);\n",
              "    fill: var(--button-hover-fill-color);\n",
              "  }\n",
              "\n",
              "  .colab-df-quickchart-complete:disabled,\n",
              "  .colab-df-quickchart-complete:disabled:hover {\n",
              "    background-color: var(--disabled-bg-color);\n",
              "    fill: var(--disabled-fill-color);\n",
              "    box-shadow: none;\n",
              "  }\n",
              "\n",
              "  .colab-df-spinner {\n",
              "    border: 2px solid var(--fill-color);\n",
              "    border-color: transparent;\n",
              "    border-bottom-color: var(--fill-color);\n",
              "    animation:\n",
              "      spin 1s steps(1) infinite;\n",
              "  }\n",
              "\n",
              "  @keyframes spin {\n",
              "    0% {\n",
              "      border-color: transparent;\n",
              "      border-bottom-color: var(--fill-color);\n",
              "      border-left-color: var(--fill-color);\n",
              "    }\n",
              "    20% {\n",
              "      border-color: transparent;\n",
              "      border-left-color: var(--fill-color);\n",
              "      border-top-color: var(--fill-color);\n",
              "    }\n",
              "    30% {\n",
              "      border-color: transparent;\n",
              "      border-left-color: var(--fill-color);\n",
              "      border-top-color: var(--fill-color);\n",
              "      border-right-color: var(--fill-color);\n",
              "    }\n",
              "    40% {\n",
              "      border-color: transparent;\n",
              "      border-right-color: var(--fill-color);\n",
              "      border-top-color: var(--fill-color);\n",
              "    }\n",
              "    60% {\n",
              "      border-color: transparent;\n",
              "      border-right-color: var(--fill-color);\n",
              "    }\n",
              "    80% {\n",
              "      border-color: transparent;\n",
              "      border-right-color: var(--fill-color);\n",
              "      border-bottom-color: var(--fill-color);\n",
              "    }\n",
              "    90% {\n",
              "      border-color: transparent;\n",
              "      border-bottom-color: var(--fill-color);\n",
              "    }\n",
              "  }\n",
              "</style>\n",
              "\n",
              "  <script>\n",
              "    async function quickchart(key) {\n",
              "      const quickchartButtonEl =\n",
              "        document.querySelector('#' + key + ' button');\n",
              "      quickchartButtonEl.disabled = true;  // To prevent multiple clicks.\n",
              "      quickchartButtonEl.classList.add('colab-df-spinner');\n",
              "      try {\n",
              "        const charts = await google.colab.kernel.invokeFunction(\n",
              "            'suggestCharts', [key], {});\n",
              "      } catch (error) {\n",
              "        console.error('Error during call to suggestCharts:', error);\n",
              "      }\n",
              "      quickchartButtonEl.classList.remove('colab-df-spinner');\n",
              "      quickchartButtonEl.classList.add('colab-df-quickchart-complete');\n",
              "    }\n",
              "    (() => {\n",
              "      let quickchartButtonEl =\n",
              "        document.querySelector('#df-58e3e47f-06e7-4189-a8e2-0d111c334594 button');\n",
              "      quickchartButtonEl.style.display =\n",
              "        google.colab.kernel.accessAllowed ? 'block' : 'none';\n",
              "    })();\n",
              "  </script>\n",
              "</div>\n",
              "\n",
              "    </div>\n",
              "  </div>\n"
            ],
            "application/vnd.google.colaboratory.intrinsic+json": {
              "type": "dataframe",
              "summary": "{\n  \"name\": \"test_df\",\n  \"rows\": 5,\n  \"fields\": [\n    {\n      \"column\": \"id\",\n      \"properties\": {\n        \"dtype\": \"string\",\n        \"num_unique_values\": 5,\n        \"samples\": [\n          \"13865481\",\n          \"13864673\",\n          \"13729534\"\n        ],\n        \"semantic_type\": \"\",\n        \"description\": \"\"\n      }\n    },\n    {\n      \"column\": \"dialogue\",\n      \"properties\": {\n        \"dtype\": \"string\",\n        \"num_unique_values\": 5,\n        \"samples\": [\n          \"May: Just received a text from Harry he'll be late\\nMichael: It's good for us, Vanessa and I are still on our way and Peter's stuck in a traffic\\nMay: Probably the same traffic Harry's stuck in ;/\\nPeter: There's been an accident, I'm too far away to see what exactly happened but it doesn't look good\\nMay: How long may it take? Half of the guests is already here\\nVanessa: God knows, Michael's driving if you can call this driving...\\nPeter: They're saying that there was a serious accident, I really don't know how long it will take\\nMay: Harry just called, he's in the same traffic as you\\nVanessa: It'll be a hell of a birthday party ;)\\nPeter: It'll be easier if you all come and join us here\\nMay: Hahaha, very funny\\nMay: We'll wait for you, but better be here before Harry\\nVanessa: You need to stall Harry then because we're all probably behind him\\nPeter: Fyi, we haven't moved an inch in a while now\",\n          \"Damian: guys did u watch Chelsea game\\nJacob: no\\nMason: nah, i was busy all afternoon\\nDamian: Higuain scored twice! so happy for him\\nDamian: I know it was just Huddersfield, but finally something positive happened\\nJacob: having a striker makes a difference\\nDamian: yup\\nMason: but cmon huddersfield is abysmal\\nDamian: don't be like that, im happy for the team, maybe this will be a turning point\\nJacob: no, I don't think so\\nMason: ha good luck with that\",\n          \"Marco: hi there! is this yours?\\r\\nMarco: <file_photo>\\r\\nMarco: somebody left it at my place yesterday\\r\\nSandra: ooops yes its mine\\r\\nSandra: its Millas present, I bought it right before your party\\r\\nSandra: can you bring it over?\"\n        ],\n        \"semantic_type\": \"\",\n        \"description\": \"\"\n      }\n    },\n    {\n      \"column\": \"summary\",\n      \"properties\": {\n        \"dtype\": \"string\",\n        \"num_unique_values\": 5,\n        \"samples\": [\n          \"Henry and Peter will be late for a birthday party. Michael and Vanessa are on their way. There was a serious accident, and Peter has no idea when they will manage to arrive. Henry will probably come before Peter.\",\n          \"Chelsea won a game with Huddersfield this afternoon. Higuain scored twice. Damian's happy about it and he hopes it will be a turning point for Chelsea. \",\n          \"Sandra bought a present for Milla right before Marco's party and left it in his place. She asks Marco to bring it over. \"\n        ],\n        \"semantic_type\": \"\",\n        \"description\": \"\"\n      }\n    }\n  ]\n}"
            }
          },
          "metadata": {},
          "execution_count": 8
        }
      ],
      "source": [
        "test_df.sample(5)"
      ]
    },
    {
      "cell_type": "markdown",
      "source": [
        "## Understanding the Data"
      ],
      "metadata": {
        "id": "zmhrDsCj2xTj"
      },
      "id": "zmhrDsCj2xTj"
    },
    {
      "cell_type": "code",
      "execution_count": null,
      "id": "0debe5a7",
      "metadata": {
        "execution": {
          "iopub.execute_input": "2024-09-27T11:57:18.830211Z",
          "iopub.status.busy": "2024-09-27T11:57:18.829926Z",
          "iopub.status.idle": "2024-09-27T11:57:18.834407Z",
          "shell.execute_reply": "2024-09-27T11:57:18.833579Z"
        },
        "papermill": {
          "duration": 0.026541,
          "end_time": "2024-09-27T11:57:18.836454",
          "exception": false,
          "start_time": "2024-09-27T11:57:18.809913",
          "status": "completed"
        },
        "tags": [],
        "id": "0debe5a7",
        "outputId": "e4de12e1-0cf7-445c-8911-2d062e500245",
        "colab": {
          "base_uri": "https://localhost:8080/"
        }
      },
      "outputs": [
        {
          "output_type": "stream",
          "name": "stdout",
          "text": [
            "train_df shape:  (14732, 3)\n",
            "test_df shape:  (819, 3)\n"
          ]
        }
      ],
      "source": [
        "print(\"train_df shape: \",train_df.shape)\n",
        "print(\"test_df shape: \",test_df.shape)"
      ]
    },
    {
      "cell_type": "code",
      "execution_count": null,
      "id": "27d82400",
      "metadata": {
        "execution": {
          "iopub.execute_input": "2024-09-27T11:57:18.914326Z",
          "iopub.status.busy": "2024-09-27T11:57:18.914029Z",
          "iopub.status.idle": "2024-09-27T11:57:18.939688Z",
          "shell.execute_reply": "2024-09-27T11:57:18.938577Z"
        },
        "papermill": {
          "duration": 0.047636,
          "end_time": "2024-09-27T11:57:18.941713",
          "exception": false,
          "start_time": "2024-09-27T11:57:18.894077",
          "status": "completed"
        },
        "tags": [],
        "id": "27d82400",
        "outputId": "35f1fc82-526a-4c9a-b0ae-ff8e3630671d",
        "colab": {
          "base_uri": "https://localhost:8080/"
        }
      },
      "outputs": [
        {
          "output_type": "stream",
          "name": "stdout",
          "text": [
            "<class 'pandas.core.frame.DataFrame'>\n",
            "RangeIndex: 14732 entries, 0 to 14731\n",
            "Data columns (total 3 columns):\n",
            " #   Column    Non-Null Count  Dtype \n",
            "---  ------    --------------  ----- \n",
            " 0   id        14732 non-null  object\n",
            " 1   dialogue  14731 non-null  object\n",
            " 2   summary   14732 non-null  object\n",
            "dtypes: object(3)\n",
            "memory usage: 345.4+ KB\n"
          ]
        }
      ],
      "source": [
        "train_df.info()"
      ]
    },
    {
      "cell_type": "code",
      "execution_count": null,
      "id": "87c75112",
      "metadata": {
        "execution": {
          "iopub.execute_input": "2024-09-27T11:57:19.020422Z",
          "iopub.status.busy": "2024-09-27T11:57:19.019911Z",
          "iopub.status.idle": "2024-09-27T11:57:19.042450Z",
          "shell.execute_reply": "2024-09-27T11:57:19.041310Z"
        },
        "papermill": {
          "duration": 0.045043,
          "end_time": "2024-09-27T11:57:19.044517",
          "exception": false,
          "start_time": "2024-09-27T11:57:18.999474",
          "status": "completed"
        },
        "tags": [],
        "id": "87c75112",
        "outputId": "c10988a3-b19a-4852-bf95-35a089480bb5",
        "colab": {
          "base_uri": "https://localhost:8080/"
        }
      },
      "outputs": [
        {
          "output_type": "stream",
          "name": "stdout",
          "text": [
            "Duplicates in Dataset:  0\n"
          ]
        }
      ],
      "source": [
        "print(\"Duplicates in Dataset: \",train_df.duplicated().sum())"
      ]
    },
    {
      "cell_type": "code",
      "execution_count": null,
      "id": "2b363c47",
      "metadata": {
        "execution": {
          "iopub.execute_input": "2024-09-27T11:57:19.127358Z",
          "iopub.status.busy": "2024-09-27T11:57:19.127040Z",
          "iopub.status.idle": "2024-09-27T11:57:19.145179Z",
          "shell.execute_reply": "2024-09-27T11:57:19.144327Z"
        },
        "papermill": {
          "duration": 0.040767,
          "end_time": "2024-09-27T11:57:19.147075",
          "exception": false,
          "start_time": "2024-09-27T11:57:19.106308",
          "status": "completed"
        },
        "tags": [],
        "id": "2b363c47",
        "outputId": "eca81a01-1753-4bed-b0ca-48598bb35ddd",
        "colab": {
          "base_uri": "https://localhost:8080/",
          "height": 143
        }
      },
      "outputs": [
        {
          "output_type": "execute_result",
          "data": {
            "text/plain": [
              "          Total No. of Missing Values  % of Missing Values\n",
              "id                                  0                 0.00\n",
              "dialogue                            1                 0.01\n",
              "summary                             0                 0.00"
            ],
            "text/html": [
              "\n",
              "  <div id=\"df-314b1025-9312-422f-8a3c-b9882f0ff797\" class=\"colab-df-container\">\n",
              "    <div>\n",
              "<style scoped>\n",
              "    .dataframe tbody tr th:only-of-type {\n",
              "        vertical-align: middle;\n",
              "    }\n",
              "\n",
              "    .dataframe tbody tr th {\n",
              "        vertical-align: top;\n",
              "    }\n",
              "\n",
              "    .dataframe thead th {\n",
              "        text-align: right;\n",
              "    }\n",
              "</style>\n",
              "<table border=\"1\" class=\"dataframe\">\n",
              "  <thead>\n",
              "    <tr style=\"text-align: right;\">\n",
              "      <th></th>\n",
              "      <th>Total No. of Missing Values</th>\n",
              "      <th>% of Missing Values</th>\n",
              "    </tr>\n",
              "  </thead>\n",
              "  <tbody>\n",
              "    <tr>\n",
              "      <th>id</th>\n",
              "      <td>0</td>\n",
              "      <td>0.00</td>\n",
              "    </tr>\n",
              "    <tr>\n",
              "      <th>dialogue</th>\n",
              "      <td>1</td>\n",
              "      <td>0.01</td>\n",
              "    </tr>\n",
              "    <tr>\n",
              "      <th>summary</th>\n",
              "      <td>0</td>\n",
              "      <td>0.00</td>\n",
              "    </tr>\n",
              "  </tbody>\n",
              "</table>\n",
              "</div>\n",
              "    <div class=\"colab-df-buttons\">\n",
              "\n",
              "  <div class=\"colab-df-container\">\n",
              "    <button class=\"colab-df-convert\" onclick=\"convertToInteractive('df-314b1025-9312-422f-8a3c-b9882f0ff797')\"\n",
              "            title=\"Convert this dataframe to an interactive table.\"\n",
              "            style=\"display:none;\">\n",
              "\n",
              "  <svg xmlns=\"http://www.w3.org/2000/svg\" height=\"24px\" viewBox=\"0 -960 960 960\">\n",
              "    <path d=\"M120-120v-720h720v720H120Zm60-500h600v-160H180v160Zm220 220h160v-160H400v160Zm0 220h160v-160H400v160ZM180-400h160v-160H180v160Zm440 0h160v-160H620v160ZM180-180h160v-160H180v160Zm440 0h160v-160H620v160Z\"/>\n",
              "  </svg>\n",
              "    </button>\n",
              "\n",
              "  <style>\n",
              "    .colab-df-container {\n",
              "      display:flex;\n",
              "      gap: 12px;\n",
              "    }\n",
              "\n",
              "    .colab-df-convert {\n",
              "      background-color: #E8F0FE;\n",
              "      border: none;\n",
              "      border-radius: 50%;\n",
              "      cursor: pointer;\n",
              "      display: none;\n",
              "      fill: #1967D2;\n",
              "      height: 32px;\n",
              "      padding: 0 0 0 0;\n",
              "      width: 32px;\n",
              "    }\n",
              "\n",
              "    .colab-df-convert:hover {\n",
              "      background-color: #E2EBFA;\n",
              "      box-shadow: 0px 1px 2px rgba(60, 64, 67, 0.3), 0px 1px 3px 1px rgba(60, 64, 67, 0.15);\n",
              "      fill: #174EA6;\n",
              "    }\n",
              "\n",
              "    .colab-df-buttons div {\n",
              "      margin-bottom: 4px;\n",
              "    }\n",
              "\n",
              "    [theme=dark] .colab-df-convert {\n",
              "      background-color: #3B4455;\n",
              "      fill: #D2E3FC;\n",
              "    }\n",
              "\n",
              "    [theme=dark] .colab-df-convert:hover {\n",
              "      background-color: #434B5C;\n",
              "      box-shadow: 0px 1px 3px 1px rgba(0, 0, 0, 0.15);\n",
              "      filter: drop-shadow(0px 1px 2px rgba(0, 0, 0, 0.3));\n",
              "      fill: #FFFFFF;\n",
              "    }\n",
              "  </style>\n",
              "\n",
              "    <script>\n",
              "      const buttonEl =\n",
              "        document.querySelector('#df-314b1025-9312-422f-8a3c-b9882f0ff797 button.colab-df-convert');\n",
              "      buttonEl.style.display =\n",
              "        google.colab.kernel.accessAllowed ? 'block' : 'none';\n",
              "\n",
              "      async function convertToInteractive(key) {\n",
              "        const element = document.querySelector('#df-314b1025-9312-422f-8a3c-b9882f0ff797');\n",
              "        const dataTable =\n",
              "          await google.colab.kernel.invokeFunction('convertToInteractive',\n",
              "                                                    [key], {});\n",
              "        if (!dataTable) return;\n",
              "\n",
              "        const docLinkHtml = 'Like what you see? Visit the ' +\n",
              "          '<a target=\"_blank\" href=https://colab.research.google.com/notebooks/data_table.ipynb>data table notebook</a>'\n",
              "          + ' to learn more about interactive tables.';\n",
              "        element.innerHTML = '';\n",
              "        dataTable['output_type'] = 'display_data';\n",
              "        await google.colab.output.renderOutput(dataTable, element);\n",
              "        const docLink = document.createElement('div');\n",
              "        docLink.innerHTML = docLinkHtml;\n",
              "        element.appendChild(docLink);\n",
              "      }\n",
              "    </script>\n",
              "  </div>\n",
              "\n",
              "\n",
              "<div id=\"df-6cb8b675-16fe-4fd1-b9fc-cec06eaf88ff\">\n",
              "  <button class=\"colab-df-quickchart\" onclick=\"quickchart('df-6cb8b675-16fe-4fd1-b9fc-cec06eaf88ff')\"\n",
              "            title=\"Suggest charts\"\n",
              "            style=\"display:none;\">\n",
              "\n",
              "<svg xmlns=\"http://www.w3.org/2000/svg\" height=\"24px\"viewBox=\"0 0 24 24\"\n",
              "     width=\"24px\">\n",
              "    <g>\n",
              "        <path d=\"M19 3H5c-1.1 0-2 .9-2 2v14c0 1.1.9 2 2 2h14c1.1 0 2-.9 2-2V5c0-1.1-.9-2-2-2zM9 17H7v-7h2v7zm4 0h-2V7h2v10zm4 0h-2v-4h2v4z\"/>\n",
              "    </g>\n",
              "</svg>\n",
              "  </button>\n",
              "\n",
              "<style>\n",
              "  .colab-df-quickchart {\n",
              "      --bg-color: #E8F0FE;\n",
              "      --fill-color: #1967D2;\n",
              "      --hover-bg-color: #E2EBFA;\n",
              "      --hover-fill-color: #174EA6;\n",
              "      --disabled-fill-color: #AAA;\n",
              "      --disabled-bg-color: #DDD;\n",
              "  }\n",
              "\n",
              "  [theme=dark] .colab-df-quickchart {\n",
              "      --bg-color: #3B4455;\n",
              "      --fill-color: #D2E3FC;\n",
              "      --hover-bg-color: #434B5C;\n",
              "      --hover-fill-color: #FFFFFF;\n",
              "      --disabled-bg-color: #3B4455;\n",
              "      --disabled-fill-color: #666;\n",
              "  }\n",
              "\n",
              "  .colab-df-quickchart {\n",
              "    background-color: var(--bg-color);\n",
              "    border: none;\n",
              "    border-radius: 50%;\n",
              "    cursor: pointer;\n",
              "    display: none;\n",
              "    fill: var(--fill-color);\n",
              "    height: 32px;\n",
              "    padding: 0;\n",
              "    width: 32px;\n",
              "  }\n",
              "\n",
              "  .colab-df-quickchart:hover {\n",
              "    background-color: var(--hover-bg-color);\n",
              "    box-shadow: 0 1px 2px rgba(60, 64, 67, 0.3), 0 1px 3px 1px rgba(60, 64, 67, 0.15);\n",
              "    fill: var(--button-hover-fill-color);\n",
              "  }\n",
              "\n",
              "  .colab-df-quickchart-complete:disabled,\n",
              "  .colab-df-quickchart-complete:disabled:hover {\n",
              "    background-color: var(--disabled-bg-color);\n",
              "    fill: var(--disabled-fill-color);\n",
              "    box-shadow: none;\n",
              "  }\n",
              "\n",
              "  .colab-df-spinner {\n",
              "    border: 2px solid var(--fill-color);\n",
              "    border-color: transparent;\n",
              "    border-bottom-color: var(--fill-color);\n",
              "    animation:\n",
              "      spin 1s steps(1) infinite;\n",
              "  }\n",
              "\n",
              "  @keyframes spin {\n",
              "    0% {\n",
              "      border-color: transparent;\n",
              "      border-bottom-color: var(--fill-color);\n",
              "      border-left-color: var(--fill-color);\n",
              "    }\n",
              "    20% {\n",
              "      border-color: transparent;\n",
              "      border-left-color: var(--fill-color);\n",
              "      border-top-color: var(--fill-color);\n",
              "    }\n",
              "    30% {\n",
              "      border-color: transparent;\n",
              "      border-left-color: var(--fill-color);\n",
              "      border-top-color: var(--fill-color);\n",
              "      border-right-color: var(--fill-color);\n",
              "    }\n",
              "    40% {\n",
              "      border-color: transparent;\n",
              "      border-right-color: var(--fill-color);\n",
              "      border-top-color: var(--fill-color);\n",
              "    }\n",
              "    60% {\n",
              "      border-color: transparent;\n",
              "      border-right-color: var(--fill-color);\n",
              "    }\n",
              "    80% {\n",
              "      border-color: transparent;\n",
              "      border-right-color: var(--fill-color);\n",
              "      border-bottom-color: var(--fill-color);\n",
              "    }\n",
              "    90% {\n",
              "      border-color: transparent;\n",
              "      border-bottom-color: var(--fill-color);\n",
              "    }\n",
              "  }\n",
              "</style>\n",
              "\n",
              "  <script>\n",
              "    async function quickchart(key) {\n",
              "      const quickchartButtonEl =\n",
              "        document.querySelector('#' + key + ' button');\n",
              "      quickchartButtonEl.disabled = true;  // To prevent multiple clicks.\n",
              "      quickchartButtonEl.classList.add('colab-df-spinner');\n",
              "      try {\n",
              "        const charts = await google.colab.kernel.invokeFunction(\n",
              "            'suggestCharts', [key], {});\n",
              "      } catch (error) {\n",
              "        console.error('Error during call to suggestCharts:', error);\n",
              "      }\n",
              "      quickchartButtonEl.classList.remove('colab-df-spinner');\n",
              "      quickchartButtonEl.classList.add('colab-df-quickchart-complete');\n",
              "    }\n",
              "    (() => {\n",
              "      let quickchartButtonEl =\n",
              "        document.querySelector('#df-6cb8b675-16fe-4fd1-b9fc-cec06eaf88ff button');\n",
              "      quickchartButtonEl.style.display =\n",
              "        google.colab.kernel.accessAllowed ? 'block' : 'none';\n",
              "    })();\n",
              "  </script>\n",
              "</div>\n",
              "\n",
              "  <div id=\"id_c9a44f59-eee5-4881-925c-fd9638d49099\">\n",
              "    <style>\n",
              "      .colab-df-generate {\n",
              "        background-color: #E8F0FE;\n",
              "        border: none;\n",
              "        border-radius: 50%;\n",
              "        cursor: pointer;\n",
              "        display: none;\n",
              "        fill: #1967D2;\n",
              "        height: 32px;\n",
              "        padding: 0 0 0 0;\n",
              "        width: 32px;\n",
              "      }\n",
              "\n",
              "      .colab-df-generate:hover {\n",
              "        background-color: #E2EBFA;\n",
              "        box-shadow: 0px 1px 2px rgba(60, 64, 67, 0.3), 0px 1px 3px 1px rgba(60, 64, 67, 0.15);\n",
              "        fill: #174EA6;\n",
              "      }\n",
              "\n",
              "      [theme=dark] .colab-df-generate {\n",
              "        background-color: #3B4455;\n",
              "        fill: #D2E3FC;\n",
              "      }\n",
              "\n",
              "      [theme=dark] .colab-df-generate:hover {\n",
              "        background-color: #434B5C;\n",
              "        box-shadow: 0px 1px 3px 1px rgba(0, 0, 0, 0.15);\n",
              "        filter: drop-shadow(0px 1px 2px rgba(0, 0, 0, 0.3));\n",
              "        fill: #FFFFFF;\n",
              "      }\n",
              "    </style>\n",
              "    <button class=\"colab-df-generate\" onclick=\"generateWithVariable('missing_data')\"\n",
              "            title=\"Generate code using this dataframe.\"\n",
              "            style=\"display:none;\">\n",
              "\n",
              "  <svg xmlns=\"http://www.w3.org/2000/svg\" height=\"24px\"viewBox=\"0 0 24 24\"\n",
              "       width=\"24px\">\n",
              "    <path d=\"M7,19H8.4L18.45,9,17,7.55,7,17.6ZM5,21V16.75L18.45,3.32a2,2,0,0,1,2.83,0l1.4,1.43a1.91,1.91,0,0,1,.58,1.4,1.91,1.91,0,0,1-.58,1.4L9.25,21ZM18.45,9,17,7.55Zm-12,3A5.31,5.31,0,0,0,4.9,8.1,5.31,5.31,0,0,0,1,6.5,5.31,5.31,0,0,0,4.9,4.9,5.31,5.31,0,0,0,6.5,1,5.31,5.31,0,0,0,8.1,4.9,5.31,5.31,0,0,0,12,6.5,5.46,5.46,0,0,0,6.5,12Z\"/>\n",
              "  </svg>\n",
              "    </button>\n",
              "    <script>\n",
              "      (() => {\n",
              "      const buttonEl =\n",
              "        document.querySelector('#id_c9a44f59-eee5-4881-925c-fd9638d49099 button.colab-df-generate');\n",
              "      buttonEl.style.display =\n",
              "        google.colab.kernel.accessAllowed ? 'block' : 'none';\n",
              "\n",
              "      buttonEl.onclick = () => {\n",
              "        google.colab.notebook.generateWithVariable('missing_data');\n",
              "      }\n",
              "      })();\n",
              "    </script>\n",
              "  </div>\n",
              "\n",
              "    </div>\n",
              "  </div>\n"
            ],
            "application/vnd.google.colaboratory.intrinsic+json": {
              "type": "dataframe",
              "variable_name": "missing_data",
              "summary": "{\n  \"name\": \"missing_data\",\n  \"rows\": 3,\n  \"fields\": [\n    {\n      \"column\": \"Total No. of Missing Values\",\n      \"properties\": {\n        \"dtype\": \"number\",\n        \"std\": 0,\n        \"min\": 0,\n        \"max\": 1,\n        \"num_unique_values\": 2,\n        \"samples\": [\n          1,\n          0\n        ],\n        \"semantic_type\": \"\",\n        \"description\": \"\"\n      }\n    },\n    {\n      \"column\": \"% of Missing Values\",\n      \"properties\": {\n        \"dtype\": \"number\",\n        \"std\": 0.005773502691896258,\n        \"min\": 0.0,\n        \"max\": 0.01,\n        \"num_unique_values\": 2,\n        \"samples\": [\n          0.01,\n          0.0\n        ],\n        \"semantic_type\": \"\",\n        \"description\": \"\"\n      }\n    }\n  ]\n}"
            }
          },
          "metadata": {},
          "execution_count": 12
        }
      ],
      "source": [
        "missing_data = train_df.isnull().sum().to_frame().rename(columns={0:\"Total No. of Missing Values\"})\n",
        "missing_data[\"% of Missing Values\"] = round((missing_data[\"Total No. of Missing Values\"]/len(train_df))*100,2)\n",
        "missing_data"
      ]
    },
    {
      "cell_type": "code",
      "execution_count": null,
      "id": "c590e0e5",
      "metadata": {
        "execution": {
          "iopub.execute_input": "2024-09-27T11:57:19.226296Z",
          "iopub.status.busy": "2024-09-27T11:57:19.225937Z",
          "iopub.status.idle": "2024-09-27T11:57:19.272583Z",
          "shell.execute_reply": "2024-09-27T11:57:19.271684Z"
        },
        "papermill": {
          "duration": 0.069023,
          "end_time": "2024-09-27T11:57:19.274467",
          "exception": false,
          "start_time": "2024-09-27T11:57:19.205444",
          "status": "completed"
        },
        "tags": [],
        "id": "c590e0e5",
        "outputId": "7c6875bf-fc20-423f-cf93-1ed2c8300f80",
        "colab": {
          "base_uri": "https://localhost:8080/",
          "height": 143
        }
      },
      "outputs": [
        {
          "output_type": "execute_result",
          "data": {
            "text/plain": [
              "          count unique                                                top freq\n",
              "id        14732  14732                                           13729017    1\n",
              "dialogue  14731  14264  Jimmy: Hey, guess what? My car's completely ka...    4\n",
              "summary   14732  14730  Seth's pet Oreo that he got when he was 10 is ...    2"
            ],
            "text/html": [
              "\n",
              "  <div id=\"df-2776d77a-cd8c-4633-8786-3fd8d75813e7\" class=\"colab-df-container\">\n",
              "    <div>\n",
              "<style scoped>\n",
              "    .dataframe tbody tr th:only-of-type {\n",
              "        vertical-align: middle;\n",
              "    }\n",
              "\n",
              "    .dataframe tbody tr th {\n",
              "        vertical-align: top;\n",
              "    }\n",
              "\n",
              "    .dataframe thead th {\n",
              "        text-align: right;\n",
              "    }\n",
              "</style>\n",
              "<table border=\"1\" class=\"dataframe\">\n",
              "  <thead>\n",
              "    <tr style=\"text-align: right;\">\n",
              "      <th></th>\n",
              "      <th>count</th>\n",
              "      <th>unique</th>\n",
              "      <th>top</th>\n",
              "      <th>freq</th>\n",
              "    </tr>\n",
              "  </thead>\n",
              "  <tbody>\n",
              "    <tr>\n",
              "      <th>id</th>\n",
              "      <td>14732</td>\n",
              "      <td>14732</td>\n",
              "      <td>13729017</td>\n",
              "      <td>1</td>\n",
              "    </tr>\n",
              "    <tr>\n",
              "      <th>dialogue</th>\n",
              "      <td>14731</td>\n",
              "      <td>14264</td>\n",
              "      <td>Jimmy: Hey, guess what? My car's completely ka...</td>\n",
              "      <td>4</td>\n",
              "    </tr>\n",
              "    <tr>\n",
              "      <th>summary</th>\n",
              "      <td>14732</td>\n",
              "      <td>14730</td>\n",
              "      <td>Seth's pet Oreo that he got when he was 10 is ...</td>\n",
              "      <td>2</td>\n",
              "    </tr>\n",
              "  </tbody>\n",
              "</table>\n",
              "</div>\n",
              "    <div class=\"colab-df-buttons\">\n",
              "\n",
              "  <div class=\"colab-df-container\">\n",
              "    <button class=\"colab-df-convert\" onclick=\"convertToInteractive('df-2776d77a-cd8c-4633-8786-3fd8d75813e7')\"\n",
              "            title=\"Convert this dataframe to an interactive table.\"\n",
              "            style=\"display:none;\">\n",
              "\n",
              "  <svg xmlns=\"http://www.w3.org/2000/svg\" height=\"24px\" viewBox=\"0 -960 960 960\">\n",
              "    <path d=\"M120-120v-720h720v720H120Zm60-500h600v-160H180v160Zm220 220h160v-160H400v160Zm0 220h160v-160H400v160ZM180-400h160v-160H180v160Zm440 0h160v-160H620v160ZM180-180h160v-160H180v160Zm440 0h160v-160H620v160Z\"/>\n",
              "  </svg>\n",
              "    </button>\n",
              "\n",
              "  <style>\n",
              "    .colab-df-container {\n",
              "      display:flex;\n",
              "      gap: 12px;\n",
              "    }\n",
              "\n",
              "    .colab-df-convert {\n",
              "      background-color: #E8F0FE;\n",
              "      border: none;\n",
              "      border-radius: 50%;\n",
              "      cursor: pointer;\n",
              "      display: none;\n",
              "      fill: #1967D2;\n",
              "      height: 32px;\n",
              "      padding: 0 0 0 0;\n",
              "      width: 32px;\n",
              "    }\n",
              "\n",
              "    .colab-df-convert:hover {\n",
              "      background-color: #E2EBFA;\n",
              "      box-shadow: 0px 1px 2px rgba(60, 64, 67, 0.3), 0px 1px 3px 1px rgba(60, 64, 67, 0.15);\n",
              "      fill: #174EA6;\n",
              "    }\n",
              "\n",
              "    .colab-df-buttons div {\n",
              "      margin-bottom: 4px;\n",
              "    }\n",
              "\n",
              "    [theme=dark] .colab-df-convert {\n",
              "      background-color: #3B4455;\n",
              "      fill: #D2E3FC;\n",
              "    }\n",
              "\n",
              "    [theme=dark] .colab-df-convert:hover {\n",
              "      background-color: #434B5C;\n",
              "      box-shadow: 0px 1px 3px 1px rgba(0, 0, 0, 0.15);\n",
              "      filter: drop-shadow(0px 1px 2px rgba(0, 0, 0, 0.3));\n",
              "      fill: #FFFFFF;\n",
              "    }\n",
              "  </style>\n",
              "\n",
              "    <script>\n",
              "      const buttonEl =\n",
              "        document.querySelector('#df-2776d77a-cd8c-4633-8786-3fd8d75813e7 button.colab-df-convert');\n",
              "      buttonEl.style.display =\n",
              "        google.colab.kernel.accessAllowed ? 'block' : 'none';\n",
              "\n",
              "      async function convertToInteractive(key) {\n",
              "        const element = document.querySelector('#df-2776d77a-cd8c-4633-8786-3fd8d75813e7');\n",
              "        const dataTable =\n",
              "          await google.colab.kernel.invokeFunction('convertToInteractive',\n",
              "                                                    [key], {});\n",
              "        if (!dataTable) return;\n",
              "\n",
              "        const docLinkHtml = 'Like what you see? Visit the ' +\n",
              "          '<a target=\"_blank\" href=https://colab.research.google.com/notebooks/data_table.ipynb>data table notebook</a>'\n",
              "          + ' to learn more about interactive tables.';\n",
              "        element.innerHTML = '';\n",
              "        dataTable['output_type'] = 'display_data';\n",
              "        await google.colab.output.renderOutput(dataTable, element);\n",
              "        const docLink = document.createElement('div');\n",
              "        docLink.innerHTML = docLinkHtml;\n",
              "        element.appendChild(docLink);\n",
              "      }\n",
              "    </script>\n",
              "  </div>\n",
              "\n",
              "\n",
              "<div id=\"df-12079509-0250-4d1d-93d3-4181b543a5dd\">\n",
              "  <button class=\"colab-df-quickchart\" onclick=\"quickchart('df-12079509-0250-4d1d-93d3-4181b543a5dd')\"\n",
              "            title=\"Suggest charts\"\n",
              "            style=\"display:none;\">\n",
              "\n",
              "<svg xmlns=\"http://www.w3.org/2000/svg\" height=\"24px\"viewBox=\"0 0 24 24\"\n",
              "     width=\"24px\">\n",
              "    <g>\n",
              "        <path d=\"M19 3H5c-1.1 0-2 .9-2 2v14c0 1.1.9 2 2 2h14c1.1 0 2-.9 2-2V5c0-1.1-.9-2-2-2zM9 17H7v-7h2v7zm4 0h-2V7h2v10zm4 0h-2v-4h2v4z\"/>\n",
              "    </g>\n",
              "</svg>\n",
              "  </button>\n",
              "\n",
              "<style>\n",
              "  .colab-df-quickchart {\n",
              "      --bg-color: #E8F0FE;\n",
              "      --fill-color: #1967D2;\n",
              "      --hover-bg-color: #E2EBFA;\n",
              "      --hover-fill-color: #174EA6;\n",
              "      --disabled-fill-color: #AAA;\n",
              "      --disabled-bg-color: #DDD;\n",
              "  }\n",
              "\n",
              "  [theme=dark] .colab-df-quickchart {\n",
              "      --bg-color: #3B4455;\n",
              "      --fill-color: #D2E3FC;\n",
              "      --hover-bg-color: #434B5C;\n",
              "      --hover-fill-color: #FFFFFF;\n",
              "      --disabled-bg-color: #3B4455;\n",
              "      --disabled-fill-color: #666;\n",
              "  }\n",
              "\n",
              "  .colab-df-quickchart {\n",
              "    background-color: var(--bg-color);\n",
              "    border: none;\n",
              "    border-radius: 50%;\n",
              "    cursor: pointer;\n",
              "    display: none;\n",
              "    fill: var(--fill-color);\n",
              "    height: 32px;\n",
              "    padding: 0;\n",
              "    width: 32px;\n",
              "  }\n",
              "\n",
              "  .colab-df-quickchart:hover {\n",
              "    background-color: var(--hover-bg-color);\n",
              "    box-shadow: 0 1px 2px rgba(60, 64, 67, 0.3), 0 1px 3px 1px rgba(60, 64, 67, 0.15);\n",
              "    fill: var(--button-hover-fill-color);\n",
              "  }\n",
              "\n",
              "  .colab-df-quickchart-complete:disabled,\n",
              "  .colab-df-quickchart-complete:disabled:hover {\n",
              "    background-color: var(--disabled-bg-color);\n",
              "    fill: var(--disabled-fill-color);\n",
              "    box-shadow: none;\n",
              "  }\n",
              "\n",
              "  .colab-df-spinner {\n",
              "    border: 2px solid var(--fill-color);\n",
              "    border-color: transparent;\n",
              "    border-bottom-color: var(--fill-color);\n",
              "    animation:\n",
              "      spin 1s steps(1) infinite;\n",
              "  }\n",
              "\n",
              "  @keyframes spin {\n",
              "    0% {\n",
              "      border-color: transparent;\n",
              "      border-bottom-color: var(--fill-color);\n",
              "      border-left-color: var(--fill-color);\n",
              "    }\n",
              "    20% {\n",
              "      border-color: transparent;\n",
              "      border-left-color: var(--fill-color);\n",
              "      border-top-color: var(--fill-color);\n",
              "    }\n",
              "    30% {\n",
              "      border-color: transparent;\n",
              "      border-left-color: var(--fill-color);\n",
              "      border-top-color: var(--fill-color);\n",
              "      border-right-color: var(--fill-color);\n",
              "    }\n",
              "    40% {\n",
              "      border-color: transparent;\n",
              "      border-right-color: var(--fill-color);\n",
              "      border-top-color: var(--fill-color);\n",
              "    }\n",
              "    60% {\n",
              "      border-color: transparent;\n",
              "      border-right-color: var(--fill-color);\n",
              "    }\n",
              "    80% {\n",
              "      border-color: transparent;\n",
              "      border-right-color: var(--fill-color);\n",
              "      border-bottom-color: var(--fill-color);\n",
              "    }\n",
              "    90% {\n",
              "      border-color: transparent;\n",
              "      border-bottom-color: var(--fill-color);\n",
              "    }\n",
              "  }\n",
              "</style>\n",
              "\n",
              "  <script>\n",
              "    async function quickchart(key) {\n",
              "      const quickchartButtonEl =\n",
              "        document.querySelector('#' + key + ' button');\n",
              "      quickchartButtonEl.disabled = true;  // To prevent multiple clicks.\n",
              "      quickchartButtonEl.classList.add('colab-df-spinner');\n",
              "      try {\n",
              "        const charts = await google.colab.kernel.invokeFunction(\n",
              "            'suggestCharts', [key], {});\n",
              "      } catch (error) {\n",
              "        console.error('Error during call to suggestCharts:', error);\n",
              "      }\n",
              "      quickchartButtonEl.classList.remove('colab-df-spinner');\n",
              "      quickchartButtonEl.classList.add('colab-df-quickchart-complete');\n",
              "    }\n",
              "    (() => {\n",
              "      let quickchartButtonEl =\n",
              "        document.querySelector('#df-12079509-0250-4d1d-93d3-4181b543a5dd button');\n",
              "      quickchartButtonEl.style.display =\n",
              "        google.colab.kernel.accessAllowed ? 'block' : 'none';\n",
              "    })();\n",
              "  </script>\n",
              "</div>\n",
              "\n",
              "    </div>\n",
              "  </div>\n"
            ],
            "application/vnd.google.colaboratory.intrinsic+json": {
              "type": "dataframe",
              "summary": "{\n  \"name\": \"round(train_df\",\n  \"rows\": 3,\n  \"fields\": [\n    {\n      \"column\": \"count\",\n      \"properties\": {\n        \"dtype\": \"date\",\n        \"min\": \"14731\",\n        \"max\": \"14732\",\n        \"num_unique_values\": 2,\n        \"samples\": [\n          \"14731\",\n          \"14732\"\n        ],\n        \"semantic_type\": \"\",\n        \"description\": \"\"\n      }\n    },\n    {\n      \"column\": \"unique\",\n      \"properties\": {\n        \"dtype\": \"date\",\n        \"min\": 14264,\n        \"max\": 14732,\n        \"num_unique_values\": 3,\n        \"samples\": [\n          14732,\n          14264\n        ],\n        \"semantic_type\": \"\",\n        \"description\": \"\"\n      }\n    },\n    {\n      \"column\": \"top\",\n      \"properties\": {\n        \"dtype\": \"string\",\n        \"num_unique_values\": 3,\n        \"samples\": [\n          \"13729017\",\n          \"Jimmy: Hey, guess what? My car's completely kaput!\\r\\nCarrie: What happened?\\r\\nJimmy: Don't know, either the battery, alternator, engine or a combination of all three\\r\\nCarrie: Where is it now?\\r\\nJimmy: Yesterday I managed to jump-start it and it was fine, but then Amy took the car and stopped to get something at the store, and then she couldn't get it to start again\\r\\nCarrie: Sucks! Wanna borrow my Mercedes?\\r\\nJimmy: How are you gonna get it to me? You live so far from the city now\\r\\nCarrie: I don't live that far! It's only like 20 km\\r\\nJimmy: I'll let you know\\r\\nCarrie: I can drive it into the city, and then you can drive me back home, then you'll have the car :)\\r\\nJimmy: :) Hmm\\u2026 I still gotta do something about my car\\r\\nCarrie: Actually, you should buy mine and get rid of yours\\r\\nJimmy: :-/ Yeah, lately there's always something with it. Anyways, I'll let you know. I may need it, Amy's sister is coming to visit.\\r\\nCarrie: Ok, see ya\\r\\nJimmy: Bye\"\n        ],\n        \"semantic_type\": \"\",\n        \"description\": \"\"\n      }\n    },\n    {\n      \"column\": \"freq\",\n      \"properties\": {\n        \"dtype\": \"date\",\n        \"min\": \"1\",\n        \"max\": \"4\",\n        \"num_unique_values\": 3,\n        \"samples\": [\n          \"1\",\n          \"4\"\n        ],\n        \"semantic_type\": \"\",\n        \"description\": \"\"\n      }\n    }\n  ]\n}"
            }
          },
          "metadata": {},
          "execution_count": 13
        }
      ],
      "source": [
        "round(train_df.describe().T,2)"
      ]
    },
    {
      "cell_type": "markdown",
      "source": [
        "## Data Preprocessing"
      ],
      "metadata": {
        "id": "2PEy_anm248q"
      },
      "id": "2PEy_anm248q"
    },
    {
      "cell_type": "code",
      "execution_count": null,
      "id": "65a82b92",
      "metadata": {
        "execution": {
          "iopub.execute_input": "2024-09-27T11:57:19.394880Z",
          "iopub.status.busy": "2024-09-27T11:57:19.394249Z",
          "iopub.status.idle": "2024-09-27T11:57:19.403268Z",
          "shell.execute_reply": "2024-09-27T11:57:19.402292Z"
        },
        "papermill": {
          "duration": 0.031862,
          "end_time": "2024-09-27T11:57:19.405122",
          "exception": false,
          "start_time": "2024-09-27T11:57:19.373260",
          "status": "completed"
        },
        "tags": [],
        "id": "65a82b92"
      },
      "outputs": [],
      "source": [
        "col = 'id'\n",
        "train_df.drop(col,axis = 1,inplace = True)\n",
        "test_df.drop(col,axis = 1,inplace = True)"
      ]
    },
    {
      "cell_type": "code",
      "execution_count": null,
      "id": "3b7bfd87",
      "metadata": {
        "execution": {
          "iopub.execute_input": "2024-09-27T11:57:19.486317Z",
          "iopub.status.busy": "2024-09-27T11:57:19.486004Z",
          "iopub.status.idle": "2024-09-27T11:57:19.495252Z",
          "shell.execute_reply": "2024-09-27T11:57:19.494349Z"
        },
        "papermill": {
          "duration": 0.03238,
          "end_time": "2024-09-27T11:57:19.497073",
          "exception": false,
          "start_time": "2024-09-27T11:57:19.464693",
          "status": "completed"
        },
        "tags": [],
        "id": "3b7bfd87"
      },
      "outputs": [],
      "source": [
        "train_df.dropna(inplace = True)"
      ]
    },
    {
      "cell_type": "code",
      "execution_count": null,
      "id": "06dc09bb",
      "metadata": {
        "execution": {
          "iopub.execute_input": "2024-09-27T11:57:19.580811Z",
          "iopub.status.busy": "2024-09-27T11:57:19.580221Z",
          "iopub.status.idle": "2024-09-27T11:57:19.622337Z",
          "shell.execute_reply": "2024-09-27T11:57:19.621650Z"
        },
        "papermill": {
          "duration": 0.065043,
          "end_time": "2024-09-27T11:57:19.624120",
          "exception": false,
          "start_time": "2024-09-27T11:57:19.559077",
          "status": "completed"
        },
        "tags": [],
        "id": "06dc09bb"
      },
      "outputs": [],
      "source": [
        "train_df['dialogue'] = train_df['dialogue'].str.lower()\n",
        "train_df['summary'] = train_df['summary'].str.lower()\n",
        "test_df['dialogue'] = test_df['dialogue'].str.lower()\n",
        "test_df['summary'] = test_df['summary'].str.lower()"
      ]
    },
    {
      "cell_type": "code",
      "execution_count": null,
      "id": "cf79fdea",
      "metadata": {
        "execution": {
          "iopub.execute_input": "2024-09-27T11:57:19.704444Z",
          "iopub.status.busy": "2024-09-27T11:57:19.704128Z",
          "iopub.status.idle": "2024-09-27T11:57:19.708508Z",
          "shell.execute_reply": "2024-09-27T11:57:19.707681Z"
        },
        "papermill": {
          "duration": 0.026785,
          "end_time": "2024-09-27T11:57:19.710276",
          "exception": false,
          "start_time": "2024-09-27T11:57:19.683491",
          "status": "completed"
        },
        "tags": [],
        "id": "cf79fdea"
      },
      "outputs": [],
      "source": [
        "import re\n",
        "def remove_html_tags(text):\n",
        "    pattern = r'[^a-zA-Z0-9\\s]'\n",
        "    text = re.sub(pattern,'',text)\n",
        "    return text\n"
      ]
    },
    {
      "cell_type": "code",
      "execution_count": null,
      "id": "512ba140",
      "metadata": {
        "execution": {
          "iopub.execute_input": "2024-09-27T11:57:19.750666Z",
          "iopub.status.busy": "2024-09-27T11:57:19.750373Z",
          "iopub.status.idle": "2024-09-27T11:57:20.212508Z",
          "shell.execute_reply": "2024-09-27T11:57:20.211776Z"
        },
        "papermill": {
          "duration": 0.48479,
          "end_time": "2024-09-27T11:57:20.214673",
          "exception": false,
          "start_time": "2024-09-27T11:57:19.729883",
          "status": "completed"
        },
        "tags": [],
        "id": "512ba140"
      },
      "outputs": [],
      "source": [
        "train_df['dialogue'] = train_df['dialogue'].apply(remove_html_tags)\n",
        "train_df['summary'] = train_df['summary'].apply(remove_html_tags)\n",
        "test_df['dialogue'] = test_df['dialogue'].apply(remove_html_tags)\n",
        "test_df['summary'] = test_df['summary'].apply(remove_html_tags)"
      ]
    },
    {
      "cell_type": "code",
      "execution_count": null,
      "id": "198651d1",
      "metadata": {
        "execution": {
          "iopub.execute_input": "2024-09-27T11:57:20.295796Z",
          "iopub.status.busy": "2024-09-27T11:57:20.295469Z",
          "iopub.status.idle": "2024-09-27T11:57:20.547024Z",
          "shell.execute_reply": "2024-09-27T11:57:20.546334Z"
        },
        "papermill": {
          "duration": 0.274502,
          "end_time": "2024-09-27T11:57:20.549024",
          "exception": false,
          "start_time": "2024-09-27T11:57:20.274522",
          "status": "completed"
        },
        "tags": [],
        "id": "198651d1"
      },
      "outputs": [],
      "source": [
        "def remove_url(text):\n",
        "    pattern = re.compile(r'https?://\\S+|www\\.\\S+')\n",
        "    return pattern.sub(r'',text)\n",
        "\n",
        "train_df['dialogue'] = train_df['dialogue'].apply(remove_url)\n",
        "train_df['summary'] = train_df['summary'].apply(remove_url)\n",
        "test_df['dialogue'] = test_df['dialogue'].apply(remove_url)\n",
        "test_df['summary'] = test_df['summary'].apply(remove_url)"
      ]
    },
    {
      "cell_type": "code",
      "execution_count": null,
      "id": "053a45fa",
      "metadata": {
        "execution": {
          "iopub.execute_input": "2024-09-27T11:57:20.629761Z",
          "iopub.status.busy": "2024-09-27T11:57:20.629448Z",
          "iopub.status.idle": "2024-09-27T11:57:20.643181Z",
          "shell.execute_reply": "2024-09-27T11:57:20.642323Z"
        },
        "papermill": {
          "duration": 0.036581,
          "end_time": "2024-09-27T11:57:20.645094",
          "exception": false,
          "start_time": "2024-09-27T11:57:20.608513",
          "status": "completed"
        },
        "tags": [],
        "id": "053a45fa"
      },
      "outputs": [],
      "source": [
        "chat_words = {\n",
        "    \"AFAIK\": \"As Far As I Know\",\n",
        "    \"AFK\": \"Away From Keyboard\",\n",
        "    \"ASAP\": \"As Soon As Possible\",\n",
        "    \"ATK\": \"At The Keyboard\",\n",
        "    \"ATM\": \"At The Moment\",\n",
        "    \"A3\": \"Anytime, Anywhere, Anyplace\",\n",
        "    \"BAK\": \"Back At Keyboard\",\n",
        "    \"BBL\": \"Be Back Later\",\n",
        "    \"BBS\": \"Be Back Soon\",\n",
        "    \"BFN\": \"Bye For Now\",\n",
        "    \"B4N\": \"Bye For Now\",\n",
        "    \"BRB\": \"Be Right Back\",\n",
        "    \"BRT\": \"Be Right There\",\n",
        "    \"BTW\": \"By The Way\",\n",
        "    \"B4\": \"Before\",\n",
        "    \"CU\": \"See You\",\n",
        "    \"CUL8R\": \"See You Later\",\n",
        "    \"CYA\": \"See You\",\n",
        "    \"FAQ\": \"Frequently Asked Questions\",\n",
        "    \"FC\": \"Fingers Crossed\",\n",
        "    \"FWIW\": \"For What It's Worth\",\n",
        "    \"FYI\": \"For Your Information\",\n",
        "    \"GAL\": \"Get A Life\",\n",
        "    \"GG\": \"Good Game\",\n",
        "    \"GN\": \"Good Night\",\n",
        "    \"GMTA\": \"Great Minds Think Alike\",\n",
        "    \"GR8\": \"Great!\",\n",
        "    \"G9\": \"Genius\",\n",
        "    \"IC\": \"I See\",\n",
        "    \"ICQ\": \"I Seek you (also a chat program)\",\n",
        "    \"ILU\": \"I Love You\",\n",
        "    \"IMHO\": \"In My Honest/Humble Opinion\",\n",
        "    \"IMO\": \"In My Opinion\",\n",
        "    \"IOW\": \"In Other Words\",\n",
        "    \"IRL\": \"In Real Life\",\n",
        "    \"KISS\": \"Keep It Simple, Stupid\",\n",
        "    \"LDR\": \"Long Distance Relationship\",\n",
        "    \"LMAO\": \"Laugh My A.. Off\",\n",
        "    \"LOL\": \"Laughing Out Loud\",\n",
        "    \"LTNS\": \"Long Time No See\",\n",
        "    \"L8R\": \"Later\",\n",
        "    \"MTE\": \"My Thoughts Exactly\",\n",
        "    \"M8\": \"Mate\",\n",
        "    \"NRN\": \"No Reply Necessary\",\n",
        "    \"OIC\": \"Oh I See\",\n",
        "    \"PITA\": \"Pain In The A..\",\n",
        "    \"PRT\": \"Party\",\n",
        "    \"PRW\": \"Parents Are Watching\",\n",
        "    \"QPSA\": \"Que Pasa?\",\n",
        "    \"ROFL\": \"Rolling On The Floor Laughing\",\n",
        "    \"ROFLOL\": \"Rolling On The Floor Laughing Out Loud\",\n",
        "    \"ROTFLMAO\": \"Rolling On The Floor Laughing My A.. Off\",\n",
        "    \"SK8\": \"Skate\",\n",
        "    \"STATS\": \"Your sex and age\",\n",
        "    \"ASL\": \"Age, Sex, Location\",\n",
        "    \"THX\": \"Thank You\",\n",
        "    \"TTFN\": \"Ta-Ta For Now!\",\n",
        "    \"TTYL\": \"Talk To You Later\",\n",
        "    \"U\": \"You\",\n",
        "    \"U2\": \"You Too\",\n",
        "    \"U4E\": \"Yours For Ever\",\n",
        "    \"WB\": \"Welcome Back\",\n",
        "    \"WTF\": \"What The F...\",\n",
        "    \"WTG\": \"Way To Go!\",\n",
        "    \"WUF\": \"Where Are You From?\",\n",
        "    \"W8\": \"Wait...\",\n",
        "    \"7K\": \"Sick:-D Laughter\",\n",
        "    \"TFW\": \"That feeling when\",\n",
        "    \"MFW\": \"My face when\",\n",
        "    \"MRW\": \"My reaction when\",\n",
        "    \"IFYP\": \"I feel your pain\",\n",
        "    \"LOL\": \"Laughing out loud\",\n",
        "    \"TNTL\": \"Trying not to laugh\",\n",
        "    \"JK\": \"Just kidding\",\n",
        "    \"IDC\": \"I don’t care\",\n",
        "    \"ILY\": \"I love you\",\n",
        "    \"IMU\": \"I miss you\",\n",
        "    \"ADIH\": \"Another day in hell\",\n",
        "    \"IDC\": \"I don’t care\",\n",
        "    \"ZZZ\": \"Sleeping, bored, tired\",\n",
        "    \"WYWH\": \"Wish you were here\",\n",
        "    \"TIME\": \"Tears in my eyes\",\n",
        "    \"BAE\": \"Before anyone else\",\n",
        "    \"FIMH\": \"Forever in my heart\",\n",
        "    \"BSAAW\": \"Big smile and a wink\",\n",
        "    \"BWL\": \"Bursting with laughter\",\n",
        "    \"LMAO\": \"Laughing my a** off\",\n",
        "    \"BFF\": \"Best friends forever\",\n",
        "    \"CSL\": \"Can’t stop laughing\",\n",
        "}"
      ]
    },
    {
      "cell_type": "code",
      "execution_count": null,
      "id": "60331b8f",
      "metadata": {
        "execution": {
          "iopub.execute_input": "2024-09-27T11:57:20.685592Z",
          "iopub.status.busy": "2024-09-27T11:57:20.685270Z",
          "iopub.status.idle": "2024-09-27T11:57:20.690089Z",
          "shell.execute_reply": "2024-09-27T11:57:20.689392Z"
        },
        "papermill": {
          "duration": 0.027243,
          "end_time": "2024-09-27T11:57:20.691983",
          "exception": false,
          "start_time": "2024-09-27T11:57:20.664740",
          "status": "completed"
        },
        "tags": [],
        "id": "60331b8f"
      },
      "outputs": [],
      "source": [
        "def chat_conversion(text):\n",
        "    new_text=[]\n",
        "    for w in text.split():\n",
        "        if w.upper() in chat_words:\n",
        "            new_text.append(chat_words[w.upper()])\n",
        "        else:\n",
        "            new_text.append(w)\n",
        "    return \" \".join(new_text)"
      ]
    },
    {
      "cell_type": "code",
      "execution_count": null,
      "id": "007f3fe2",
      "metadata": {
        "execution": {
          "iopub.execute_input": "2024-09-27T11:57:20.732261Z",
          "iopub.status.busy": "2024-09-27T11:57:20.731975Z",
          "iopub.status.idle": "2024-09-27T11:57:21.439616Z",
          "shell.execute_reply": "2024-09-27T11:57:21.438636Z"
        },
        "papermill": {
          "duration": 0.730306,
          "end_time": "2024-09-27T11:57:21.441976",
          "exception": false,
          "start_time": "2024-09-27T11:57:20.711670",
          "status": "completed"
        },
        "tags": [],
        "id": "007f3fe2"
      },
      "outputs": [],
      "source": [
        "train_df['dialogue'] = train_df['dialogue'].apply(chat_conversion)\n",
        "train_df['summary'] = train_df['summary'].apply(chat_conversion)\n",
        "test_df['dialogue'] = test_df['dialogue'].apply(chat_conversion)\n",
        "test_df['summary'] = test_df['summary'].apply(chat_conversion)"
      ]
    },
    {
      "cell_type": "code",
      "execution_count": null,
      "id": "c9e286b0",
      "metadata": {
        "execution": {
          "iopub.execute_input": "2024-09-27T11:57:21.527296Z",
          "iopub.status.busy": "2024-09-27T11:57:21.526890Z",
          "iopub.status.idle": "2024-09-27T11:57:21.532253Z",
          "shell.execute_reply": "2024-09-27T11:57:21.531330Z"
        },
        "papermill": {
          "duration": 0.029826,
          "end_time": "2024-09-27T11:57:21.534196",
          "exception": false,
          "start_time": "2024-09-27T11:57:21.504370",
          "status": "completed"
        },
        "tags": [],
        "id": "c9e286b0"
      },
      "outputs": [],
      "source": [
        "def remove_emoji(text):\n",
        "    emoji_pattern = re.compile(\"[\"\n",
        "                           u\"\\U0001F600-\\U0001F64F\"\n",
        "                           u\"\\U0001F300-\\U0001F5FF\"\n",
        "                           u\"\\U0001F680-\\U0001F6FF\"\n",
        "                           u\"\\U0001F1E0-\\U0001F1FF\"\n",
        "                           u\"\\U00002702-\\U000027B0\"\n",
        "                           u\"\\U000024C2-\\U0001F251\"\n",
        "                           \"]+\", flags=re.UNICODE)\n",
        "    return emoji_pattern.sub(r'', text)"
      ]
    },
    {
      "cell_type": "code",
      "execution_count": null,
      "id": "e120ba1e",
      "metadata": {
        "execution": {
          "iopub.execute_input": "2024-09-27T11:57:21.574723Z",
          "iopub.status.busy": "2024-09-27T11:57:21.574427Z",
          "iopub.status.idle": "2024-09-27T11:57:22.170253Z",
          "shell.execute_reply": "2024-09-27T11:57:22.169302Z"
        },
        "papermill": {
          "duration": 0.618543,
          "end_time": "2024-09-27T11:57:22.172431",
          "exception": false,
          "start_time": "2024-09-27T11:57:21.553888",
          "status": "completed"
        },
        "tags": [],
        "id": "e120ba1e"
      },
      "outputs": [],
      "source": [
        "train_df['dialogue'] = train_df['dialogue'].apply(remove_emoji)\n",
        "train_df['summary'] = train_df['summary'].apply(remove_emoji)\n",
        "test_df['dialogue'] = test_df['dialogue'].apply(remove_emoji)\n",
        "test_df['summary'] = test_df['summary'].apply(remove_emoji)"
      ]
    },
    {
      "cell_type": "code",
      "execution_count": null,
      "id": "09e6c7d4",
      "metadata": {
        "execution": {
          "iopub.execute_input": "2024-09-27T11:57:22.253402Z",
          "iopub.status.busy": "2024-09-27T11:57:22.253039Z",
          "iopub.status.idle": "2024-09-27T11:57:23.346466Z",
          "shell.execute_reply": "2024-09-27T11:57:23.345481Z"
        },
        "papermill": {
          "duration": 1.116747,
          "end_time": "2024-09-27T11:57:23.348885",
          "exception": false,
          "start_time": "2024-09-27T11:57:22.232138",
          "status": "completed"
        },
        "tags": [],
        "id": "09e6c7d4"
      },
      "outputs": [],
      "source": [
        "def expand_contractions(text):\n",
        "    expanded_text = contractions.fix(text)\n",
        "    return expanded_text\n",
        "\n",
        "train_df['dialogue'] = train_df['dialogue'].apply(expand_contractions)\n",
        "train_df['summary'] = train_df['summary'].apply(expand_contractions)\n",
        "test_df['dialogue'] = test_df['dialogue'].apply(expand_contractions)\n",
        "test_df['summary'] = test_df['summary'].apply(expand_contractions)"
      ]
    },
    {
      "cell_type": "code",
      "execution_count": null,
      "id": "558eb95a",
      "metadata": {
        "execution": {
          "iopub.execute_input": "2024-09-27T11:57:23.392815Z",
          "iopub.status.busy": "2024-09-27T11:57:23.392475Z",
          "iopub.status.idle": "2024-09-27T11:57:23.406191Z",
          "shell.execute_reply": "2024-09-27T11:57:23.405313Z"
        },
        "papermill": {
          "duration": 0.038612,
          "end_time": "2024-09-27T11:57:23.408150",
          "exception": false,
          "start_time": "2024-09-27T11:57:23.369538",
          "status": "completed"
        },
        "tags": [],
        "id": "558eb95a"
      },
      "outputs": [],
      "source": [
        "train_df['summary'] = ['<start> ' + sentence + ' <end>' for sentence in train_df['summary']]\n",
        "test_df['summary'] = ['<start> ' + sentence + ' <end>' for sentence in test_df['summary']]"
      ]
    },
    {
      "cell_type": "code",
      "execution_count": null,
      "id": "b1d8d41d",
      "metadata": {
        "execution": {
          "iopub.execute_input": "2024-09-27T11:57:23.488191Z",
          "iopub.status.busy": "2024-09-27T11:57:23.487674Z",
          "iopub.status.idle": "2024-09-27T11:57:24.855921Z",
          "shell.execute_reply": "2024-09-27T11:57:24.855118Z"
        },
        "papermill": {
          "duration": 1.39122,
          "end_time": "2024-09-27T11:57:24.858258",
          "exception": false,
          "start_time": "2024-09-27T11:57:23.467038",
          "status": "completed"
        },
        "tags": [],
        "id": "b1d8d41d"
      },
      "outputs": [],
      "source": [
        "tok = Tokenizer()\n",
        "tok.fit_on_texts(train_df['dialogue']+train_df['summary'])"
      ]
    },
    {
      "cell_type": "code",
      "execution_count": null,
      "id": "dcb4f80a",
      "metadata": {
        "execution": {
          "iopub.execute_input": "2024-09-27T11:57:24.899645Z",
          "iopub.status.busy": "2024-09-27T11:57:24.899304Z",
          "iopub.status.idle": "2024-09-27T11:57:24.905126Z",
          "shell.execute_reply": "2024-09-27T11:57:24.904255Z"
        },
        "papermill": {
          "duration": 0.028449,
          "end_time": "2024-09-27T11:57:24.906920",
          "exception": false,
          "start_time": "2024-09-27T11:57:24.878471",
          "status": "completed"
        },
        "tags": [],
        "id": "dcb4f80a",
        "outputId": "b7da681f-a617-4326-8c02-23b490fd152f",
        "colab": {
          "base_uri": "https://localhost:8080/"
        }
      },
      "outputs": [
        {
          "output_type": "execute_result",
          "data": {
            "text/plain": [
              "33259"
            ]
          },
          "metadata": {},
          "execution_count": 28
        }
      ],
      "source": [
        "len(tok.word_index)"
      ]
    },
    {
      "cell_type": "code",
      "execution_count": null,
      "id": "1b8925ae",
      "metadata": {
        "execution": {
          "iopub.execute_input": "2024-09-27T11:57:24.947995Z",
          "iopub.status.busy": "2024-09-27T11:57:24.947516Z",
          "iopub.status.idle": "2024-09-27T11:57:24.953073Z",
          "shell.execute_reply": "2024-09-27T11:57:24.952266Z"
        },
        "papermill": {
          "duration": 0.028202,
          "end_time": "2024-09-27T11:57:24.954944",
          "exception": false,
          "start_time": "2024-09-27T11:57:24.926742",
          "status": "completed"
        },
        "tags": [],
        "id": "1b8925ae",
        "outputId": "3b3388e9-06d8-4c44-e722-f0d578770eab",
        "colab": {
          "base_uri": "https://localhost:8080/"
        }
      },
      "outputs": [
        {
          "output_type": "execute_result",
          "data": {
            "text/plain": [
              "14731"
            ]
          },
          "metadata": {},
          "execution_count": 29
        }
      ],
      "source": [
        "tok.document_count"
      ]
    },
    {
      "cell_type": "code",
      "execution_count": null,
      "id": "de64b8ed",
      "metadata": {
        "execution": {
          "iopub.execute_input": "2024-09-27T11:57:25.035829Z",
          "iopub.status.busy": "2024-09-27T11:57:25.035547Z",
          "iopub.status.idle": "2024-09-27T11:57:26.263834Z",
          "shell.execute_reply": "2024-09-27T11:57:26.262908Z"
        },
        "papermill": {
          "duration": 1.251197,
          "end_time": "2024-09-27T11:57:26.266022",
          "exception": false,
          "start_time": "2024-09-27T11:57:25.014825",
          "status": "completed"
        },
        "tags": [],
        "id": "de64b8ed"
      },
      "outputs": [],
      "source": [
        "train_df['dialogue'] = tok.texts_to_sequences(train_df['dialogue'])\n",
        "train_df['summary'] = tok.texts_to_sequences(train_df['summary'])\n",
        "\n",
        "test_df['dialogue'] = tok.texts_to_sequences(test_df['dialogue'])\n",
        "test_df['summary'] = tok.texts_to_sequences(test_df['summary'])"
      ]
    },
    {
      "cell_type": "code",
      "execution_count": null,
      "id": "f848c111",
      "metadata": {
        "execution": {
          "iopub.execute_input": "2024-09-27T11:57:26.308048Z",
          "iopub.status.busy": "2024-09-27T11:57:26.307752Z",
          "iopub.status.idle": "2024-09-27T11:57:26.331867Z",
          "shell.execute_reply": "2024-09-27T11:57:26.331021Z"
        },
        "papermill": {
          "duration": 0.047464,
          "end_time": "2024-09-27T11:57:26.334058",
          "exception": false,
          "start_time": "2024-09-27T11:57:26.286594",
          "status": "completed"
        },
        "tags": [],
        "id": "f848c111",
        "outputId": "8f7d94eb-96ca-45b6-e905-14b9dc9d27f3",
        "colab": {
          "base_uri": "https://localhost:8080/",
          "height": 424
        }
      },
      "outputs": [
        {
          "output_type": "execute_result",
          "data": {
            "text/plain": [
              "                                                dialogue  \\\n",
              "0      [423, 1, 3359, 1528, 15, 2, 71, 52, 584, 70, 4...   \n",
              "1      [318, 144, 18, 2, 5396, 11, 10, 39, 2944, 604,...   \n",
              "2      [225, 116, 26, 7, 60, 356, 217, 1440, 3, 24, 8...   \n",
              "3      [1001, 410, 1, 61, 1, 21, 10, 21537, 29, 831, ...   \n",
              "4      [192, 113, 9658, 491, 167, 109, 192, 1, 15, 8,...   \n",
              "...                                                  ...   \n",
              "14727  [4686, 2, 18, 25, 20, 141, 2, 235, 32, 845, 13...   \n",
              "14728  [1076, 137, 1076, 137, 1076, 113, 882, 50, 18,...   \n",
              "14729  [112, 432, 146, 52, 217, 527, 2850, 12, 5972, ...   \n",
              "14730  [597, 631, 2969, 50, 18, 2, 214, 597, 4, 656, ...   \n",
              "14731  [1586, 18, 2, 413, 11, 801, 4705, 30, 80, 3, 3...   \n",
              "\n",
              "                                                 summary  \n",
              "0      [16, 423, 3359, 1528, 6, 12, 211, 584, 52, 98,...  \n",
              "1      [16, 318, 6, 1588, 18, 5396, 11, 11934, 10, 39...  \n",
              "2      [16, 356, 235, 174, 4, 16211, 13671, 1959, 118...  \n",
              "3      [16, 1001, 556, 38, 7, 10, 132, 29, 831, 410, ...  \n",
              "4      [16, 192, 7, 2350, 110, 38, 9658, 491, 2300, 3...  \n",
              "...                                                  ...  \n",
              "14727  [16, 4686, 7, 512, 3, 64, 1386, 3, 1281, 76, 3...  \n",
              "14728  [16, 1076, 7, 27, 96, 33, 765, 323, 341, 6, 32...  \n",
              "14729  [16, 2850, 7, 46, 3, 5972, 8896, 177, 1983, 6,...  \n",
              "14730  [16, 2969, 101, 8, 129, 9, 3, 4, 656, 29, 4, 3...  \n",
              "14731  [16, 1586, 6, 2717, 18, 242, 11, 5, 801, 10, 2...  \n",
              "\n",
              "[14731 rows x 2 columns]"
            ],
            "text/html": [
              "\n",
              "  <div id=\"df-0e702c29-44da-4807-93d3-78489e8e9d3f\" class=\"colab-df-container\">\n",
              "    <div>\n",
              "<style scoped>\n",
              "    .dataframe tbody tr th:only-of-type {\n",
              "        vertical-align: middle;\n",
              "    }\n",
              "\n",
              "    .dataframe tbody tr th {\n",
              "        vertical-align: top;\n",
              "    }\n",
              "\n",
              "    .dataframe thead th {\n",
              "        text-align: right;\n",
              "    }\n",
              "</style>\n",
              "<table border=\"1\" class=\"dataframe\">\n",
              "  <thead>\n",
              "    <tr style=\"text-align: right;\">\n",
              "      <th></th>\n",
              "      <th>dialogue</th>\n",
              "      <th>summary</th>\n",
              "    </tr>\n",
              "  </thead>\n",
              "  <tbody>\n",
              "    <tr>\n",
              "      <th>0</th>\n",
              "      <td>[423, 1, 3359, 1528, 15, 2, 71, 52, 584, 70, 4...</td>\n",
              "      <td>[16, 423, 3359, 1528, 6, 12, 211, 584, 52, 98,...</td>\n",
              "    </tr>\n",
              "    <tr>\n",
              "      <th>1</th>\n",
              "      <td>[318, 144, 18, 2, 5396, 11, 10, 39, 2944, 604,...</td>\n",
              "      <td>[16, 318, 6, 1588, 18, 5396, 11, 11934, 10, 39...</td>\n",
              "    </tr>\n",
              "    <tr>\n",
              "      <th>2</th>\n",
              "      <td>[225, 116, 26, 7, 60, 356, 217, 1440, 3, 24, 8...</td>\n",
              "      <td>[16, 356, 235, 174, 4, 16211, 13671, 1959, 118...</td>\n",
              "    </tr>\n",
              "    <tr>\n",
              "      <th>3</th>\n",
              "      <td>[1001, 410, 1, 61, 1, 21, 10, 21537, 29, 831, ...</td>\n",
              "      <td>[16, 1001, 556, 38, 7, 10, 132, 29, 831, 410, ...</td>\n",
              "    </tr>\n",
              "    <tr>\n",
              "      <th>4</th>\n",
              "      <td>[192, 113, 9658, 491, 167, 109, 192, 1, 15, 8,...</td>\n",
              "      <td>[16, 192, 7, 2350, 110, 38, 9658, 491, 2300, 3...</td>\n",
              "    </tr>\n",
              "    <tr>\n",
              "      <th>...</th>\n",
              "      <td>...</td>\n",
              "      <td>...</td>\n",
              "    </tr>\n",
              "    <tr>\n",
              "      <th>14727</th>\n",
              "      <td>[4686, 2, 18, 25, 20, 141, 2, 235, 32, 845, 13...</td>\n",
              "      <td>[16, 4686, 7, 512, 3, 64, 1386, 3, 1281, 76, 3...</td>\n",
              "    </tr>\n",
              "    <tr>\n",
              "      <th>14728</th>\n",
              "      <td>[1076, 137, 1076, 137, 1076, 113, 882, 50, 18,...</td>\n",
              "      <td>[16, 1076, 7, 27, 96, 33, 765, 323, 341, 6, 32...</td>\n",
              "    </tr>\n",
              "    <tr>\n",
              "      <th>14729</th>\n",
              "      <td>[112, 432, 146, 52, 217, 527, 2850, 12, 5972, ...</td>\n",
              "      <td>[16, 2850, 7, 46, 3, 5972, 8896, 177, 1983, 6,...</td>\n",
              "    </tr>\n",
              "    <tr>\n",
              "      <th>14730</th>\n",
              "      <td>[597, 631, 2969, 50, 18, 2, 214, 597, 4, 656, ...</td>\n",
              "      <td>[16, 2969, 101, 8, 129, 9, 3, 4, 656, 29, 4, 3...</td>\n",
              "    </tr>\n",
              "    <tr>\n",
              "      <th>14731</th>\n",
              "      <td>[1586, 18, 2, 413, 11, 801, 4705, 30, 80, 3, 3...</td>\n",
              "      <td>[16, 1586, 6, 2717, 18, 242, 11, 5, 801, 10, 2...</td>\n",
              "    </tr>\n",
              "  </tbody>\n",
              "</table>\n",
              "<p>14731 rows × 2 columns</p>\n",
              "</div>\n",
              "    <div class=\"colab-df-buttons\">\n",
              "\n",
              "  <div class=\"colab-df-container\">\n",
              "    <button class=\"colab-df-convert\" onclick=\"convertToInteractive('df-0e702c29-44da-4807-93d3-78489e8e9d3f')\"\n",
              "            title=\"Convert this dataframe to an interactive table.\"\n",
              "            style=\"display:none;\">\n",
              "\n",
              "  <svg xmlns=\"http://www.w3.org/2000/svg\" height=\"24px\" viewBox=\"0 -960 960 960\">\n",
              "    <path d=\"M120-120v-720h720v720H120Zm60-500h600v-160H180v160Zm220 220h160v-160H400v160Zm0 220h160v-160H400v160ZM180-400h160v-160H180v160Zm440 0h160v-160H620v160ZM180-180h160v-160H180v160Zm440 0h160v-160H620v160Z\"/>\n",
              "  </svg>\n",
              "    </button>\n",
              "\n",
              "  <style>\n",
              "    .colab-df-container {\n",
              "      display:flex;\n",
              "      gap: 12px;\n",
              "    }\n",
              "\n",
              "    .colab-df-convert {\n",
              "      background-color: #E8F0FE;\n",
              "      border: none;\n",
              "      border-radius: 50%;\n",
              "      cursor: pointer;\n",
              "      display: none;\n",
              "      fill: #1967D2;\n",
              "      height: 32px;\n",
              "      padding: 0 0 0 0;\n",
              "      width: 32px;\n",
              "    }\n",
              "\n",
              "    .colab-df-convert:hover {\n",
              "      background-color: #E2EBFA;\n",
              "      box-shadow: 0px 1px 2px rgba(60, 64, 67, 0.3), 0px 1px 3px 1px rgba(60, 64, 67, 0.15);\n",
              "      fill: #174EA6;\n",
              "    }\n",
              "\n",
              "    .colab-df-buttons div {\n",
              "      margin-bottom: 4px;\n",
              "    }\n",
              "\n",
              "    [theme=dark] .colab-df-convert {\n",
              "      background-color: #3B4455;\n",
              "      fill: #D2E3FC;\n",
              "    }\n",
              "\n",
              "    [theme=dark] .colab-df-convert:hover {\n",
              "      background-color: #434B5C;\n",
              "      box-shadow: 0px 1px 3px 1px rgba(0, 0, 0, 0.15);\n",
              "      filter: drop-shadow(0px 1px 2px rgba(0, 0, 0, 0.3));\n",
              "      fill: #FFFFFF;\n",
              "    }\n",
              "  </style>\n",
              "\n",
              "    <script>\n",
              "      const buttonEl =\n",
              "        document.querySelector('#df-0e702c29-44da-4807-93d3-78489e8e9d3f button.colab-df-convert');\n",
              "      buttonEl.style.display =\n",
              "        google.colab.kernel.accessAllowed ? 'block' : 'none';\n",
              "\n",
              "      async function convertToInteractive(key) {\n",
              "        const element = document.querySelector('#df-0e702c29-44da-4807-93d3-78489e8e9d3f');\n",
              "        const dataTable =\n",
              "          await google.colab.kernel.invokeFunction('convertToInteractive',\n",
              "                                                    [key], {});\n",
              "        if (!dataTable) return;\n",
              "\n",
              "        const docLinkHtml = 'Like what you see? Visit the ' +\n",
              "          '<a target=\"_blank\" href=https://colab.research.google.com/notebooks/data_table.ipynb>data table notebook</a>'\n",
              "          + ' to learn more about interactive tables.';\n",
              "        element.innerHTML = '';\n",
              "        dataTable['output_type'] = 'display_data';\n",
              "        await google.colab.output.renderOutput(dataTable, element);\n",
              "        const docLink = document.createElement('div');\n",
              "        docLink.innerHTML = docLinkHtml;\n",
              "        element.appendChild(docLink);\n",
              "      }\n",
              "    </script>\n",
              "  </div>\n",
              "\n",
              "\n",
              "<div id=\"df-ce4070f5-aa10-4200-b9a2-1099e296b2a1\">\n",
              "  <button class=\"colab-df-quickchart\" onclick=\"quickchart('df-ce4070f5-aa10-4200-b9a2-1099e296b2a1')\"\n",
              "            title=\"Suggest charts\"\n",
              "            style=\"display:none;\">\n",
              "\n",
              "<svg xmlns=\"http://www.w3.org/2000/svg\" height=\"24px\"viewBox=\"0 0 24 24\"\n",
              "     width=\"24px\">\n",
              "    <g>\n",
              "        <path d=\"M19 3H5c-1.1 0-2 .9-2 2v14c0 1.1.9 2 2 2h14c1.1 0 2-.9 2-2V5c0-1.1-.9-2-2-2zM9 17H7v-7h2v7zm4 0h-2V7h2v10zm4 0h-2v-4h2v4z\"/>\n",
              "    </g>\n",
              "</svg>\n",
              "  </button>\n",
              "\n",
              "<style>\n",
              "  .colab-df-quickchart {\n",
              "      --bg-color: #E8F0FE;\n",
              "      --fill-color: #1967D2;\n",
              "      --hover-bg-color: #E2EBFA;\n",
              "      --hover-fill-color: #174EA6;\n",
              "      --disabled-fill-color: #AAA;\n",
              "      --disabled-bg-color: #DDD;\n",
              "  }\n",
              "\n",
              "  [theme=dark] .colab-df-quickchart {\n",
              "      --bg-color: #3B4455;\n",
              "      --fill-color: #D2E3FC;\n",
              "      --hover-bg-color: #434B5C;\n",
              "      --hover-fill-color: #FFFFFF;\n",
              "      --disabled-bg-color: #3B4455;\n",
              "      --disabled-fill-color: #666;\n",
              "  }\n",
              "\n",
              "  .colab-df-quickchart {\n",
              "    background-color: var(--bg-color);\n",
              "    border: none;\n",
              "    border-radius: 50%;\n",
              "    cursor: pointer;\n",
              "    display: none;\n",
              "    fill: var(--fill-color);\n",
              "    height: 32px;\n",
              "    padding: 0;\n",
              "    width: 32px;\n",
              "  }\n",
              "\n",
              "  .colab-df-quickchart:hover {\n",
              "    background-color: var(--hover-bg-color);\n",
              "    box-shadow: 0 1px 2px rgba(60, 64, 67, 0.3), 0 1px 3px 1px rgba(60, 64, 67, 0.15);\n",
              "    fill: var(--button-hover-fill-color);\n",
              "  }\n",
              "\n",
              "  .colab-df-quickchart-complete:disabled,\n",
              "  .colab-df-quickchart-complete:disabled:hover {\n",
              "    background-color: var(--disabled-bg-color);\n",
              "    fill: var(--disabled-fill-color);\n",
              "    box-shadow: none;\n",
              "  }\n",
              "\n",
              "  .colab-df-spinner {\n",
              "    border: 2px solid var(--fill-color);\n",
              "    border-color: transparent;\n",
              "    border-bottom-color: var(--fill-color);\n",
              "    animation:\n",
              "      spin 1s steps(1) infinite;\n",
              "  }\n",
              "\n",
              "  @keyframes spin {\n",
              "    0% {\n",
              "      border-color: transparent;\n",
              "      border-bottom-color: var(--fill-color);\n",
              "      border-left-color: var(--fill-color);\n",
              "    }\n",
              "    20% {\n",
              "      border-color: transparent;\n",
              "      border-left-color: var(--fill-color);\n",
              "      border-top-color: var(--fill-color);\n",
              "    }\n",
              "    30% {\n",
              "      border-color: transparent;\n",
              "      border-left-color: var(--fill-color);\n",
              "      border-top-color: var(--fill-color);\n",
              "      border-right-color: var(--fill-color);\n",
              "    }\n",
              "    40% {\n",
              "      border-color: transparent;\n",
              "      border-right-color: var(--fill-color);\n",
              "      border-top-color: var(--fill-color);\n",
              "    }\n",
              "    60% {\n",
              "      border-color: transparent;\n",
              "      border-right-color: var(--fill-color);\n",
              "    }\n",
              "    80% {\n",
              "      border-color: transparent;\n",
              "      border-right-color: var(--fill-color);\n",
              "      border-bottom-color: var(--fill-color);\n",
              "    }\n",
              "    90% {\n",
              "      border-color: transparent;\n",
              "      border-bottom-color: var(--fill-color);\n",
              "    }\n",
              "  }\n",
              "</style>\n",
              "\n",
              "  <script>\n",
              "    async function quickchart(key) {\n",
              "      const quickchartButtonEl =\n",
              "        document.querySelector('#' + key + ' button');\n",
              "      quickchartButtonEl.disabled = true;  // To prevent multiple clicks.\n",
              "      quickchartButtonEl.classList.add('colab-df-spinner');\n",
              "      try {\n",
              "        const charts = await google.colab.kernel.invokeFunction(\n",
              "            'suggestCharts', [key], {});\n",
              "      } catch (error) {\n",
              "        console.error('Error during call to suggestCharts:', error);\n",
              "      }\n",
              "      quickchartButtonEl.classList.remove('colab-df-spinner');\n",
              "      quickchartButtonEl.classList.add('colab-df-quickchart-complete');\n",
              "    }\n",
              "    (() => {\n",
              "      let quickchartButtonEl =\n",
              "        document.querySelector('#df-ce4070f5-aa10-4200-b9a2-1099e296b2a1 button');\n",
              "      quickchartButtonEl.style.display =\n",
              "        google.colab.kernel.accessAllowed ? 'block' : 'none';\n",
              "    })();\n",
              "  </script>\n",
              "</div>\n",
              "\n",
              "  <div id=\"id_f322d078-7ed8-4050-8b11-63f04440846a\">\n",
              "    <style>\n",
              "      .colab-df-generate {\n",
              "        background-color: #E8F0FE;\n",
              "        border: none;\n",
              "        border-radius: 50%;\n",
              "        cursor: pointer;\n",
              "        display: none;\n",
              "        fill: #1967D2;\n",
              "        height: 32px;\n",
              "        padding: 0 0 0 0;\n",
              "        width: 32px;\n",
              "      }\n",
              "\n",
              "      .colab-df-generate:hover {\n",
              "        background-color: #E2EBFA;\n",
              "        box-shadow: 0px 1px 2px rgba(60, 64, 67, 0.3), 0px 1px 3px 1px rgba(60, 64, 67, 0.15);\n",
              "        fill: #174EA6;\n",
              "      }\n",
              "\n",
              "      [theme=dark] .colab-df-generate {\n",
              "        background-color: #3B4455;\n",
              "        fill: #D2E3FC;\n",
              "      }\n",
              "\n",
              "      [theme=dark] .colab-df-generate:hover {\n",
              "        background-color: #434B5C;\n",
              "        box-shadow: 0px 1px 3px 1px rgba(0, 0, 0, 0.15);\n",
              "        filter: drop-shadow(0px 1px 2px rgba(0, 0, 0, 0.3));\n",
              "        fill: #FFFFFF;\n",
              "      }\n",
              "    </style>\n",
              "    <button class=\"colab-df-generate\" onclick=\"generateWithVariable('train_df')\"\n",
              "            title=\"Generate code using this dataframe.\"\n",
              "            style=\"display:none;\">\n",
              "\n",
              "  <svg xmlns=\"http://www.w3.org/2000/svg\" height=\"24px\"viewBox=\"0 0 24 24\"\n",
              "       width=\"24px\">\n",
              "    <path d=\"M7,19H8.4L18.45,9,17,7.55,7,17.6ZM5,21V16.75L18.45,3.32a2,2,0,0,1,2.83,0l1.4,1.43a1.91,1.91,0,0,1,.58,1.4,1.91,1.91,0,0,1-.58,1.4L9.25,21ZM18.45,9,17,7.55Zm-12,3A5.31,5.31,0,0,0,4.9,8.1,5.31,5.31,0,0,0,1,6.5,5.31,5.31,0,0,0,4.9,4.9,5.31,5.31,0,0,0,6.5,1,5.31,5.31,0,0,0,8.1,4.9,5.31,5.31,0,0,0,12,6.5,5.46,5.46,0,0,0,6.5,12Z\"/>\n",
              "  </svg>\n",
              "    </button>\n",
              "    <script>\n",
              "      (() => {\n",
              "      const buttonEl =\n",
              "        document.querySelector('#id_f322d078-7ed8-4050-8b11-63f04440846a button.colab-df-generate');\n",
              "      buttonEl.style.display =\n",
              "        google.colab.kernel.accessAllowed ? 'block' : 'none';\n",
              "\n",
              "      buttonEl.onclick = () => {\n",
              "        google.colab.notebook.generateWithVariable('train_df');\n",
              "      }\n",
              "      })();\n",
              "    </script>\n",
              "  </div>\n",
              "\n",
              "    </div>\n",
              "  </div>\n"
            ],
            "application/vnd.google.colaboratory.intrinsic+json": {
              "type": "dataframe",
              "variable_name": "train_df",
              "summary": "{\n  \"name\": \"train_df\",\n  \"rows\": 14731,\n  \"fields\": [\n    {\n      \"column\": \"dialogue\",\n      \"properties\": {\n        \"dtype\": \"object\",\n        \"semantic_type\": \"\",\n        \"description\": \"\"\n      }\n    },\n    {\n      \"column\": \"summary\",\n      \"properties\": {\n        \"dtype\": \"object\",\n        \"semantic_type\": \"\",\n        \"description\": \"\"\n      }\n    }\n  ]\n}"
            }
          },
          "metadata": {},
          "execution_count": 31
        }
      ],
      "source": [
        "train_df"
      ]
    },
    {
      "cell_type": "code",
      "execution_count": null,
      "id": "54faf69c",
      "metadata": {
        "execution": {
          "iopub.execute_input": "2024-09-27T11:57:26.376451Z",
          "iopub.status.busy": "2024-09-27T11:57:26.376141Z",
          "iopub.status.idle": "2024-09-27T11:57:26.390179Z",
          "shell.execute_reply": "2024-09-27T11:57:26.389350Z"
        },
        "papermill": {
          "duration": 0.037322,
          "end_time": "2024-09-27T11:57:26.392135",
          "exception": false,
          "start_time": "2024-09-27T11:57:26.354813",
          "status": "completed"
        },
        "tags": [],
        "id": "54faf69c",
        "outputId": "eede8942-939d-4fda-b3fe-29369de0dc3f",
        "colab": {
          "base_uri": "https://localhost:8080/"
        }
      },
      "outputs": [
        {
          "output_type": "execute_result",
          "data": {
            "text/plain": [
              "819"
            ]
          },
          "metadata": {},
          "execution_count": 32
        }
      ],
      "source": [
        "def calculate_max_sequence_length(train_summary,train_dialogue,test_summary,test_dialogue):\n",
        "    max_length_1 = max(max(len(seq) for seq in train_dialogue), max(len(seq) for seq in train_summary))\n",
        "    max_length_2 = max(max(len(seq) for seq in test_dialogue), max(len(seq) for seq in test_summary))\n",
        "    max_length_combined = max(max_length_1,max_length_2)\n",
        "    return max_length_combined\n",
        "\n",
        "max_length_combined = calculate_max_sequence_length(train_df['dialogue'],train_df['summary'],test_df['dialogue'],test_df['summary'])\n",
        "max_length_combined"
      ]
    },
    {
      "cell_type": "code",
      "execution_count": null,
      "id": "1e51f50e",
      "metadata": {
        "execution": {
          "iopub.execute_input": "2024-09-27T11:57:26.433718Z",
          "iopub.status.busy": "2024-09-27T11:57:26.433459Z",
          "iopub.status.idle": "2024-09-27T11:57:26.438337Z",
          "shell.execute_reply": "2024-09-27T11:57:26.437420Z"
        },
        "papermill": {
          "duration": 0.027718,
          "end_time": "2024-09-27T11:57:26.440150",
          "exception": false,
          "start_time": "2024-09-27T11:57:26.412432",
          "status": "completed"
        },
        "tags": [],
        "id": "1e51f50e",
        "outputId": "92f390de-5596-4e19-c553-14ac8c1949db",
        "colab": {
          "base_uri": "https://localhost:8080/"
        }
      },
      "outputs": [
        {
          "output_type": "stream",
          "name": "stdout",
          "text": [
            "423 1 3359 1528 15 2 71 52 584 70 423 54 211 2 98 "
          ]
        }
      ],
      "source": [
        "for num in train_df['dialogue'][0]:\n",
        "    print(num, end=' ')"
      ]
    },
    {
      "cell_type": "code",
      "execution_count": null,
      "id": "fdba9f4d",
      "metadata": {
        "execution": {
          "iopub.execute_input": "2024-09-27T11:57:26.483378Z",
          "iopub.status.busy": "2024-09-27T11:57:26.482703Z",
          "iopub.status.idle": "2024-09-27T11:57:26.488056Z",
          "shell.execute_reply": "2024-09-27T11:57:26.487082Z"
        },
        "papermill": {
          "duration": 0.029323,
          "end_time": "2024-09-27T11:57:26.489978",
          "exception": false,
          "start_time": "2024-09-27T11:57:26.460655",
          "status": "completed"
        },
        "tags": [],
        "id": "fdba9f4d",
        "outputId": "5941a45f-aab5-487c-a974-bbf1d72bf0c2",
        "colab": {
          "base_uri": "https://localhost:8080/"
        }
      },
      "outputs": [
        {
          "output_type": "stream",
          "name": "stdout",
          "text": [
            "amanda i baked cookies do you want some jerry sure amanda ill bring you tomorrow "
          ]
        }
      ],
      "source": [
        "for num in train_df['dialogue'][0]:\n",
        "    word = tok.index_word.get(num, 'UNK')\n",
        "    print(word, end=' ')"
      ]
    },
    {
      "cell_type": "code",
      "execution_count": null,
      "id": "a4e2323d",
      "metadata": {
        "execution": {
          "iopub.execute_input": "2024-09-27T11:57:26.532975Z",
          "iopub.status.busy": "2024-09-27T11:57:26.532679Z",
          "iopub.status.idle": "2024-09-27T11:57:26.537792Z",
          "shell.execute_reply": "2024-09-27T11:57:26.536820Z"
        },
        "papermill": {
          "duration": 0.028492,
          "end_time": "2024-09-27T11:57:26.539717",
          "exception": false,
          "start_time": "2024-09-27T11:57:26.511225",
          "status": "completed"
        },
        "tags": [],
        "id": "a4e2323d",
        "outputId": "b89bc9ff-8afc-47e8-94a5-31a1c12e5cad",
        "colab": {
          "base_uri": "https://localhost:8080/"
        }
      },
      "outputs": [
        {
          "output_type": "stream",
          "name": "stdout",
          "text": [
            "start amanda baked cookies and will bring jerry some tomorrow end "
          ]
        }
      ],
      "source": [
        "for num in train_df['summary'][0]:\n",
        "    word = tok.index_word.get(num)\n",
        "    print(word,end = \" \")"
      ]
    },
    {
      "cell_type": "code",
      "execution_count": null,
      "id": "104483a8",
      "metadata": {
        "execution": {
          "iopub.execute_input": "2024-09-27T11:57:26.625081Z",
          "iopub.status.busy": "2024-09-27T11:57:26.624792Z",
          "iopub.status.idle": "2024-09-27T11:57:26.891044Z",
          "shell.execute_reply": "2024-09-27T11:57:26.890032Z"
        },
        "papermill": {
          "duration": 0.28977,
          "end_time": "2024-09-27T11:57:26.893439",
          "exception": false,
          "start_time": "2024-09-27T11:57:26.603669",
          "status": "completed"
        },
        "tags": [],
        "id": "104483a8"
      },
      "outputs": [],
      "source": [
        "x_train = pad_sequences(train_df['dialogue'],maxlen = max_length_combined,padding = 'post')\n",
        "y_train = pad_sequences(train_df['summary'],maxlen = max_length_combined,padding = 'post')\n",
        "x_test = pad_sequences(test_df['dialogue'],maxlen = max_length_combined,padding = 'post')\n",
        "y_test = pad_sequences(test_df['summary'],maxlen = max_length_combined,padding = 'post')"
      ]
    },
    {
      "cell_type": "code",
      "execution_count": null,
      "id": "630960c3",
      "metadata": {
        "execution": {
          "iopub.execute_input": "2024-09-27T11:57:26.936751Z",
          "iopub.status.busy": "2024-09-27T11:57:26.936441Z",
          "iopub.status.idle": "2024-09-27T11:57:26.943463Z",
          "shell.execute_reply": "2024-09-27T11:57:26.942644Z"
        },
        "papermill": {
          "duration": 0.030365,
          "end_time": "2024-09-27T11:57:26.945218",
          "exception": false,
          "start_time": "2024-09-27T11:57:26.914853",
          "status": "completed"
        },
        "tags": [],
        "id": "630960c3",
        "outputId": "202ae8a9-0d06-4375-b72d-380b526f68e7",
        "colab": {
          "base_uri": "https://localhost:8080/"
        }
      },
      "outputs": [
        {
          "output_type": "execute_result",
          "data": {
            "text/plain": [
              "array([[ 423,    1, 3359, ...,    0,    0,    0],\n",
              "       [ 318,  144,   18, ...,    0,    0,    0],\n",
              "       [ 225,  116,   26, ...,    0,    0,    0],\n",
              "       ...,\n",
              "       [ 112,  432,  146, ...,    0,    0,    0],\n",
              "       [ 597,  631, 2969, ...,    0,    0,    0],\n",
              "       [1586,   18,    2, ...,    0,    0,    0]], dtype=int32)"
            ]
          },
          "metadata": {},
          "execution_count": 37
        }
      ],
      "source": [
        "x_train"
      ]
    },
    {
      "cell_type": "code",
      "execution_count": null,
      "id": "e4dd81b7",
      "metadata": {
        "execution": {
          "iopub.execute_input": "2024-09-27T11:57:26.987651Z",
          "iopub.status.busy": "2024-09-27T11:57:26.987376Z",
          "iopub.status.idle": "2024-09-27T11:57:26.993078Z",
          "shell.execute_reply": "2024-09-27T11:57:26.992232Z"
        },
        "papermill": {
          "duration": 0.029087,
          "end_time": "2024-09-27T11:57:26.994870",
          "exception": false,
          "start_time": "2024-09-27T11:57:26.965783",
          "status": "completed"
        },
        "tags": [],
        "id": "e4dd81b7",
        "outputId": "1fd34b6d-1e1b-4239-b89a-1bc6de9af005",
        "colab": {
          "base_uri": "https://localhost:8080/"
        }
      },
      "outputs": [
        {
          "output_type": "execute_result",
          "data": {
            "text/plain": [
              "array([[  16,  423, 3359, ...,    0,    0,    0],\n",
              "       [  16,  318,    6, ...,    0,    0,    0],\n",
              "       [  16,  356,  235, ...,    0,    0,    0],\n",
              "       ...,\n",
              "       [  16, 2850,    7, ...,    0,    0,    0],\n",
              "       [  16, 2969,  101, ...,    0,    0,    0],\n",
              "       [  16, 1586,    6, ...,    0,    0,    0]], dtype=int32)"
            ]
          },
          "metadata": {},
          "execution_count": 38
        }
      ],
      "source": [
        "y_train"
      ]
    },
    {
      "cell_type": "code",
      "execution_count": null,
      "id": "fe4789b7",
      "metadata": {
        "execution": {
          "iopub.execute_input": "2024-09-27T11:57:27.037706Z",
          "iopub.status.busy": "2024-09-27T11:57:27.037440Z",
          "iopub.status.idle": "2024-09-27T11:57:27.042301Z",
          "shell.execute_reply": "2024-09-27T11:57:27.041468Z"
        },
        "papermill": {
          "duration": 0.02829,
          "end_time": "2024-09-27T11:57:27.044250",
          "exception": false,
          "start_time": "2024-09-27T11:57:27.015960",
          "status": "completed"
        },
        "tags": [],
        "id": "fe4789b7",
        "outputId": "2ed2b388-eacb-47ef-b196-1c800b859241",
        "colab": {
          "base_uri": "https://localhost:8080/"
        }
      },
      "outputs": [
        {
          "output_type": "stream",
          "name": "stdout",
          "text": [
            "Shape of x_train: (14731, 819)\n",
            "Shape of x_test: (819, 819)\n",
            "Shape of y_train: (14731, 819)\n",
            "Shape of y_test: (819, 819)\n"
          ]
        }
      ],
      "source": [
        "print(\"Shape of x_train:\", x_train.shape)\n",
        "print(\"Shape of x_test:\", x_test.shape)\n",
        "print(\"Shape of y_train:\", y_train.shape)\n",
        "print(\"Shape of y_test:\", y_test.shape)"
      ]
    },
    {
      "cell_type": "markdown",
      "id": "035ee7e7",
      "metadata": {
        "papermill": {
          "duration": 0.020709,
          "end_time": "2024-09-27T11:57:27.085694",
          "exception": false,
          "start_time": "2024-09-27T11:57:27.064985",
          "status": "completed"
        },
        "tags": [],
        "id": "035ee7e7"
      },
      "source": [
        "## Model Building"
      ]
    },
    {
      "cell_type": "code",
      "execution_count": null,
      "id": "a7fe2897",
      "metadata": {
        "execution": {
          "iopub.execute_input": "2024-09-27T11:57:27.169846Z",
          "iopub.status.busy": "2024-09-27T11:57:27.169581Z",
          "iopub.status.idle": "2024-09-27T11:57:28.525558Z",
          "shell.execute_reply": "2024-09-27T11:57:28.524600Z"
        },
        "papermill": {
          "duration": 1.37964,
          "end_time": "2024-09-27T11:57:28.527545",
          "exception": false,
          "start_time": "2024-09-27T11:57:27.147905",
          "status": "completed"
        },
        "tags": [],
        "id": "a7fe2897",
        "outputId": "1aae4fb7-2895-4edc-e487-8bf977930daa",
        "colab": {
          "base_uri": "https://localhost:8080/",
          "height": 529
        }
      },
      "outputs": [
        {
          "output_type": "display_data",
          "data": {
            "text/plain": [
              "\u001b[1mModel: \"functional\"\u001b[0m\n"
            ],
            "text/html": [
              "<pre style=\"white-space:pre;overflow-x:auto;line-height:normal;font-family:Menlo,'DejaVu Sans Mono',consolas,'Courier New',monospace\"><span style=\"font-weight: bold\">Model: \"functional\"</span>\n",
              "</pre>\n"
            ]
          },
          "metadata": {}
        },
        {
          "output_type": "display_data",
          "data": {
            "text/plain": [
              "┏━━━━━━━━━━━━━━━━━━━━━━━━━━━┳━━━━━━━━━━━━━━━━━━━━━━━━┳━━━━━━━━━━━━━━━━┳━━━━━━━━━━━━━━━━━━━━━━━━┓\n",
              "┃\u001b[1m \u001b[0m\u001b[1mLayer (type)             \u001b[0m\u001b[1m \u001b[0m┃\u001b[1m \u001b[0m\u001b[1mOutput Shape          \u001b[0m\u001b[1m \u001b[0m┃\u001b[1m \u001b[0m\u001b[1m       Param #\u001b[0m\u001b[1m \u001b[0m┃\u001b[1m \u001b[0m\u001b[1mConnected to          \u001b[0m\u001b[1m \u001b[0m┃\n",
              "┡━━━━━━━━━━━━━━━━━━━━━━━━━━━╇━━━━━━━━━━━━━━━━━━━━━━━━╇━━━━━━━━━━━━━━━━╇━━━━━━━━━━━━━━━━━━━━━━━━┩\n",
              "│ input_layer (\u001b[38;5;33mInputLayer\u001b[0m)  │ (\u001b[38;5;45mNone\u001b[0m, \u001b[38;5;34m819\u001b[0m)            │              \u001b[38;5;34m0\u001b[0m │ -                      │\n",
              "├───────────────────────────┼────────────────────────┼────────────────┼────────────────────────┤\n",
              "│ input_layer_1             │ (\u001b[38;5;45mNone\u001b[0m, \u001b[38;5;34m819\u001b[0m)            │              \u001b[38;5;34m0\u001b[0m │ -                      │\n",
              "│ (\u001b[38;5;33mInputLayer\u001b[0m)              │                        │                │                        │\n",
              "├───────────────────────────┼────────────────────────┼────────────────┼────────────────────────┤\n",
              "│ embedding (\u001b[38;5;33mEmbedding\u001b[0m)     │ (\u001b[38;5;45mNone\u001b[0m, \u001b[38;5;34m819\u001b[0m, \u001b[38;5;34m260\u001b[0m)       │      \u001b[38;5;34m8,647,600\u001b[0m │ input_layer[\u001b[38;5;34m0\u001b[0m][\u001b[38;5;34m0\u001b[0m]      │\n",
              "├───────────────────────────┼────────────────────────┼────────────────┼────────────────────────┤\n",
              "│ embedding_1 (\u001b[38;5;33mEmbedding\u001b[0m)   │ (\u001b[38;5;45mNone\u001b[0m, \u001b[38;5;34m819\u001b[0m, \u001b[38;5;34m260\u001b[0m)       │      \u001b[38;5;34m8,647,600\u001b[0m │ input_layer_1[\u001b[38;5;34m0\u001b[0m][\u001b[38;5;34m0\u001b[0m]    │\n",
              "├───────────────────────────┼────────────────────────┼────────────────┼────────────────────────┤\n",
              "│ lstm_1 (\u001b[38;5;33mLSTM\u001b[0m)             │ [(\u001b[38;5;45mNone\u001b[0m, \u001b[38;5;34m819\u001b[0m, \u001b[38;5;34m64\u001b[0m),      │         \u001b[38;5;34m83,200\u001b[0m │ embedding[\u001b[38;5;34m0\u001b[0m][\u001b[38;5;34m0\u001b[0m]        │\n",
              "│                           │ (\u001b[38;5;45mNone\u001b[0m, \u001b[38;5;34m64\u001b[0m), (\u001b[38;5;45mNone\u001b[0m,     │                │                        │\n",
              "│                           │ \u001b[38;5;34m64\u001b[0m)]                   │                │                        │\n",
              "├───────────────────────────┼────────────────────────┼────────────────┼────────────────────────┤\n",
              "│ lstm_3 (\u001b[38;5;33mLSTM\u001b[0m)             │ [(\u001b[38;5;45mNone\u001b[0m, \u001b[38;5;34m819\u001b[0m, \u001b[38;5;34m64\u001b[0m),      │         \u001b[38;5;34m83,200\u001b[0m │ embedding_1[\u001b[38;5;34m0\u001b[0m][\u001b[38;5;34m0\u001b[0m],     │\n",
              "│                           │ (\u001b[38;5;45mNone\u001b[0m, \u001b[38;5;34m64\u001b[0m), (\u001b[38;5;45mNone\u001b[0m,     │                │ lstm_1[\u001b[38;5;34m0\u001b[0m][\u001b[38;5;34m1\u001b[0m],          │\n",
              "│                           │ \u001b[38;5;34m64\u001b[0m)]                   │                │ lstm_1[\u001b[38;5;34m0\u001b[0m][\u001b[38;5;34m2\u001b[0m]           │\n",
              "├───────────────────────────┼────────────────────────┼────────────────┼────────────────────────┤\n",
              "│ attention (\u001b[38;5;33mAttention\u001b[0m)     │ (\u001b[38;5;45mNone\u001b[0m, \u001b[38;5;34m819\u001b[0m, \u001b[38;5;34m64\u001b[0m)        │              \u001b[38;5;34m0\u001b[0m │ lstm_3[\u001b[38;5;34m0\u001b[0m][\u001b[38;5;34m0\u001b[0m],          │\n",
              "│                           │                        │                │ lstm_1[\u001b[38;5;34m0\u001b[0m][\u001b[38;5;34m0\u001b[0m]           │\n",
              "├───────────────────────────┼────────────────────────┼────────────────┼────────────────────────┤\n",
              "│ concatenate (\u001b[38;5;33mConcatenate\u001b[0m) │ (\u001b[38;5;45mNone\u001b[0m, \u001b[38;5;34m819\u001b[0m, \u001b[38;5;34m128\u001b[0m)       │              \u001b[38;5;34m0\u001b[0m │ lstm_3[\u001b[38;5;34m0\u001b[0m][\u001b[38;5;34m0\u001b[0m],          │\n",
              "│                           │                        │                │ attention[\u001b[38;5;34m0\u001b[0m][\u001b[38;5;34m0\u001b[0m]        │\n",
              "├───────────────────────────┼────────────────────────┼────────────────┼────────────────────────┤\n",
              "│ dense (\u001b[38;5;33mDense\u001b[0m)             │ (\u001b[38;5;45mNone\u001b[0m, \u001b[38;5;34m819\u001b[0m, \u001b[38;5;34m33260\u001b[0m)     │      \u001b[38;5;34m4,290,540\u001b[0m │ concatenate[\u001b[38;5;34m0\u001b[0m][\u001b[38;5;34m0\u001b[0m]      │\n",
              "└───────────────────────────┴────────────────────────┴────────────────┴────────────────────────┘\n"
            ],
            "text/html": [
              "<pre style=\"white-space:pre;overflow-x:auto;line-height:normal;font-family:Menlo,'DejaVu Sans Mono',consolas,'Courier New',monospace\">┏━━━━━━━━━━━━━━━━━━━━━━━━━━━┳━━━━━━━━━━━━━━━━━━━━━━━━┳━━━━━━━━━━━━━━━━┳━━━━━━━━━━━━━━━━━━━━━━━━┓\n",
              "┃<span style=\"font-weight: bold\"> Layer (type)              </span>┃<span style=\"font-weight: bold\"> Output Shape           </span>┃<span style=\"font-weight: bold\">        Param # </span>┃<span style=\"font-weight: bold\"> Connected to           </span>┃\n",
              "┡━━━━━━━━━━━━━━━━━━━━━━━━━━━╇━━━━━━━━━━━━━━━━━━━━━━━━╇━━━━━━━━━━━━━━━━╇━━━━━━━━━━━━━━━━━━━━━━━━┩\n",
              "│ input_layer (<span style=\"color: #0087ff; text-decoration-color: #0087ff\">InputLayer</span>)  │ (<span style=\"color: #00d7ff; text-decoration-color: #00d7ff\">None</span>, <span style=\"color: #00af00; text-decoration-color: #00af00\">819</span>)            │              <span style=\"color: #00af00; text-decoration-color: #00af00\">0</span> │ -                      │\n",
              "├───────────────────────────┼────────────────────────┼────────────────┼────────────────────────┤\n",
              "│ input_layer_1             │ (<span style=\"color: #00d7ff; text-decoration-color: #00d7ff\">None</span>, <span style=\"color: #00af00; text-decoration-color: #00af00\">819</span>)            │              <span style=\"color: #00af00; text-decoration-color: #00af00\">0</span> │ -                      │\n",
              "│ (<span style=\"color: #0087ff; text-decoration-color: #0087ff\">InputLayer</span>)              │                        │                │                        │\n",
              "├───────────────────────────┼────────────────────────┼────────────────┼────────────────────────┤\n",
              "│ embedding (<span style=\"color: #0087ff; text-decoration-color: #0087ff\">Embedding</span>)     │ (<span style=\"color: #00d7ff; text-decoration-color: #00d7ff\">None</span>, <span style=\"color: #00af00; text-decoration-color: #00af00\">819</span>, <span style=\"color: #00af00; text-decoration-color: #00af00\">260</span>)       │      <span style=\"color: #00af00; text-decoration-color: #00af00\">8,647,600</span> │ input_layer[<span style=\"color: #00af00; text-decoration-color: #00af00\">0</span>][<span style=\"color: #00af00; text-decoration-color: #00af00\">0</span>]      │\n",
              "├───────────────────────────┼────────────────────────┼────────────────┼────────────────────────┤\n",
              "│ embedding_1 (<span style=\"color: #0087ff; text-decoration-color: #0087ff\">Embedding</span>)   │ (<span style=\"color: #00d7ff; text-decoration-color: #00d7ff\">None</span>, <span style=\"color: #00af00; text-decoration-color: #00af00\">819</span>, <span style=\"color: #00af00; text-decoration-color: #00af00\">260</span>)       │      <span style=\"color: #00af00; text-decoration-color: #00af00\">8,647,600</span> │ input_layer_1[<span style=\"color: #00af00; text-decoration-color: #00af00\">0</span>][<span style=\"color: #00af00; text-decoration-color: #00af00\">0</span>]    │\n",
              "├───────────────────────────┼────────────────────────┼────────────────┼────────────────────────┤\n",
              "│ lstm_1 (<span style=\"color: #0087ff; text-decoration-color: #0087ff\">LSTM</span>)             │ [(<span style=\"color: #00d7ff; text-decoration-color: #00d7ff\">None</span>, <span style=\"color: #00af00; text-decoration-color: #00af00\">819</span>, <span style=\"color: #00af00; text-decoration-color: #00af00\">64</span>),      │         <span style=\"color: #00af00; text-decoration-color: #00af00\">83,200</span> │ embedding[<span style=\"color: #00af00; text-decoration-color: #00af00\">0</span>][<span style=\"color: #00af00; text-decoration-color: #00af00\">0</span>]        │\n",
              "│                           │ (<span style=\"color: #00d7ff; text-decoration-color: #00d7ff\">None</span>, <span style=\"color: #00af00; text-decoration-color: #00af00\">64</span>), (<span style=\"color: #00d7ff; text-decoration-color: #00d7ff\">None</span>,     │                │                        │\n",
              "│                           │ <span style=\"color: #00af00; text-decoration-color: #00af00\">64</span>)]                   │                │                        │\n",
              "├───────────────────────────┼────────────────────────┼────────────────┼────────────────────────┤\n",
              "│ lstm_3 (<span style=\"color: #0087ff; text-decoration-color: #0087ff\">LSTM</span>)             │ [(<span style=\"color: #00d7ff; text-decoration-color: #00d7ff\">None</span>, <span style=\"color: #00af00; text-decoration-color: #00af00\">819</span>, <span style=\"color: #00af00; text-decoration-color: #00af00\">64</span>),      │         <span style=\"color: #00af00; text-decoration-color: #00af00\">83,200</span> │ embedding_1[<span style=\"color: #00af00; text-decoration-color: #00af00\">0</span>][<span style=\"color: #00af00; text-decoration-color: #00af00\">0</span>],     │\n",
              "│                           │ (<span style=\"color: #00d7ff; text-decoration-color: #00d7ff\">None</span>, <span style=\"color: #00af00; text-decoration-color: #00af00\">64</span>), (<span style=\"color: #00d7ff; text-decoration-color: #00d7ff\">None</span>,     │                │ lstm_1[<span style=\"color: #00af00; text-decoration-color: #00af00\">0</span>][<span style=\"color: #00af00; text-decoration-color: #00af00\">1</span>],          │\n",
              "│                           │ <span style=\"color: #00af00; text-decoration-color: #00af00\">64</span>)]                   │                │ lstm_1[<span style=\"color: #00af00; text-decoration-color: #00af00\">0</span>][<span style=\"color: #00af00; text-decoration-color: #00af00\">2</span>]           │\n",
              "├───────────────────────────┼────────────────────────┼────────────────┼────────────────────────┤\n",
              "│ attention (<span style=\"color: #0087ff; text-decoration-color: #0087ff\">Attention</span>)     │ (<span style=\"color: #00d7ff; text-decoration-color: #00d7ff\">None</span>, <span style=\"color: #00af00; text-decoration-color: #00af00\">819</span>, <span style=\"color: #00af00; text-decoration-color: #00af00\">64</span>)        │              <span style=\"color: #00af00; text-decoration-color: #00af00\">0</span> │ lstm_3[<span style=\"color: #00af00; text-decoration-color: #00af00\">0</span>][<span style=\"color: #00af00; text-decoration-color: #00af00\">0</span>],          │\n",
              "│                           │                        │                │ lstm_1[<span style=\"color: #00af00; text-decoration-color: #00af00\">0</span>][<span style=\"color: #00af00; text-decoration-color: #00af00\">0</span>]           │\n",
              "├───────────────────────────┼────────────────────────┼────────────────┼────────────────────────┤\n",
              "│ concatenate (<span style=\"color: #0087ff; text-decoration-color: #0087ff\">Concatenate</span>) │ (<span style=\"color: #00d7ff; text-decoration-color: #00d7ff\">None</span>, <span style=\"color: #00af00; text-decoration-color: #00af00\">819</span>, <span style=\"color: #00af00; text-decoration-color: #00af00\">128</span>)       │              <span style=\"color: #00af00; text-decoration-color: #00af00\">0</span> │ lstm_3[<span style=\"color: #00af00; text-decoration-color: #00af00\">0</span>][<span style=\"color: #00af00; text-decoration-color: #00af00\">0</span>],          │\n",
              "│                           │                        │                │ attention[<span style=\"color: #00af00; text-decoration-color: #00af00\">0</span>][<span style=\"color: #00af00; text-decoration-color: #00af00\">0</span>]        │\n",
              "├───────────────────────────┼────────────────────────┼────────────────┼────────────────────────┤\n",
              "│ dense (<span style=\"color: #0087ff; text-decoration-color: #0087ff\">Dense</span>)             │ (<span style=\"color: #00d7ff; text-decoration-color: #00d7ff\">None</span>, <span style=\"color: #00af00; text-decoration-color: #00af00\">819</span>, <span style=\"color: #00af00; text-decoration-color: #00af00\">33260</span>)     │      <span style=\"color: #00af00; text-decoration-color: #00af00\">4,290,540</span> │ concatenate[<span style=\"color: #00af00; text-decoration-color: #00af00\">0</span>][<span style=\"color: #00af00; text-decoration-color: #00af00\">0</span>]      │\n",
              "└───────────────────────────┴────────────────────────┴────────────────┴────────────────────────┘\n",
              "</pre>\n"
            ]
          },
          "metadata": {}
        },
        {
          "output_type": "display_data",
          "data": {
            "text/plain": [
              "\u001b[1m Total params: \u001b[0m\u001b[38;5;34m21,752,140\u001b[0m (82.98 MB)\n"
            ],
            "text/html": [
              "<pre style=\"white-space:pre;overflow-x:auto;line-height:normal;font-family:Menlo,'DejaVu Sans Mono',consolas,'Courier New',monospace\"><span style=\"font-weight: bold\"> Total params: </span><span style=\"color: #00af00; text-decoration-color: #00af00\">21,752,140</span> (82.98 MB)\n",
              "</pre>\n"
            ]
          },
          "metadata": {}
        },
        {
          "output_type": "display_data",
          "data": {
            "text/plain": [
              "\u001b[1m Trainable params: \u001b[0m\u001b[38;5;34m21,752,140\u001b[0m (82.98 MB)\n"
            ],
            "text/html": [
              "<pre style=\"white-space:pre;overflow-x:auto;line-height:normal;font-family:Menlo,'DejaVu Sans Mono',consolas,'Courier New',monospace\"><span style=\"font-weight: bold\"> Trainable params: </span><span style=\"color: #00af00; text-decoration-color: #00af00\">21,752,140</span> (82.98 MB)\n",
              "</pre>\n"
            ]
          },
          "metadata": {}
        },
        {
          "output_type": "display_data",
          "data": {
            "text/plain": [
              "\u001b[1m Non-trainable params: \u001b[0m\u001b[38;5;34m0\u001b[0m (0.00 B)\n"
            ],
            "text/html": [
              "<pre style=\"white-space:pre;overflow-x:auto;line-height:normal;font-family:Menlo,'DejaVu Sans Mono',consolas,'Courier New',monospace\"><span style=\"font-weight: bold\"> Non-trainable params: </span><span style=\"color: #00af00; text-decoration-color: #00af00\">0</span> (0.00 B)\n",
              "</pre>\n"
            ]
          },
          "metadata": {}
        }
      ],
      "source": [
        "max_length_input = x_train.shape[1]\n",
        "max_length_output = y_train.shape[1]\n",
        "input_vocab_size = len(tok.word_index) + 1\n",
        "output_vocab_size = len(tok.word_index) + 1\n",
        "\n",
        "# Encoder model\n",
        "encoder_inputs = Input(shape=(max_length_input,))\n",
        "encoder_embedding = Embedding(input_dim=input_vocab_size, output_dim=260)(encoder_inputs)\n",
        "encoder_lstm = LSTM(64, return_sequences=True, return_state=True)\n",
        "encoder_lstm = LSTM(64, return_sequences=True, return_state=True)\n",
        "encoder_outputs, state_h, state_c = encoder_lstm(encoder_embedding)\n",
        "encoder_states = [state_h, state_c]\n",
        "\n",
        "# Decoder model\n",
        "decoder_inputs = Input(shape=(max_length_output,))\n",
        "decoder_embedding = Embedding(input_dim=output_vocab_size, output_dim=260)(decoder_inputs)\n",
        "decoder_lstm = LSTM(64, return_sequences=True, return_state=True)\n",
        "decoder_lstm = LSTM(64, return_sequences=True, return_state=True)\n",
        "decoder_outputs, _, _ = decoder_lstm(decoder_embedding, initial_state=encoder_states)\n",
        "\n",
        "# Attention Layer\n",
        "attention = Attention()([decoder_outputs, encoder_outputs])\n",
        "\n",
        "# Concatenate attention output with decoder outputs\n",
        "decoder_concat_input = Concatenate(axis=-1)([decoder_outputs, attention])\n",
        "\n",
        "# Dense Layer for output prediction\n",
        "decoder_dense = Dense(output_vocab_size, activation='softmax')\n",
        "decoder_outputs = decoder_dense(decoder_concat_input)\n",
        "\n",
        "model = Model([encoder_inputs, decoder_inputs], decoder_outputs)\n",
        "model.compile(optimizer='adam', loss='sparse_categorical_crossentropy', metrics=['accuracy'])\n",
        "model.summary()"
      ]
    },
    {
      "cell_type": "code",
      "execution_count": null,
      "id": "10b852c7",
      "metadata": {
        "execution": {
          "iopub.execute_input": "2024-09-27T11:57:28.578144Z",
          "iopub.status.busy": "2024-09-27T11:57:28.577808Z",
          "iopub.status.idle": "2024-09-27T11:57:29.460688Z",
          "shell.execute_reply": "2024-09-27T11:57:29.459720Z"
        },
        "papermill": {
          "duration": 0.914573,
          "end_time": "2024-09-27T11:57:29.466407",
          "exception": false,
          "start_time": "2024-09-27T11:57:28.551834",
          "status": "completed"
        },
        "tags": [],
        "id": "10b852c7",
        "outputId": "8b01c29b-3a54-46e6-9a2d-2a00dd552418",
        "colab": {
          "base_uri": "https://localhost:8080/",
          "height": 874
        }
      },
      "outputs": [
        {
          "output_type": "execute_result",
          "data": {
            "image/png": "[encoded data removed]",
            "text/plain": [
              "<IPython.core.display.Image object>"
            ]
          },
          "metadata": {},
          "execution_count": 41
        }
      ],
      "source": [
        "from tensorflow.keras.utils import plot_model\n",
        "from IPython.display import Image\n",
        "plot_model(model, to_file='model_plot.png', show_shapes=True, show_layer_names=True)\n",
        "Image('model_plot.png')"
      ]
    },
    {
      "cell_type": "code",
      "execution_count": null,
      "id": "edb09e88",
      "metadata": {
        "execution": {
          "iopub.execute_input": "2024-09-27T11:57:29.526596Z",
          "iopub.status.busy": "2024-09-27T11:57:29.525655Z",
          "iopub.status.idle": "2024-09-27T12:25:52.012327Z",
          "shell.execute_reply": "2024-09-27T12:25:52.011299Z"
        },
        "papermill": {
          "duration": 1702.818495,
          "end_time": "2024-09-27T12:25:52.314404",
          "exception": false,
          "start_time": "2024-09-27T11:57:29.495909",
          "status": "completed"
        },
        "tags": [],
        "id": "edb09e88",
        "outputId": "fa20d5c8-dc04-4a25-fef8-cb9bbbf284aa",
        "colab": {
          "base_uri": "https://localhost:8080/"
        }
      },
      "outputs": [
        {
          "output_type": "stream",
          "name": "stdout",
          "text": [
            "Epoch 1/5\n",
            "\u001b[1m921/921\u001b[0m \u001b[32m━━━━━━━━━━━━━━━━━━━━\u001b[0m\u001b[37m\u001b[0m \u001b[1m344s\u001b[0m 368ms/step - accuracy: 0.9674 - loss: 1.2566 - val_accuracy: 0.9856 - val_loss: 0.1130\n",
            "Epoch 2/5\n",
            "\u001b[1m921/921\u001b[0m \u001b[32m━━━━━━━━━━━━━━━━━━━━\u001b[0m\u001b[37m\u001b[0m \u001b[1m346s\u001b[0m 376ms/step - accuracy: 0.9866 - loss: 0.1060 - val_accuracy: 0.9912 - val_loss: 0.0714\n",
            "Epoch 3/5\n",
            "\u001b[1m921/921\u001b[0m \u001b[32m━━━━━━━━━━━━━━━━━━━━\u001b[0m\u001b[37m\u001b[0m \u001b[1m336s\u001b[0m 365ms/step - accuracy: 0.9915 - loss: 0.0702 - val_accuracy: 0.9938 - val_loss: 0.0523\n",
            "Epoch 4/5\n",
            "\u001b[1m921/921\u001b[0m \u001b[32m━━━━━━━━━━━━━━━━━━━━\u001b[0m\u001b[37m\u001b[0m \u001b[1m389s\u001b[0m 372ms/step - accuracy: 0.9939 - loss: 0.0524 - val_accuracy: 0.9954 - val_loss: 0.0401\n",
            "Epoch 5/5\n",
            "\u001b[1m921/921\u001b[0m \u001b[32m━━━━━━━━━━━━━━━━━━━━\u001b[0m\u001b[37m\u001b[0m \u001b[1m384s\u001b[0m 375ms/step - accuracy: 0.9953 - loss: 0.0405 - val_accuracy: 0.9964 - val_loss: 0.0319\n"
          ]
        }
      ],
      "source": [
        "from tensorflow.keras.callbacks import EarlyStopping, ModelCheckpoint\n",
        "\n",
        "early_stopping = EarlyStopping(monitor='val_loss', patience=3, restore_best_weights=True)\n",
        "model_checkpoint = ModelCheckpoint('model_checkpoint.keras', save_best_only=True)\n",
        "\n",
        "history = model.fit(\n",
        "    x=[x_train, y_train],\n",
        "    y=y_train,\n",
        "    batch_size=16,\n",
        "    epochs=5,\n",
        "    validation_data=([x_test, y_test], y_test),\n",
        "    callbacks=[early_stopping, model_checkpoint],\n",
        ")"
      ]
    },
    {
      "cell_type": "code",
      "execution_count": null,
      "id": "0eb99a52",
      "metadata": {
        "execution": {
          "iopub.execute_input": "2024-09-27T12:25:54.037526Z",
          "iopub.status.busy": "2024-09-27T12:25:54.036612Z",
          "iopub.status.idle": "2024-09-27T12:25:54.735210Z",
          "shell.execute_reply": "2024-09-27T12:25:54.734385Z"
        },
        "papermill": {
          "duration": 1.105304,
          "end_time": "2024-09-27T12:25:54.737896",
          "exception": false,
          "start_time": "2024-09-27T12:25:53.632592",
          "status": "completed"
        },
        "tags": [],
        "id": "0eb99a52",
        "outputId": "191b2795-f04b-442a-812d-6c6fdd5a9651",
        "colab": {
          "base_uri": "https://localhost:8080/",
          "height": 366
        }
      },
      "outputs": [
        {
          "output_type": "display_data",
          "data": {
            "text/plain": [
              "<Figure size 1200x400 with 2 Axes>"
            ],
            "image/png": "[encoded data removed]"
          },
          "metadata": {}
        }
      ],
      "source": [
        "epochs_range = range(1, len(history.history['loss']) + 1)\n",
        "\n",
        "plt.figure(figsize=(12, 4))\n",
        "\n",
        "plt.subplot(1, 2, 1)\n",
        "plt.plot(epochs_range, history.history['loss'], label='Training Loss', marker='o')\n",
        "plt.plot(epochs_range, history.history['val_loss'], label='Validation Loss', marker='o')\n",
        "plt.title('Loss per Epoch')\n",
        "plt.xlabel('Epochs')\n",
        "plt.ylabel('Loss')\n",
        "plt.xticks(epochs_range)\n",
        "plt.legend()\n",
        "\n",
        "plt.subplot(1, 2, 2)\n",
        "plt.plot(epochs_range, history.history['accuracy'], label='Training Accuracy', marker='o')\n",
        "plt.plot(epochs_range, history.history['val_accuracy'], label='Validation Accuracy', marker='o')\n",
        "plt.title('Accuracy per Epoch')\n",
        "plt.xlabel('Epochs')\n",
        "plt.ylabel('Accuracy')\n",
        "plt.xticks(epochs_range)\n",
        "plt.legend()\n",
        "\n",
        "plt.tight_layout()\n",
        "plt.show()"
      ]
    },
    {
      "cell_type": "code",
      "execution_count": null,
      "id": "ddf9b8da",
      "metadata": {
        "_kg_hide-output": true,
        "execution": {
          "iopub.execute_input": "2024-09-27T12:25:55.539145Z",
          "iopub.status.busy": "2024-09-27T12:25:55.538753Z",
          "iopub.status.idle": "2024-09-27T12:28:01.666916Z",
          "shell.execute_reply": "2024-09-27T12:28:01.666080Z"
        },
        "papermill": {
          "duration": 126.531272,
          "end_time": "2024-09-27T12:28:01.669207",
          "exception": false,
          "start_time": "2024-09-27T12:25:55.137935",
          "status": "completed"
        },
        "tags": [],
        "id": "ddf9b8da",
        "outputId": "e7de102b-4bd2-4fa2-a336-0c9536dd76c9",
        "colab": {
          "base_uri": "https://localhost:8080/"
        }
      },
      "outputs": [
        {
          "output_type": "stream",
          "name": "stdout",
          "text": [
            "\u001b[1m1/1\u001b[0m \u001b[32m━━━━━━━━━━━━━━━━━━━━\u001b[0m\u001b[37m\u001b[0m \u001b[1m1s\u001b[0m 1s/step\n",
            "\u001b[1m1/1\u001b[0m \u001b[32m━━━━━━━━━━━━━━━━━━━━\u001b[0m\u001b[37m\u001b[0m \u001b[1m1s\u001b[0m 854ms/step\n",
            "\u001b[1m1/1\u001b[0m \u001b[32m━━━━━━━━━━━━━━━━━━━━\u001b[0m\u001b[37m\u001b[0m \u001b[1m1s\u001b[0m 994ms/step\n",
            "\u001b[1m1/1\u001b[0m \u001b[32m━━━━━━━━━━━━━━━━━━━━\u001b[0m\u001b[37m\u001b[0m \u001b[1m1s\u001b[0m 889ms/step\n",
            "\u001b[1m1/1\u001b[0m \u001b[32m━━━━━━━━━━━━━━━━━━━━\u001b[0m\u001b[37m\u001b[0m \u001b[1m1s\u001b[0m 855ms/step\n",
            "\u001b[1m1/1\u001b[0m \u001b[32m━━━━━━━━━━━━━━━━━━━━\u001b[0m\u001b[37m\u001b[0m \u001b[1m1s\u001b[0m 856ms/step\n",
            "\u001b[1m1/1\u001b[0m \u001b[32m━━━━━━━━━━━━━━━━━━━━\u001b[0m\u001b[37m\u001b[0m \u001b[1m1s\u001b[0m 841ms/step\n",
            "\u001b[1m1/1\u001b[0m \u001b[32m━━━━━━━━━━━━━━━━━━━━\u001b[0m\u001b[37m\u001b[0m \u001b[1m1s\u001b[0m 862ms/step\n",
            "\u001b[1m1/1\u001b[0m \u001b[32m━━━━━━━━━━━━━━━━━━━━\u001b[0m\u001b[37m\u001b[0m \u001b[1m1s\u001b[0m 846ms/step\n",
            "\u001b[1m1/1\u001b[0m \u001b[32m━━━━━━━━━━━━━━━━━━━━\u001b[0m\u001b[37m\u001b[0m \u001b[1m1s\u001b[0m 1s/step   \n",
            "\u001b[1m1/1\u001b[0m \u001b[32m━━━━━━━━━━━━━━━━━━━━\u001b[0m\u001b[37m\u001b[0m \u001b[1m1s\u001b[0m 854ms/step\n",
            "\u001b[1m1/1\u001b[0m \u001b[32m━━━━━━━━━━━━━━━━━━━━\u001b[0m\u001b[37m\u001b[0m \u001b[1m1s\u001b[0m 854ms/step\n",
            "\u001b[1m1/1\u001b[0m \u001b[32m━━━━━━━━━━━━━━━━━━━━\u001b[0m\u001b[37m\u001b[0m \u001b[1m1s\u001b[0m 837ms/step\n",
            "\u001b[1m1/1\u001b[0m \u001b[32m━━━━━━━━━━━━━━━━━━━━\u001b[0m\u001b[37m\u001b[0m \u001b[1m1s\u001b[0m 862ms/step\n",
            "\u001b[1m1/1\u001b[0m \u001b[32m━━━━━━━━━━━━━━━━━━━━\u001b[0m\u001b[37m\u001b[0m \u001b[1m1s\u001b[0m 854ms/step\n",
            "\u001b[1m1/1\u001b[0m \u001b[32m━━━━━━━━━━━━━━━━━━━━\u001b[0m\u001b[37m\u001b[0m \u001b[1m1s\u001b[0m 858ms/step\n",
            "\u001b[1m1/1\u001b[0m \u001b[32m━━━━━━━━━━━━━━━━━━━━\u001b[0m\u001b[37m\u001b[0m \u001b[1m1s\u001b[0m 966ms/step\n",
            "\u001b[1m1/1\u001b[0m \u001b[32m━━━━━━━━━━━━━━━━━━━━\u001b[0m\u001b[37m\u001b[0m \u001b[1m1s\u001b[0m 854ms/step\n",
            "\u001b[1m1/1\u001b[0m \u001b[32m━━━━━━━━━━━━━━━━━━━━\u001b[0m\u001b[37m\u001b[0m \u001b[1m1s\u001b[0m 852ms/step\n",
            "\u001b[1m1/1\u001b[0m \u001b[32m━━━━━━━━━━━━━━━━━━━━\u001b[0m\u001b[37m\u001b[0m \u001b[1m1s\u001b[0m 841ms/step\n",
            "\u001b[1m1/1\u001b[0m \u001b[32m━━━━━━━━━━━━━━━━━━━━\u001b[0m\u001b[37m\u001b[0m \u001b[1m1s\u001b[0m 853ms/step\n",
            "\u001b[1m1/1\u001b[0m \u001b[32m━━━━━━━━━━━━━━━━━━━━\u001b[0m\u001b[37m\u001b[0m \u001b[1m1s\u001b[0m 849ms/step\n",
            "\u001b[1m1/1\u001b[0m \u001b[32m━━━━━━━━━━━━━━━━━━━━\u001b[0m\u001b[37m\u001b[0m \u001b[1m1s\u001b[0m 856ms/step\n",
            "\u001b[1m1/1\u001b[0m \u001b[32m━━━━━━━━━━━━━━━━━━━━\u001b[0m\u001b[37m\u001b[0m \u001b[1m1s\u001b[0m 962ms/step\n",
            "\u001b[1m1/1\u001b[0m \u001b[32m━━━━━━━━━━━━━━━━━━━━\u001b[0m\u001b[37m\u001b[0m \u001b[1m1s\u001b[0m 849ms/step\n",
            "\u001b[1m1/1\u001b[0m \u001b[32m━━━━━━━━━━━━━━━━━━━━\u001b[0m\u001b[37m\u001b[0m \u001b[1m1s\u001b[0m 856ms/step\n",
            "\u001b[1m1/1\u001b[0m \u001b[32m━━━━━━━━━━━━━━━━━━━━\u001b[0m\u001b[37m\u001b[0m \u001b[1m1s\u001b[0m 847ms/step\n",
            "\u001b[1m1/1\u001b[0m \u001b[32m━━━━━━━━━━━━━━━━━━━━\u001b[0m\u001b[37m\u001b[0m \u001b[1m1s\u001b[0m 851ms/step\n",
            "\u001b[1m1/1\u001b[0m \u001b[32m━━━━━━━━━━━━━━━━━━━━\u001b[0m\u001b[37m\u001b[0m \u001b[1m1s\u001b[0m 855ms/step\n",
            "\u001b[1m1/1\u001b[0m \u001b[32m━━━━━━━━━━━━━━━━━━━━\u001b[0m\u001b[37m\u001b[0m \u001b[1m1s\u001b[0m 846ms/step\n",
            "\u001b[1m1/1\u001b[0m \u001b[32m━━━━━━━━━━━━━━━━━━━━\u001b[0m\u001b[37m\u001b[0m \u001b[1m1s\u001b[0m 921ms/step\n",
            "\u001b[1m1/1\u001b[0m \u001b[32m━━━━━━━━━━━━━━━━━━━━\u001b[0m\u001b[37m\u001b[0m \u001b[1m1s\u001b[0m 851ms/step\n",
            "\u001b[1m1/1\u001b[0m \u001b[32m━━━━━━━━━━━━━━━━━━━━\u001b[0m\u001b[37m\u001b[0m \u001b[1m1s\u001b[0m 853ms/step\n",
            "\u001b[1m1/1\u001b[0m \u001b[32m━━━━━━━━━━━━━━━━━━━━\u001b[0m\u001b[37m\u001b[0m \u001b[1m1s\u001b[0m 848ms/step\n",
            "\u001b[1m1/1\u001b[0m \u001b[32m━━━━━━━━━━━━━━━━━━━━\u001b[0m\u001b[37m\u001b[0m \u001b[1m1s\u001b[0m 852ms/step\n",
            "\u001b[1m1/1\u001b[0m \u001b[32m━━━━━━━━━━━━━━━━━━━━\u001b[0m\u001b[37m\u001b[0m \u001b[1m1s\u001b[0m 851ms/step\n",
            "\u001b[1m1/1\u001b[0m \u001b[32m━━━━━━━━━━━━━━━━━━━━\u001b[0m\u001b[37m\u001b[0m \u001b[1m1s\u001b[0m 850ms/step\n",
            "\u001b[1m1/1\u001b[0m \u001b[32m━━━━━━━━━━━━━━━━━━━━\u001b[0m\u001b[37m\u001b[0m \u001b[1m1s\u001b[0m 939ms/step\n",
            "\u001b[1m1/1\u001b[0m \u001b[32m━━━━━━━━━━━━━━━━━━━━\u001b[0m\u001b[37m\u001b[0m \u001b[1m1s\u001b[0m 841ms/step\n",
            "\u001b[1m1/1\u001b[0m \u001b[32m━━━━━━━━━━━━━━━━━━━━\u001b[0m\u001b[37m\u001b[0m \u001b[1m1s\u001b[0m 847ms/step\n",
            "\u001b[1m1/1\u001b[0m \u001b[32m━━━━━━━━━━━━━━━━━━━━\u001b[0m\u001b[37m\u001b[0m \u001b[1m1s\u001b[0m 862ms/step\n",
            "\u001b[1m1/1\u001b[0m \u001b[32m━━━━━━━━━━━━━━━━━━━━\u001b[0m\u001b[37m\u001b[0m \u001b[1m1s\u001b[0m 849ms/step\n",
            "\u001b[1m1/1\u001b[0m \u001b[32m━━━━━━━━━━━━━━━━━━━━\u001b[0m\u001b[37m\u001b[0m \u001b[1m1s\u001b[0m 847ms/step\n",
            "\u001b[1m1/1\u001b[0m \u001b[32m━━━━━━━━━━━━━━━━━━━━\u001b[0m\u001b[37m\u001b[0m \u001b[1m1s\u001b[0m 854ms/step\n",
            "\u001b[1m1/1\u001b[0m \u001b[32m━━━━━━━━━━━━━━━━━━━━\u001b[0m\u001b[37m\u001b[0m \u001b[1m1s\u001b[0m 990ms/step\n",
            "\u001b[1m1/1\u001b[0m \u001b[32m━━━━━━━━━━━━━━━━━━━━\u001b[0m\u001b[37m\u001b[0m \u001b[1m1s\u001b[0m 1s/step\n",
            "\u001b[1m1/1\u001b[0m \u001b[32m━━━━━━━━━━━━━━━━━━━━\u001b[0m\u001b[37m\u001b[0m \u001b[1m1s\u001b[0m 851ms/step\n",
            "\u001b[1m1/1\u001b[0m \u001b[32m━━━━━━━━━━━━━━━━━━━━\u001b[0m\u001b[37m\u001b[0m \u001b[1m1s\u001b[0m 859ms/step\n",
            "\u001b[1m1/1\u001b[0m \u001b[32m━━━━━━━━━━━━━━━━━━━━\u001b[0m\u001b[37m\u001b[0m \u001b[1m1s\u001b[0m 858ms/step\n",
            "\u001b[1m1/1\u001b[0m \u001b[32m━━━━━━━━━━━━━━━━━━━━\u001b[0m\u001b[37m\u001b[0m \u001b[1m1s\u001b[0m 843ms/step\n",
            "\u001b[1m1/1\u001b[0m \u001b[32m━━━━━━━━━━━━━━━━━━━━\u001b[0m\u001b[37m\u001b[0m \u001b[1m1s\u001b[0m 840ms/step\n",
            "\u001b[1m1/1\u001b[0m \u001b[32m━━━━━━━━━━━━━━━━━━━━\u001b[0m\u001b[37m\u001b[0m \u001b[1m1s\u001b[0m 865ms/step\n",
            "\u001b[1m1/1\u001b[0m \u001b[32m━━━━━━━━━━━━━━━━━━━━\u001b[0m\u001b[37m\u001b[0m \u001b[1m1s\u001b[0m 934ms/step\n",
            "\u001b[1m1/1\u001b[0m \u001b[32m━━━━━━━━━━━━━━━━━━━━\u001b[0m\u001b[37m\u001b[0m \u001b[1m1s\u001b[0m 1s/step\n",
            "\u001b[1m1/1\u001b[0m \u001b[32m━━━━━━━━━━━━━━━━━━━━\u001b[0m\u001b[37m\u001b[0m \u001b[1m1s\u001b[0m 846ms/step\n",
            "\u001b[1m1/1\u001b[0m \u001b[32m━━━━━━━━━━━━━━━━━━━━\u001b[0m\u001b[37m\u001b[0m \u001b[1m1s\u001b[0m 847ms/step\n",
            "\u001b[1m1/1\u001b[0m \u001b[32m━━━━━━━━━━━━━━━━━━━━\u001b[0m\u001b[37m\u001b[0m \u001b[1m1s\u001b[0m 855ms/step\n",
            "\u001b[1m1/1\u001b[0m \u001b[32m━━━━━━━━━━━━━━━━━━━━\u001b[0m\u001b[37m\u001b[0m \u001b[1m1s\u001b[0m 854ms/step\n",
            "\u001b[1m1/1\u001b[0m \u001b[32m━━━━━━━━━━━━━━━━━━━━\u001b[0m\u001b[37m\u001b[0m \u001b[1m1s\u001b[0m 839ms/step\n",
            "\u001b[1m1/1\u001b[0m \u001b[32m━━━━━━━━━━━━━━━━━━━━\u001b[0m\u001b[37m\u001b[0m \u001b[1m1s\u001b[0m 849ms/step\n",
            "\u001b[1m1/1\u001b[0m \u001b[32m━━━━━━━━━━━━━━━━━━━━\u001b[0m\u001b[37m\u001b[0m \u001b[1m1s\u001b[0m 960ms/step\n",
            "\u001b[1m1/1\u001b[0m \u001b[32m━━━━━━━━━━━━━━━━━━━━\u001b[0m\u001b[37m\u001b[0m \u001b[1m1s\u001b[0m 984ms/step\n",
            "\u001b[1m1/1\u001b[0m \u001b[32m━━━━━━━━━━━━━━━━━━━━\u001b[0m\u001b[37m\u001b[0m \u001b[1m1s\u001b[0m 849ms/step\n",
            "\u001b[1m1/1\u001b[0m \u001b[32m━━━━━━━━━━━━━━━━━━━━\u001b[0m\u001b[37m\u001b[0m \u001b[1m1s\u001b[0m 845ms/step\n",
            "\u001b[1m1/1\u001b[0m \u001b[32m━━━━━━━━━━━━━━━━━━━━\u001b[0m\u001b[37m\u001b[0m \u001b[1m1s\u001b[0m 841ms/step\n",
            "\u001b[1m1/1\u001b[0m \u001b[32m━━━━━━━━━━━━━━━━━━━━\u001b[0m\u001b[37m\u001b[0m \u001b[1m1s\u001b[0m 855ms/step\n",
            "\u001b[1m1/1\u001b[0m \u001b[32m━━━━━━━━━━━━━━━━━━━━\u001b[0m\u001b[37m\u001b[0m \u001b[1m1s\u001b[0m 856ms/step\n",
            "\u001b[1m1/1\u001b[0m \u001b[32m━━━━━━━━━━━━━━━━━━━━\u001b[0m\u001b[37m\u001b[0m \u001b[1m1s\u001b[0m 851ms/step\n",
            "\u001b[1m1/1\u001b[0m \u001b[32m━━━━━━━━━━━━━━━━━━━━\u001b[0m\u001b[37m\u001b[0m \u001b[1m1s\u001b[0m 964ms/step\n",
            "\u001b[1m1/1\u001b[0m \u001b[32m━━━━━━━━━━━━━━━━━━━━\u001b[0m\u001b[37m\u001b[0m \u001b[1m1s\u001b[0m 849ms/step\n",
            "\u001b[1m1/1\u001b[0m \u001b[32m━━━━━━━━━━━━━━━━━━━━\u001b[0m\u001b[37m\u001b[0m \u001b[1m1s\u001b[0m 853ms/step\n",
            "\u001b[1m1/1\u001b[0m \u001b[32m━━━━━━━━━━━━━━━━━━━━\u001b[0m\u001b[37m\u001b[0m \u001b[1m1s\u001b[0m 860ms/step\n",
            "\u001b[1m1/1\u001b[0m \u001b[32m━━━━━━━━━━━━━━━━━━━━\u001b[0m\u001b[37m\u001b[0m \u001b[1m1s\u001b[0m 856ms/step\n",
            "\u001b[1m1/1\u001b[0m \u001b[32m━━━━━━━━━━━━━━━━━━━━\u001b[0m\u001b[37m\u001b[0m \u001b[1m1s\u001b[0m 851ms/step\n",
            "\u001b[1m1/1\u001b[0m \u001b[32m━━━━━━━━━━━━━━━━━━━━\u001b[0m\u001b[37m\u001b[0m \u001b[1m1s\u001b[0m 837ms/step\n",
            "\u001b[1m1/1\u001b[0m \u001b[32m━━━━━━━━━━━━━━━━━━━━\u001b[0m\u001b[37m\u001b[0m \u001b[1m1s\u001b[0m 971ms/step\n",
            "\u001b[1m1/1\u001b[0m \u001b[32m━━━━━━━━━━━━━━━━━━━━\u001b[0m\u001b[37m\u001b[0m \u001b[1m1s\u001b[0m 983ms/step\n",
            "\u001b[1m1/1\u001b[0m \u001b[32m━━━━━━━━━━━━━━━━━━━━\u001b[0m\u001b[37m\u001b[0m \u001b[1m1s\u001b[0m 855ms/step\n",
            "\u001b[1m1/1\u001b[0m \u001b[32m━━━━━━━━━━━━━━━━━━━━\u001b[0m\u001b[37m\u001b[0m \u001b[1m1s\u001b[0m 848ms/step\n",
            "\u001b[1m1/1\u001b[0m \u001b[32m━━━━━━━━━━━━━━━━━━━━\u001b[0m\u001b[37m\u001b[0m \u001b[1m1s\u001b[0m 847ms/step\n",
            "\u001b[1m1/1\u001b[0m \u001b[32m━━━━━━━━━━━━━━━━━━━━\u001b[0m\u001b[37m\u001b[0m \u001b[1m1s\u001b[0m 856ms/step\n",
            "\u001b[1m1/1\u001b[0m \u001b[32m━━━━━━━━━━━━━━━━━━━━\u001b[0m\u001b[37m\u001b[0m \u001b[1m1s\u001b[0m 949ms/step\n"
          ]
        }
      ],
      "source": [
        "from nltk.translate.bleu_score import corpus_bleu\n",
        "\n",
        "# Reverse token dictionary for summary (assuming you have a tokenizer `tok` for summary)\n",
        "rev_tok_summary = {idx: word for word, idx in tok.word_index.items()}\n",
        "rev_tok_dialogue = {idx: word for word, idx in tok.word_index.items()}  # If the dialogue uses the same tokenizer\n",
        "\n",
        "# Define the batch size\n",
        "batch_size = 10\n",
        "\n",
        "# Initialize lists to store predictions and references\n",
        "predicted_summaries = []\n",
        "references = []\n",
        "\n",
        "# Predict on x_test data in batches\n",
        "for start in range(0, len(x_test), batch_size):\n",
        "    end = min(start + batch_size, len(x_test))\n",
        "    x_batch = x_test[start:end]\n",
        "    y_batch = y_test[start:end]  # Use the corresponding y_test for padding purposes\n",
        "\n",
        "    # Predict on the batch\n",
        "    predictions = model.predict([x_batch, y_batch], batch_size=batch_size)\n",
        "\n",
        "    # Convert predicted tokens to sentences (predicted summaries)\n",
        "    predicted_tokens_np = np.argmax(predictions, axis=-1)\n",
        "\n",
        "    for sample in predicted_tokens_np:\n",
        "        # Convert the predicted tokens into the corresponding words for the summary\n",
        "        predicted_sentence = ' '.join([rev_tok_summary.get(token, '<unknown>') for token in sample if token != 0 and token not in [tok.word_index.get('start'), tok.word_index.get('end')]])\n",
        "        predicted_summaries.append(predicted_sentence)\n",
        "\n",
        "    # Extract the true (actual) summaries for the BLEU score references\n",
        "    for i in range(len(y_batch)):\n",
        "        true_summary_sentence = ' '.join([rev_tok_summary.get(token, '<unknown>') for token in y_batch[i] if token != 0 and token not in [tok.word_index.get('start'), tok.word_index.get('end')]])\n",
        "        references.append([true_summary_sentence.split()])  # BLEU expects list of references for each hypothesis"
      ]
    },
    {
      "cell_type": "code",
      "execution_count": null,
      "id": "e59dc9d0",
      "metadata": {
        "execution": {
          "iopub.execute_input": "2024-09-27T12:28:02.497315Z",
          "iopub.status.busy": "2024-09-27T12:28:02.496911Z",
          "iopub.status.idle": "2024-09-27T12:28:02.645600Z",
          "shell.execute_reply": "2024-09-27T12:28:02.644617Z"
        },
        "papermill": {
          "duration": 0.562552,
          "end_time": "2024-09-27T12:28:02.647424",
          "exception": false,
          "start_time": "2024-09-27T12:28:02.084872",
          "status": "completed"
        },
        "tags": [],
        "id": "e59dc9d0",
        "outputId": "b76939a5-901f-4ab1-b58a-9e54db696edc",
        "colab": {
          "base_uri": "https://localhost:8080/"
        }
      },
      "outputs": [
        {
          "output_type": "stream",
          "name": "stdout",
          "text": [
            "BLEU score: 0.6835\n"
          ]
        }
      ],
      "source": [
        "bleu_score = corpus_bleu(references, [pred.split() for pred in predicted_summaries])\n",
        "print(f'BLEU score: {bleu_score:.4f}')"
      ]
    },
    {
      "cell_type": "markdown",
      "id": "f2b4734a",
      "metadata": {
        "papermill": {
          "duration": 0.411216,
          "end_time": "2024-09-27T12:28:03.508442",
          "exception": false,
          "start_time": "2024-09-27T12:28:03.097226",
          "status": "completed"
        },
        "tags": [],
        "id": "f2b4734a"
      },
      "source": [
        "## Predicitons"
      ]
    },
    {
      "cell_type": "code",
      "source": [
        "y_test[:5]"
      ],
      "metadata": {
        "colab": {
          "base_uri": "https://localhost:8080/"
        },
        "id": "vF2uZPeOCmQ0",
        "outputId": "9710a10d-be1e-4318-aa84-8b0f66f0c74a"
      },
      "id": "vF2uZPeOCmQ0",
      "execution_count": null,
      "outputs": [
        {
          "output_type": "execute_result",
          "data": {
            "text/plain": [
              "array([[  16,  380,  287, ...,    0,    0,    0],\n",
              "       [  16,  479,    6, ...,    0,    0,    0],\n",
              "       [  16, 1165,   81, ...,    0,    0,    0],\n",
              "       [  16,  252,   12, ...,    0,    0,    0],\n",
              "       [  16,  196,    7, ...,    0,    0,    0]], dtype=int32)"
            ]
          },
          "metadata": {},
          "execution_count": 56
        }
      ]
    },
    {
      "cell_type": "code",
      "execution_count": null,
      "id": "a0fc9735",
      "metadata": {
        "execution": {
          "iopub.execute_input": "2024-09-27T12:28:04.334088Z",
          "iopub.status.busy": "2024-09-27T12:28:04.333217Z",
          "iopub.status.idle": "2024-09-27T12:28:05.190791Z",
          "shell.execute_reply": "2024-09-27T12:28:05.189771Z"
        },
        "papermill": {
          "duration": 1.273875,
          "end_time": "2024-09-27T12:28:05.193071",
          "exception": false,
          "start_time": "2024-09-27T12:28:03.919196",
          "status": "completed"
        },
        "tags": [],
        "id": "a0fc9735",
        "outputId": "31e400d3-dd04-4ad8-ef88-a81d1419f247",
        "colab": {
          "base_uri": "https://localhost:8080/"
        }
      },
      "outputs": [
        {
          "output_type": "stream",
          "name": "stdout",
          "text": [
            "\u001b[1m1/1\u001b[0m \u001b[32m━━━━━━━━━━━━━━━━━━━━\u001b[0m\u001b[37m\u001b[0m \u001b[1m0s\u001b[0m 461ms/step\n",
            "Shape of predictions: (5, 819, 33260)\n",
            "Shape of predicted_tokens: (5, 819)\n",
            "Dialogue 1: hannah hey do you have bettys number amanda let me check hannah filegif amanda sorry cannot find it amanda ask larry amanda he called her last tears in my eyes we were at the park together hannah i do not know him well hannah filegif amanda do not be shy hes very nice hannah if you say so hannah id rather you texted him amanda just text him hannah urgh alright hannah bye amanda bye bye\n",
            "Predicted summary 1: hannah needs lonely number but amanda does not have it she needs to contact larry\n",
            "Actual summary 1: hannah needs bettys number but amanda does not have it she needs to contact larry\n",
            "\n",
            "Dialogue 2: eric machine rob that is so great eric i know and shows how americans see russian rob and its really funny eric i know i especially like the train part rob hahaha no one talks to the machine like that eric is this his only standup rob i do not know ill check eric sure rob turns out no there are some of his standups on youtube eric great ill watch them now rob me too eric machine rob machine eric talk to you later rob sure\n",
            "Predicted summary 2: eric and rob are going to watch a crush on youtube\n",
            "Actual summary 2: eric and rob are going to watch a standup on youtube\n",
            "\n",
            "Dialogue 3: lenny babe can you help me with something bob sure what is up lenny which one should i pick bob send me photos lenny filephoto lenny filephoto lenny filephoto bob i like the first ones best lenny but i already have purple trousers does it make sense to have two pairs bob i have four black pairs d d lenny yeah but should not i pick a different color bob what matters is what you will give you the most outfit options lenny so i guess ill buy the first or the third pair then bob pick the best quality then lenny you are right thank you bob no prob\n",
            "Predicted summary 3: lenny cannot decide which sweets to buy bob advised lenny on that pasta lenny goes with uses advice to pick the united that are of best quality\n",
            "Actual summary 3: lenny cannot decide which trousers to buy bob advised lenny on that topic lenny goes with bobs advice to pick the trousers that are of best quality\n",
            "\n",
            "Dialogue 4: will hey babe what do you want for dinner tonight emma gah do not even worry about it tonight will what do you mean everything ok emma not really but its ok do not worry about cooking though i am not hungry will well what tears in my eyes will you be home emma soon hopefully will you sure maybe you want me to pick you up emma no no its alright ill be home soon ill tell you when i get home will alright love you emma love you too\n",
            "Predicted summary 4: emma will be home soon and she will let will know\n",
            "Actual summary 4: emma will be home soon and she will let will know\n",
            "\n",
            "Dialogue 5: ollie hi are you in warsaw jane yes just back by the way are you free for diner the 19th ollie nope jane and the 18th ollie nope we have this party and you must be there remember jane oh right i lost my calendar thanks for reminding me ollie we have lunch this week jane with pleasure ollie friday jane ok jane what do you mean we do not have any more whisky laughing out loud ollie what jane you just call me and the all thing i heard was that sentence about whisky what is wrong with you ollie oh oh very strange i have to be carefull may be there is some spy in my mobile laughing out loud jane do not worry well check on friday ollie do not forget to bring some sun with you jane i cannot wait to be in morocco ollie enjoy and see you friday jane sorry ollie i am very busy i will not have tears in my eyes for lunch tomorrow but may be at 6pm after my trip to morocco was so nice but tears in my eyes consuming ollie ok for tea jane i am on my way ollie tea is ready did you bring the pastries jane i already ate them all see you in a minute ollie ok\n",
            "Predicted summary 5: jane is in warsaw elisabeth and jane has a party jane lost her mountain they will get a lunch this week on friday elisabeth landed called jane and talked about yucatan jane travis lunch they will meet for a tea at 6 pm\n",
            "Actual summary 5: jane is in warsaw ollie and jane has a party jane lost her calendar they will get a lunch this week on friday ollie accidentally called jane and talked about whisky jane cancels lunch they will meet for a tea at 6 pm\n",
            "\n"
          ]
        }
      ],
      "source": [
        "import numpy as np\n",
        "import os\n",
        "os.environ['CUDA_VISIBLE_DEVICES'] = '-1'\n",
        "\n",
        "# Reverse token dictionaries\n",
        "rev_tok = {idx: word for word, idx in tok.word_index.items()}\n",
        "\n",
        "# Select a subset of test data\n",
        "num_samples = 5\n",
        "x_test_subset = x_test[:num_samples]\n",
        "y_test_padded_subset = y_test[:num_samples]\n",
        "\n",
        "# Predict\n",
        "predictions = model.predict([x_test_subset, y_test_padded_subset], batch_size=16)\n",
        "print('Shape of predictions:', predictions.shape)\n",
        "\n",
        "# Convert predictions to token indices\n",
        "predicted_tokens_np = np.argmax(predictions, axis=-1)\n",
        "print('Shape of predicted_tokens:', predicted_tokens_np.shape)\n",
        "\n",
        "# Map indices to tokens and remove 'start' and 'end' tokens from predicted summary\n",
        "predicted_sentences = []\n",
        "for sample in predicted_tokens_np:\n",
        "    sentence = ' '.join([rev_tok.get(token, '<unknown>') for token in sample if token != 0 and token not in [tok.word_index.get('start'), tok.word_index.get('end')]])  # Exclude padding, 'start', and 'end' tokens\n",
        "    predicted_sentences.append(sentence)\n",
        "\n",
        "# Reverse token dictionary for the dialogue (assuming you have `tok_english` for dialogue tokens)\n",
        "rev_tok_english = {idx: word for word, idx in tok.word_index.items()}\n",
        "\n",
        "# Map the dialogue input to sentences\n",
        "english_sentences = []\n",
        "for sample in x_test_subset:\n",
        "    sentence = ' '.join([rev_tok_english.get(token, '<unknown>') for token in sample if token != 0])  # Exclude padding token\n",
        "    english_sentences.append(sentence)\n",
        "\n",
        "# Map actual summaries from y_test to sentences\n",
        "actual_summaries = []\n",
        "for sample in y_test_padded_subset:\n",
        "    sentence = ' '.join([rev_tok.get(token, '<unknown>') for token in sample if token != 0 and token not in [tok.word_index.get('start'), tok.word_index.get('end')]])  # Exclude padding, 'start', and 'end' tokens\n",
        "    actual_summaries.append(sentence)\n",
        "\n",
        "# Print the dialogue, predicted summary, and actual summary\n",
        "for idx, (eng_sentence, pred_summary, actual_summary) in enumerate(zip(english_sentences, predicted_sentences, actual_summaries)):\n",
        "    print(f'Dialogue {idx + 1}: {eng_sentence}')\n",
        "    print(f'Predicted summary {idx + 1}: {pred_summary}')\n",
        "    print(f'Actual summary {idx + 1}: {actual_summary}\\n')\n"
      ]
    },
    {
      "cell_type": "markdown",
      "id": "db545cfa",
      "metadata": {
        "papermill": {
          "duration": 0.410449,
          "end_time": "2024-09-27T12:28:06.052799",
          "exception": false,
          "start_time": "2024-09-27T12:28:05.642350",
          "status": "completed"
        },
        "tags": [],
        "id": "db545cfa"
      },
      "source": [
        "## Save the Model"
      ]
    },
    {
      "cell_type": "code",
      "execution_count": null,
      "id": "57e62606",
      "metadata": {
        "execution": {
          "iopub.execute_input": "2024-09-27T12:28:06.885774Z",
          "iopub.status.busy": "2024-09-27T12:28:06.885014Z",
          "iopub.status.idle": "2024-09-27T12:28:07.406144Z",
          "shell.execute_reply": "2024-09-27T12:28:07.404928Z"
        },
        "papermill": {
          "duration": 0.939317,
          "end_time": "2024-09-27T12:28:07.408775",
          "exception": false,
          "start_time": "2024-09-27T12:28:06.469458",
          "status": "completed"
        },
        "tags": [],
        "id": "57e62606",
        "outputId": "e9e6aaf1-effe-4cac-ea9d-c1b53a7fe78f",
        "colab": {
          "base_uri": "https://localhost:8080/"
        }
      },
      "outputs": [
        {
          "output_type": "stream",
          "name": "stderr",
          "text": [
            "WARNING:absl:You are saving your model as an HDF5 file via `model.save()` or `keras.saving.save_model(model)`. This file format is considered legacy. We recommend using instead the native Keras format, e.g. `model.save('my_model.keras')` or `keras.saving.save_model(model, 'my_model.keras')`. \n"
          ]
        },
        {
          "output_type": "stream",
          "name": "stdout",
          "text": [
            "Model saved succesfully!!\n"
          ]
        }
      ],
      "source": [
        "model.save('encoder_decoder_model.h5')\n",
        "print('Model saved succesfully!!')"
      ]
    },
    {
      "cell_type": "code",
      "source": [
        "from tensorflow.keras.models import load_model\n",
        "from tensorflow.keras.preprocessing.sequence import pad_sequences\n",
        "\n",
        "os.environ['CUDA_VISIBLE_DEVICES'] = '-1'\n",
        "\n",
        "def summarize_user_input(user_input, tok, model, max_length_combined):\n",
        "    input_text = user_input.lower()\n",
        "    input_text = remove_html_tags(input_text)\n",
        "    input_text = remove_url(input_text)\n",
        "    input_text = remove_emoji(input_text)\n",
        "    input_text = expand_contractions(input_text)\n",
        "\n",
        "    input_seq = tok.texts_to_sequences([input_text])\n",
        "    input_seq = pad_sequences(input_seq, maxlen=max_length_combined, padding='post')\n",
        "    target_seq = np.zeros_like(input_seq)  # Initialize the target sequence as zeros\n",
        "\n",
        "    print(\"Input Sequence:\", input_seq)\n",
        "    print(\"Target Sequence:\", target_seq)\n",
        "\n",
        "    prediction = model.predict([input_seq, target_seq], batch_size=1)\n",
        "    print(\"Raw Prediction Shape:\", prediction.shape)\n",
        "    print(\"Raw Prediction:\", prediction)\n",
        "\n",
        "    # Get the token with the highest probability for each position\n",
        "    predicted_tokens = np.argmax(prediction, axis=-1)\n",
        "    print(\"Predicted Tokens:\", predicted_tokens)\n",
        "\n",
        "    rev_tok = {idx: word for word, idx in tok.word_index.items()}\n",
        "\n",
        "    summary_text = ' '.join([rev_tok.get(token, '<unknown>') for token in predicted_tokens[0]\n",
        "                            if token != 0 and token not in [tok.word_index.get('start'), tok.word_index.get('end')]])\n",
        "\n",
        "    return summary_text\n",
        "\n",
        "user_input = \"Artificial intelligence (AI) is intelligence demonstrated by machines, unlike the natural intelligence displayed by humans and animals. Leading AI textbooks define the field as the study of 'intelligent agents': any device that perceives its environment and takes actions that maximize its chance of successfully achieving its goals. Colloquially, the term 'artificial intelligence' is often used to describe machines (or computers) that mimic 'cognitive' functions that humans associate with the human mind, such as 'learning' and 'problem-solving.\"\n",
        "summary = summarize_user_input(user_input, tok, model, max_length_combined)\n",
        "print(\"Summarized Content: \", summary)"
      ],
      "metadata": {
        "colab": {
          "base_uri": "https://localhost:8080/"
        },
        "id": "GTcV31q14jsR",
        "outputId": "093ca3f6-c219-4b41-c8e5-7012780cd8bb"
      },
      "id": "GTcV31q14jsR",
      "execution_count": null,
      "outputs": [
        {
          "output_type": "stream",
          "name": "stdout",
          "text": [
            "Input Sequence: [[ 8570 23664  5885     7 23664 25059   118  5493  4990     4  2499 23664\n",
            "  13691   118  6250     6  2665  7173  5885 20929 12965     4  2333    57\n",
            "      4   937    19  9073 28970   124  5797    14 22422    31  4907     6\n",
            "   1117  8019    14 17980    31   873    19 11555 32058    31  4779     4\n",
            "   2441  8570 23664     7  1159   488     3  4481  5493    82  9518    14\n",
            "  28379 20420  8813    14  6250    29     4  3244   398   358    57  2068\n",
            "      6     0     0     0     0     0     0     0     0     0     0     0\n",
            "      0     0     0     0     0     0     0     0     0     0     0     0\n",
            "      0     0     0     0     0     0     0     0     0     0     0     0\n",
            "      0     0     0     0     0     0     0     0     0     0     0     0\n",
            "      0     0     0     0     0     0     0     0     0     0     0     0\n",
            "      0     0     0     0     0     0     0     0     0     0     0     0\n",
            "      0     0     0     0     0     0     0     0     0     0     0     0\n",
            "      0     0     0     0     0     0     0     0     0     0     0     0\n",
            "      0     0     0     0     0     0     0     0     0     0     0     0\n",
            "      0     0     0     0     0     0     0     0     0     0     0     0\n",
            "      0     0     0     0     0     0     0     0     0     0     0     0\n",
            "      0     0     0     0     0     0     0     0     0     0     0     0\n",
            "      0     0     0     0     0     0     0     0     0     0     0     0\n",
            "      0     0     0     0     0     0     0     0     0     0     0     0\n",
            "      0     0     0     0     0     0     0     0     0     0     0     0\n",
            "      0     0     0     0     0     0     0     0     0     0     0     0\n",
            "      0     0     0     0     0     0     0     0     0     0     0     0\n",
            "      0     0     0     0     0     0     0     0     0     0     0     0\n",
            "      0     0     0     0     0     0     0     0     0     0     0     0\n",
            "      0     0     0     0     0     0     0     0     0     0     0     0\n",
            "      0     0     0     0     0     0     0     0     0     0     0     0\n",
            "      0     0     0     0     0     0     0     0     0     0     0     0\n",
            "      0     0     0     0     0     0     0     0     0     0     0     0\n",
            "      0     0     0     0     0     0     0     0     0     0     0     0\n",
            "      0     0     0     0     0     0     0     0     0     0     0     0\n",
            "      0     0     0     0     0     0     0     0     0     0     0     0\n",
            "      0     0     0     0     0     0     0     0     0     0     0     0\n",
            "      0     0     0     0     0     0     0     0     0     0     0     0\n",
            "      0     0     0     0     0     0     0     0     0     0     0     0\n",
            "      0     0     0     0     0     0     0     0     0     0     0     0\n",
            "      0     0     0     0     0     0     0     0     0     0     0     0\n",
            "      0     0     0     0     0     0     0     0     0     0     0     0\n",
            "      0     0     0     0     0     0     0     0     0     0     0     0\n",
            "      0     0     0     0     0     0     0     0     0     0     0     0\n",
            "      0     0     0     0     0     0     0     0     0     0     0     0\n",
            "      0     0     0     0     0     0     0     0     0     0     0     0\n",
            "      0     0     0     0     0     0     0     0     0     0     0     0\n",
            "      0     0     0     0     0     0     0     0     0     0     0     0\n",
            "      0     0     0     0     0     0     0     0     0     0     0     0\n",
            "      0     0     0     0     0     0     0     0     0     0     0     0\n",
            "      0     0     0     0     0     0     0     0     0     0     0     0\n",
            "      0     0     0     0     0     0     0     0     0     0     0     0\n",
            "      0     0     0     0     0     0     0     0     0     0     0     0\n",
            "      0     0     0     0     0     0     0     0     0     0     0     0\n",
            "      0     0     0     0     0     0     0     0     0     0     0     0\n",
            "      0     0     0     0     0     0     0     0     0     0     0     0\n",
            "      0     0     0     0     0     0     0     0     0     0     0     0\n",
            "      0     0     0     0     0     0     0     0     0     0     0     0\n",
            "      0     0     0     0     0     0     0     0     0     0     0     0\n",
            "      0     0     0     0     0     0     0     0     0     0     0     0\n",
            "      0     0     0     0     0     0     0     0     0     0     0     0\n",
            "      0     0     0     0     0     0     0     0     0     0     0     0\n",
            "      0     0     0     0     0     0     0     0     0     0     0     0\n",
            "      0     0     0     0     0     0     0     0     0     0     0     0\n",
            "      0     0     0     0     0     0     0     0     0     0     0     0\n",
            "      0     0     0     0     0     0     0     0     0     0     0     0\n",
            "      0     0     0     0     0     0     0     0     0     0     0     0\n",
            "      0     0     0     0     0     0     0     0     0     0     0     0\n",
            "      0     0     0     0     0     0     0     0     0     0     0     0\n",
            "      0     0     0     0     0     0     0     0     0     0     0     0\n",
            "      0     0     0     0     0     0     0     0     0     0     0     0\n",
            "      0     0     0     0     0     0     0     0     0     0     0     0\n",
            "      0     0     0]]\n",
            "Target Sequence: [[0 0 0 0 0 0 0 0 0 0 0 0 0 0 0 0 0 0 0 0 0 0 0 0 0 0 0 0 0 0 0 0 0 0 0 0\n",
            "  0 0 0 0 0 0 0 0 0 0 0 0 0 0 0 0 0 0 0 0 0 0 0 0 0 0 0 0 0 0 0 0 0 0 0 0\n",
            "  0 0 0 0 0 0 0 0 0 0 0 0 0 0 0 0 0 0 0 0 0 0 0 0 0 0 0 0 0 0 0 0 0 0 0 0\n",
            "  0 0 0 0 0 0 0 0 0 0 0 0 0 0 0 0 0 0 0 0 0 0 0 0 0 0 0 0 0 0 0 0 0 0 0 0\n",
            "  0 0 0 0 0 0 0 0 0 0 0 0 0 0 0 0 0 0 0 0 0 0 0 0 0 0 0 0 0 0 0 0 0 0 0 0\n",
            "  0 0 0 0 0 0 0 0 0 0 0 0 0 0 0 0 0 0 0 0 0 0 0 0 0 0 0 0 0 0 0 0 0 0 0 0\n",
            "  0 0 0 0 0 0 0 0 0 0 0 0 0 0 0 0 0 0 0 0 0 0 0 0 0 0 0 0 0 0 0 0 0 0 0 0\n",
            "  0 0 0 0 0 0 0 0 0 0 0 0 0 0 0 0 0 0 0 0 0 0 0 0 0 0 0 0 0 0 0 0 0 0 0 0\n",
            "  0 0 0 0 0 0 0 0 0 0 0 0 0 0 0 0 0 0 0 0 0 0 0 0 0 0 0 0 0 0 0 0 0 0 0 0\n",
            "  0 0 0 0 0 0 0 0 0 0 0 0 0 0 0 0 0 0 0 0 0 0 0 0 0 0 0 0 0 0 0 0 0 0 0 0\n",
            "  0 0 0 0 0 0 0 0 0 0 0 0 0 0 0 0 0 0 0 0 0 0 0 0 0 0 0 0 0 0 0 0 0 0 0 0\n",
            "  0 0 0 0 0 0 0 0 0 0 0 0 0 0 0 0 0 0 0 0 0 0 0 0 0 0 0 0 0 0 0 0 0 0 0 0\n",
            "  0 0 0 0 0 0 0 0 0 0 0 0 0 0 0 0 0 0 0 0 0 0 0 0 0 0 0 0 0 0 0 0 0 0 0 0\n",
            "  0 0 0 0 0 0 0 0 0 0 0 0 0 0 0 0 0 0 0 0 0 0 0 0 0 0 0 0 0 0 0 0 0 0 0 0\n",
            "  0 0 0 0 0 0 0 0 0 0 0 0 0 0 0 0 0 0 0 0 0 0 0 0 0 0 0 0 0 0 0 0 0 0 0 0\n",
            "  0 0 0 0 0 0 0 0 0 0 0 0 0 0 0 0 0 0 0 0 0 0 0 0 0 0 0 0 0 0 0 0 0 0 0 0\n",
            "  0 0 0 0 0 0 0 0 0 0 0 0 0 0 0 0 0 0 0 0 0 0 0 0 0 0 0 0 0 0 0 0 0 0 0 0\n",
            "  0 0 0 0 0 0 0 0 0 0 0 0 0 0 0 0 0 0 0 0 0 0 0 0 0 0 0 0 0 0 0 0 0 0 0 0\n",
            "  0 0 0 0 0 0 0 0 0 0 0 0 0 0 0 0 0 0 0 0 0 0 0 0 0 0 0 0 0 0 0 0 0 0 0 0\n",
            "  0 0 0 0 0 0 0 0 0 0 0 0 0 0 0 0 0 0 0 0 0 0 0 0 0 0 0 0 0 0 0 0 0 0 0 0\n",
            "  0 0 0 0 0 0 0 0 0 0 0 0 0 0 0 0 0 0 0 0 0 0 0 0 0 0 0 0 0 0 0 0 0 0 0 0\n",
            "  0 0 0 0 0 0 0 0 0 0 0 0 0 0 0 0 0 0 0 0 0 0 0 0 0 0 0 0 0 0 0 0 0 0 0 0\n",
            "  0 0 0 0 0 0 0 0 0 0 0 0 0 0 0 0 0 0 0 0 0 0 0 0 0 0 0]]\n",
            "\u001b[1m1/1\u001b[0m \u001b[32m━━━━━━━━━━━━━━━━━━━━\u001b[0m\u001b[37m\u001b[0m \u001b[1m0s\u001b[0m 129ms/step\n",
            "Raw Prediction Shape: (1, 819, 33260)\n",
            "Raw Prediction: [[[5.90573112e-03 1.04008322e-07 1.16125541e-07 ... 1.82702076e-09\n",
            "   1.64352931e-09 1.91868255e-09]\n",
            "  [6.95920363e-02 6.38461586e-07 1.24696692e-06 ... 1.27932989e-08\n",
            "   1.05216937e-08 1.35347555e-08]\n",
            "  [7.74395406e-01 2.11571751e-06 5.24443703e-06 ... 5.13463512e-08\n",
            "   4.15917718e-08 5.31084865e-08]\n",
            "  ...\n",
            "  [9.99924779e-01 4.04308445e-08 1.29139970e-08 ... 8.18080992e-10\n",
            "   6.99312108e-10 8.73757622e-10]\n",
            "  [9.99924779e-01 4.04308445e-08 1.29139970e-08 ... 8.18080992e-10\n",
            "   6.99312108e-10 8.73757622e-10]\n",
            "  [9.99924779e-01 4.04308445e-08 1.29139970e-08 ... 8.18080992e-10\n",
            "   6.99312108e-10 8.73757622e-10]]]\n",
            "Predicted Tokens: [[16 16  0  0  0  0  0  0  0  0  0  0  0  0  0  0  0  0  0  0  0  0  0  0\n",
            "   0  0  0  0  0  0  0  0  0  0  0  0  0  0  0  0  0  0  0  0  0  0  0  0\n",
            "   0  0  0  0  0  0  0  0  0  0  0  0  0  0  0  0  0  0  0  0  0  0  0  0\n",
            "   0  0  0  0  0  0  0  0  0  0  0  0  0  0  0  0  0  0  0  0  0  0  0  0\n",
            "   0  0  0  0  0  0  0  0  0  0  0  0  0  0  0  0  0  0  0  0  0  0  0  0\n",
            "   0  0  0  0  0  0  0  0  0  0  0  0  0  0  0  0  0  0  0  0  0  0  0  0\n",
            "   0  0  0  0  0  0  0  0  0  0  0  0  0  0  0  0  0  0  0  0  0  0  0  0\n",
            "   0  0  0  0  0  0  0  0  0  0  0  0  0  0  0  0  0  0  0  0  0  0  0  0\n",
            "   0  0  0  0  0  0  0  0  0  0  0  0  0  0  0  0  0  0  0  0  0  0  0  0\n",
            "   0  0  0  0  0  0  0  0  0  0  0  0  0  0  0  0  0  0  0  0  0  0  0  0\n",
            "   0  0  0  0  0  0  0  0  0  0  0  0  0  0  0  0  0  0  0  0  0  0  0  0\n",
            "   0  0  0  0  0  0  0  0  0  0  0  0  0  0  0  0  0  0  0  0  0  0  0  0\n",
            "   0  0  0  0  0  0  0  0  0  0  0  0  0  0  0  0  0  0  0  0  0  0  0  0\n",
            "   0  0  0  0  0  0  0  0  0  0  0  0  0  0  0  0  0  0  0  0  0  0  0  0\n",
            "   0  0  0  0  0  0  0  0  0  0  0  0  0  0  0  0  0  0  0  0  0  0  0  0\n",
            "   0  0  0  0  0  0  0  0  0  0  0  0  0  0  0  0  0  0  0  0  0  0  0  0\n",
            "   0  0  0  0  0  0  0  0  0  0  0  0  0  0  0  0  0  0  0  0  0  0  0  0\n",
            "   0  0  0  0  0  0  0  0  0  0  0  0  0  0  0  0  0  0  0  0  0  0  0  0\n",
            "   0  0  0  0  0  0  0  0  0  0  0  0  0  0  0  0  0  0  0  0  0  0  0  0\n",
            "   0  0  0  0  0  0  0  0  0  0  0  0  0  0  0  0  0  0  0  0  0  0  0  0\n",
            "   0  0  0  0  0  0  0  0  0  0  0  0  0  0  0  0  0  0  0  0  0  0  0  0\n",
            "   0  0  0  0  0  0  0  0  0  0  0  0  0  0  0  0  0  0  0  0  0  0  0  0\n",
            "   0  0  0  0  0  0  0  0  0  0  0  0  0  0  0  0  0  0  0  0  0  0  0  0\n",
            "   0  0  0  0  0  0  0  0  0  0  0  0  0  0  0  0  0  0  0  0  0  0  0  0\n",
            "   0  0  0  0  0  0  0  0  0  0  0  0  0  0  0  0  0  0  0  0  0  0  0  0\n",
            "   0  0  0  0  0  0  0  0  0  0  0  0  0  0  0  0  0  0  0  0  0  0  0  0\n",
            "   0  0  0  0  0  0  0  0  0  0  0  0  0  0  0  0  0  0  0  0  0  0  0  0\n",
            "   0  0  0  0  0  0  0  0  0  0  0  0  0  0  0  0  0  0  0  0  0  0  0  0\n",
            "   0  0  0  0  0  0  0  0  0  0  0  0  0  0  0  0  0  0  0  0  0  0  0  0\n",
            "   0  0  0  0  0  0  0  0  0  0  0  0  0  0  0  0  0  0  0  0  0  0  0  0\n",
            "   0  0  0  0  0  0  0  0  0  0  0  0  0  0  0  0  0  0  0  0  0  0  0  0\n",
            "   0  0  0  0  0  0  0  0  0  0  0  0  0  0  0  0  0  0  0  0  0  0  0  0\n",
            "   0  0  0  0  0  0  0  0  0  0  0  0  0  0  0  0  0  0  0  0  0  0  0  0\n",
            "   0  0  0  0  0  0  0  0  0  0  0  0  0  0  0  0  0  0  0  0  0  0  0  0\n",
            "   0  0  0]]\n",
            "Summarized Content:  \n"
          ]
        }
      ]
    }
  ],
  "metadata": {
    "kaggle": {
      "accelerator": "nvidiaTeslaT4",
      "dataSources": [
        {
          "datasetId": 3438844,
          "sourceId": 6004344,
          "sourceType": "datasetVersion"
        }
      ],
      "dockerImageVersionId": 30776,
      "isGpuEnabled": true,
      "isInternetEnabled": true,
      "language": "python",
      "sourceType": "notebook"
    },
    "kernelspec": {
      "display_name": "Python 3",
      "name": "python3"
    },
    "language_info": {
      "codemirror_mode": {
        "name": "ipython",
        "version": 3
      },
      "file_extension": ".py",
      "mimetype": "text/x-python",
      "name": "python",
      "nbconvert_exporter": "python",
      "pygments_lexer": "ipython3",
      "version": "3.10.14"
    },
    "papermill": {
      "default_parameters": {},
      "duration": 1920.850976,
      "end_time": "2024-09-27T12:28:12.369768",
      "environment_variables": {},
      "exception": null,
      "input_path": "__notebook__.ipynb",
      "output_path": "__notebook__.ipynb",
      "parameters": {},
      "start_time": "2024-09-27T11:56:11.518792",
      "version": "2.6.0"
    },
    "colab": {
      "provenance": [],
      "toc_visible": true,
      "gpuType": "T4"
    },
    "accelerator": "GPU"
  },
  "nbformat": 4,
  "nbformat_minor": 5
}